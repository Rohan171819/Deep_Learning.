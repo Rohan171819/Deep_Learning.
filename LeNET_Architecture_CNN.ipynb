{
  "nbformat": 4,
  "nbformat_minor": 0,
  "metadata": {
    "colab": {
      "provenance": [],
      "gpuType": "T4",
      "authorship_tag": "ABX9TyMQDpddzctYzwiCo/D3Tzez",
      "include_colab_link": true
    },
    "kernelspec": {
      "name": "python3",
      "display_name": "Python 3"
    },
    "language_info": {
      "name": "python"
    },
    "accelerator": "GPU"
  },
  "cells": [
    {
      "cell_type": "markdown",
      "metadata": {
        "id": "view-in-github",
        "colab_type": "text"
      },
      "source": [
        "<a href=\"https://colab.research.google.com/github/Rohan171819/Deep_Learning./blob/main/LeNET_Architecture_CNN.ipynb\" target=\"_parent\"><img src=\"https://colab.research.google.com/assets/colab-badge.svg\" alt=\"Open In Colab\"/></a>"
      ]
    },
    {
      "cell_type": "code",
      "execution_count": 36,
      "metadata": {
        "id": "fpsgy1LH95J_"
      },
      "outputs": [],
      "source": [
        "import pandas as pd\n",
        "import numpy as np\n",
        "from keras.datasets import mnist"
      ]
    },
    {
      "cell_type": "code",
      "source": [
        "(X_train,Y_train),(X_test,Y_test)=mnist.load_data()"
      ],
      "metadata": {
        "id": "PJh5HelB-Pb0"
      },
      "execution_count": 37,
      "outputs": []
    },
    {
      "cell_type": "code",
      "source": [
        "print(X_train[0].shape)\n",
        "print(\"------------------\")\n",
        "print((X_train.shape))\n",
        "print(Y_train.shape)\n",
        "print(\"------------------\")\n",
        "print(X_test.shape)\n",
        "print(Y_test.shape)"
      ],
      "metadata": {
        "colab": {
          "base_uri": "https://localhost:8080/"
        },
        "id": "5d17WM6XA4zU",
        "outputId": "30be5e2a-892d-4225-b98d-fffd95596968"
      },
      "execution_count": 38,
      "outputs": [
        {
          "output_type": "stream",
          "name": "stdout",
          "text": [
            "(28, 28)\n",
            "------------------\n",
            "(60000, 28, 28)\n",
            "(60000,)\n",
            "------------------\n",
            "(10000, 28, 28)\n",
            "(10000,)\n"
          ]
        }
      ]
    },
    {
      "cell_type": "code",
      "source": [
        "import tensorflow\n",
        "from tensorflow import keras\n",
        "from tensorflow.keras import Sequential\n",
        "from tensorflow.keras.layers import Dense,Conv2D,MaxPooling2D,AveragePooling2D,Flatten"
      ],
      "metadata": {
        "id": "toYI6lBz-Pk3"
      },
      "execution_count": 39,
      "outputs": []
    },
    {
      "cell_type": "markdown",
      "source": [
        "# Basic CNN Architecture"
      ],
      "metadata": {
        "id": "b5fgYAq8ARhr"
      }
    },
    {
      "cell_type": "code",
      "source": [
        "# Without Using Padding...\n",
        "\n",
        "# CNN Architecture..\n",
        "model=Sequential()\n",
        "model.add(Conv2D(5,kernel_size=(3,3),padding=\"valid\",activation=\"relu\",input_shape=(28,28,1)))\n",
        "model.add(Conv2D(5,kernel_size=(3,3),padding=\"valid\",activation=\"relu\"))\n",
        "\n",
        "model.add(Flatten())\n",
        "# Dense Layers..\n",
        "model.add(Dense(50,activation=\"relu\"))\n",
        "model.add(Dense(50,activation=\"relu\"))"
      ],
      "metadata": {
        "id": "4zIqDOQVAQtE"
      },
      "execution_count": 40,
      "outputs": []
    },
    {
      "cell_type": "code",
      "source": [
        "model.summary()"
      ],
      "metadata": {
        "colab": {
          "base_uri": "https://localhost:8080/"
        },
        "id": "4aHhPW62APbs",
        "outputId": "3ef74947-7acd-4419-fe02-d1f4ed80ab25"
      },
      "execution_count": 41,
      "outputs": [
        {
          "output_type": "stream",
          "name": "stdout",
          "text": [
            "Model: \"sequential_7\"\n",
            "_________________________________________________________________\n",
            " Layer (type)                Output Shape              Param #   \n",
            "=================================================================\n",
            " conv2d_14 (Conv2D)          (None, 26, 26, 5)         50        \n",
            "                                                                 \n",
            " conv2d_15 (Conv2D)          (None, 24, 24, 5)         230       \n",
            "                                                                 \n",
            " flatten_3 (Flatten)         (None, 2880)              0         \n",
            "                                                                 \n",
            " dense_14 (Dense)            (None, 50)                144050    \n",
            "                                                                 \n",
            " dense_15 (Dense)            (None, 50)                2550      \n",
            "                                                                 \n",
            "=================================================================\n",
            "Total params: 146,880\n",
            "Trainable params: 146,880\n",
            "Non-trainable params: 0\n",
            "_________________________________________________________________\n"
          ]
        }
      ]
    },
    {
      "cell_type": "code",
      "source": [
        "model.compile(loss=\"sparse_categorical_crossentropy\",optimizer=\"Adam\",metrics=[\"accuracy\"])"
      ],
      "metadata": {
        "id": "Rr34Az1SAPei"
      },
      "execution_count": 42,
      "outputs": []
    },
    {
      "cell_type": "code",
      "source": [
        "# With Using Padding...\n",
        "\n",
        "# CNN Architecture..\n",
        "model=Sequential()\n",
        "model.add(Conv2D(5,kernel_size=(3,3),strides=(2,2),padding=\"same\",activation=\"relu\",input_shape=(28,28,1)))\n",
        "model.add(Conv2D(5,kernel_size=(3,3),strides=(2,2),padding=\"same\",activation=\"relu\"))\n",
        "\n",
        "model.add(Flatten())\n",
        "# Dense Layers..\n",
        "model.add(Dense(50,activation=\"relu\"))\n",
        "model.add(Dense(50,activation=\"relu\"))"
      ],
      "metadata": {
        "id": "6AkOdvy3HJtm"
      },
      "execution_count": 43,
      "outputs": []
    },
    {
      "cell_type": "code",
      "source": [
        "model.summary()"
      ],
      "metadata": {
        "colab": {
          "base_uri": "https://localhost:8080/"
        },
        "id": "HNRepeoMHZx5",
        "outputId": "4b35a06a-5b2a-4045-f3c3-d2d00c13e1bc"
      },
      "execution_count": 44,
      "outputs": [
        {
          "output_type": "stream",
          "name": "stdout",
          "text": [
            "Model: \"sequential_8\"\n",
            "_________________________________________________________________\n",
            " Layer (type)                Output Shape              Param #   \n",
            "=================================================================\n",
            " conv2d_16 (Conv2D)          (None, 14, 14, 5)         50        \n",
            "                                                                 \n",
            " conv2d_17 (Conv2D)          (None, 7, 7, 5)           230       \n",
            "                                                                 \n",
            " flatten_4 (Flatten)         (None, 245)               0         \n",
            "                                                                 \n",
            " dense_16 (Dense)            (None, 50)                12300     \n",
            "                                                                 \n",
            " dense_17 (Dense)            (None, 50)                2550      \n",
            "                                                                 \n",
            "=================================================================\n",
            "Total params: 15,130\n",
            "Trainable params: 15,130\n",
            "Non-trainable params: 0\n",
            "_________________________________________________________________\n"
          ]
        }
      ]
    },
    {
      "cell_type": "markdown",
      "source": [
        "# LeNET Architecture..."
      ],
      "metadata": {
        "id": "4q6lHR-pHtBZ"
      }
    },
    {
      "cell_type": "code",
      "source": [
        "# LeNET CNN Architecture..\n",
        "model=Sequential()\n",
        "model.add(Conv2D(6,kernel_size=(5,5),padding=\"valid\",activation=\"tanh\",input_shape=(32,32,1)))\n",
        "model.add(AveragePooling2D(pool_size=(2,2,),strides=2,padding=\"valid\"))\n",
        "model.add(Conv2D(16,kernel_size=(5,5),padding=\"valid\",activation=\"tanh\"))\n",
        "model.add(AveragePooling2D(pool_size=(2,2,),strides=2,padding=\"valid\"))\n",
        "\n",
        "model.add(Flatten())\n",
        "# Dense Layers..\n",
        "model.add(Dense(50,activation=\"relu\"))\n",
        "model.add(Dense(50,activation=\"relu\"))"
      ],
      "metadata": {
        "id": "186MDumlHnjI"
      },
      "execution_count": 45,
      "outputs": []
    },
    {
      "cell_type": "code",
      "source": [
        "model.summary()"
      ],
      "metadata": {
        "colab": {
          "base_uri": "https://localhost:8080/"
        },
        "id": "zhjzlYduHne9",
        "outputId": "095c7751-6c1d-42e7-ddb8-d1229c4c63db"
      },
      "execution_count": 46,
      "outputs": [
        {
          "output_type": "stream",
          "name": "stdout",
          "text": [
            "Model: \"sequential_9\"\n",
            "_________________________________________________________________\n",
            " Layer (type)                Output Shape              Param #   \n",
            "=================================================================\n",
            " conv2d_18 (Conv2D)          (None, 28, 28, 6)         156       \n",
            "                                                                 \n",
            " average_pooling2d_2 (Averag  (None, 14, 14, 6)        0         \n",
            " ePooling2D)                                                     \n",
            "                                                                 \n",
            " conv2d_19 (Conv2D)          (None, 10, 10, 16)        2416      \n",
            "                                                                 \n",
            " average_pooling2d_3 (Averag  (None, 5, 5, 16)         0         \n",
            " ePooling2D)                                                     \n",
            "                                                                 \n",
            " flatten_5 (Flatten)         (None, 400)               0         \n",
            "                                                                 \n",
            " dense_18 (Dense)            (None, 50)                20050     \n",
            "                                                                 \n",
            " dense_19 (Dense)            (None, 50)                2550      \n",
            "                                                                 \n",
            "=================================================================\n",
            "Total params: 25,172\n",
            "Trainable params: 25,172\n",
            "Non-trainable params: 0\n",
            "_________________________________________________________________\n"
          ]
        }
      ]
    }
  ]
}