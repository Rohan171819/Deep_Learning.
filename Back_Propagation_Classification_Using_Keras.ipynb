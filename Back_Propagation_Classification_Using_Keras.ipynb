{
  "nbformat": 4,
  "nbformat_minor": 0,
  "metadata": {
    "colab": {
      "provenance": [],
      "gpuType": "T4",
      "authorship_tag": "ABX9TyMHITm7AopaOInrh2YmlUpB",
      "include_colab_link": true
    },
    "kernelspec": {
      "name": "python3",
      "display_name": "Python 3"
    },
    "language_info": {
      "name": "python"
    },
    "accelerator": "GPU"
  },
  "cells": [
    {
      "cell_type": "markdown",
      "metadata": {
        "id": "view-in-github",
        "colab_type": "text"
      },
      "source": [
        "<a href=\"https://colab.research.google.com/github/Rohan171819/Deep_Learning./blob/main/Back_Propagation_Classification_Using_Keras.ipynb\" target=\"_parent\"><img src=\"https://colab.research.google.com/assets/colab-badge.svg\" alt=\"Open In Colab\"/></a>"
      ]
    },
    {
      "cell_type": "code",
      "execution_count": 14,
      "metadata": {
        "id": "PQSXAp0HKRhT"
      },
      "outputs": [],
      "source": [
        "import pandas as pd\n",
        "import numpy as np"
      ]
    },
    {
      "cell_type": "code",
      "source": [
        "Data=pd.DataFrame([[8,8,1],[7,9,1],[6,10,0],[5,5,0]],columns=[\"iq\",\"resume_score\",\"placement\"])\n",
        "Data"
      ],
      "metadata": {
        "colab": {
          "base_uri": "https://localhost:8080/",
          "height": 175
        },
        "id": "___FQyRuKoZW",
        "outputId": "92c35eea-2722-40e2-c873-73b9a55d5ab4"
      },
      "execution_count": 15,
      "outputs": [
        {
          "output_type": "execute_result",
          "data": {
            "text/plain": [
              "   iq  resume_score  placement\n",
              "0   8             8          1\n",
              "1   7             9          1\n",
              "2   6            10          0\n",
              "3   5             5          0"
            ],
            "text/html": [
              "\n",
              "  <div id=\"df-76088afa-b7cf-423b-aaef-4308c147cffc\" class=\"colab-df-container\">\n",
              "    <div>\n",
              "<style scoped>\n",
              "    .dataframe tbody tr th:only-of-type {\n",
              "        vertical-align: middle;\n",
              "    }\n",
              "\n",
              "    .dataframe tbody tr th {\n",
              "        vertical-align: top;\n",
              "    }\n",
              "\n",
              "    .dataframe thead th {\n",
              "        text-align: right;\n",
              "    }\n",
              "</style>\n",
              "<table border=\"1\" class=\"dataframe\">\n",
              "  <thead>\n",
              "    <tr style=\"text-align: right;\">\n",
              "      <th></th>\n",
              "      <th>iq</th>\n",
              "      <th>resume_score</th>\n",
              "      <th>placement</th>\n",
              "    </tr>\n",
              "  </thead>\n",
              "  <tbody>\n",
              "    <tr>\n",
              "      <th>0</th>\n",
              "      <td>8</td>\n",
              "      <td>8</td>\n",
              "      <td>1</td>\n",
              "    </tr>\n",
              "    <tr>\n",
              "      <th>1</th>\n",
              "      <td>7</td>\n",
              "      <td>9</td>\n",
              "      <td>1</td>\n",
              "    </tr>\n",
              "    <tr>\n",
              "      <th>2</th>\n",
              "      <td>6</td>\n",
              "      <td>10</td>\n",
              "      <td>0</td>\n",
              "    </tr>\n",
              "    <tr>\n",
              "      <th>3</th>\n",
              "      <td>5</td>\n",
              "      <td>5</td>\n",
              "      <td>0</td>\n",
              "    </tr>\n",
              "  </tbody>\n",
              "</table>\n",
              "</div>\n",
              "    <div class=\"colab-df-buttons\">\n",
              "\n",
              "  <div class=\"colab-df-container\">\n",
              "    <button class=\"colab-df-convert\" onclick=\"convertToInteractive('df-76088afa-b7cf-423b-aaef-4308c147cffc')\"\n",
              "            title=\"Convert this dataframe to an interactive table.\"\n",
              "            style=\"display:none;\">\n",
              "\n",
              "  <svg xmlns=\"http://www.w3.org/2000/svg\" height=\"24px\" viewBox=\"0 -960 960 960\">\n",
              "    <path d=\"M120-120v-720h720v720H120Zm60-500h600v-160H180v160Zm220 220h160v-160H400v160Zm0 220h160v-160H400v160ZM180-400h160v-160H180v160Zm440 0h160v-160H620v160ZM180-180h160v-160H180v160Zm440 0h160v-160H620v160Z\"/>\n",
              "  </svg>\n",
              "    </button>\n",
              "\n",
              "  <style>\n",
              "    .colab-df-container {\n",
              "      display:flex;\n",
              "      gap: 12px;\n",
              "    }\n",
              "\n",
              "    .colab-df-convert {\n",
              "      background-color: #E8F0FE;\n",
              "      border: none;\n",
              "      border-radius: 50%;\n",
              "      cursor: pointer;\n",
              "      display: none;\n",
              "      fill: #1967D2;\n",
              "      height: 32px;\n",
              "      padding: 0 0 0 0;\n",
              "      width: 32px;\n",
              "    }\n",
              "\n",
              "    .colab-df-convert:hover {\n",
              "      background-color: #E2EBFA;\n",
              "      box-shadow: 0px 1px 2px rgba(60, 64, 67, 0.3), 0px 1px 3px 1px rgba(60, 64, 67, 0.15);\n",
              "      fill: #174EA6;\n",
              "    }\n",
              "\n",
              "    .colab-df-buttons div {\n",
              "      margin-bottom: 4px;\n",
              "    }\n",
              "\n",
              "    [theme=dark] .colab-df-convert {\n",
              "      background-color: #3B4455;\n",
              "      fill: #D2E3FC;\n",
              "    }\n",
              "\n",
              "    [theme=dark] .colab-df-convert:hover {\n",
              "      background-color: #434B5C;\n",
              "      box-shadow: 0px 1px 3px 1px rgba(0, 0, 0, 0.15);\n",
              "      filter: drop-shadow(0px 1px 2px rgba(0, 0, 0, 0.3));\n",
              "      fill: #FFFFFF;\n",
              "    }\n",
              "  </style>\n",
              "\n",
              "    <script>\n",
              "      const buttonEl =\n",
              "        document.querySelector('#df-76088afa-b7cf-423b-aaef-4308c147cffc button.colab-df-convert');\n",
              "      buttonEl.style.display =\n",
              "        google.colab.kernel.accessAllowed ? 'block' : 'none';\n",
              "\n",
              "      async function convertToInteractive(key) {\n",
              "        const element = document.querySelector('#df-76088afa-b7cf-423b-aaef-4308c147cffc');\n",
              "        const dataTable =\n",
              "          await google.colab.kernel.invokeFunction('convertToInteractive',\n",
              "                                                    [key], {});\n",
              "        if (!dataTable) return;\n",
              "\n",
              "        const docLinkHtml = 'Like what you see? Visit the ' +\n",
              "          '<a target=\"_blank\" href=https://colab.research.google.com/notebooks/data_table.ipynb>data table notebook</a>'\n",
              "          + ' to learn more about interactive tables.';\n",
              "        element.innerHTML = '';\n",
              "        dataTable['output_type'] = 'display_data';\n",
              "        await google.colab.output.renderOutput(dataTable, element);\n",
              "        const docLink = document.createElement('div');\n",
              "        docLink.innerHTML = docLinkHtml;\n",
              "        element.appendChild(docLink);\n",
              "      }\n",
              "    </script>\n",
              "  </div>\n",
              "\n",
              "\n",
              "<div id=\"df-88f8f5ba-6a52-41aa-a7e6-0fc021e593e7\">\n",
              "  <button class=\"colab-df-quickchart\" onclick=\"quickchart('df-88f8f5ba-6a52-41aa-a7e6-0fc021e593e7')\"\n",
              "            title=\"Suggest charts.\"\n",
              "            style=\"display:none;\">\n",
              "\n",
              "<svg xmlns=\"http://www.w3.org/2000/svg\" height=\"24px\"viewBox=\"0 0 24 24\"\n",
              "     width=\"24px\">\n",
              "    <g>\n",
              "        <path d=\"M19 3H5c-1.1 0-2 .9-2 2v14c0 1.1.9 2 2 2h14c1.1 0 2-.9 2-2V5c0-1.1-.9-2-2-2zM9 17H7v-7h2v7zm4 0h-2V7h2v10zm4 0h-2v-4h2v4z\"/>\n",
              "    </g>\n",
              "</svg>\n",
              "  </button>\n",
              "\n",
              "<style>\n",
              "  .colab-df-quickchart {\n",
              "    background-color: #E8F0FE;\n",
              "    border: none;\n",
              "    border-radius: 50%;\n",
              "    cursor: pointer;\n",
              "    display: none;\n",
              "    fill: #1967D2;\n",
              "    height: 32px;\n",
              "    padding: 0 0 0 0;\n",
              "    width: 32px;\n",
              "  }\n",
              "\n",
              "  .colab-df-quickchart:hover {\n",
              "    background-color: #E2EBFA;\n",
              "    box-shadow: 0px 1px 2px rgba(60, 64, 67, 0.3), 0px 1px 3px 1px rgba(60, 64, 67, 0.15);\n",
              "    fill: #174EA6;\n",
              "  }\n",
              "\n",
              "  [theme=dark] .colab-df-quickchart {\n",
              "    background-color: #3B4455;\n",
              "    fill: #D2E3FC;\n",
              "  }\n",
              "\n",
              "  [theme=dark] .colab-df-quickchart:hover {\n",
              "    background-color: #434B5C;\n",
              "    box-shadow: 0px 1px 3px 1px rgba(0, 0, 0, 0.15);\n",
              "    filter: drop-shadow(0px 1px 2px rgba(0, 0, 0, 0.3));\n",
              "    fill: #FFFFFF;\n",
              "  }\n",
              "</style>\n",
              "\n",
              "  <script>\n",
              "    async function quickchart(key) {\n",
              "      const charts = await google.colab.kernel.invokeFunction(\n",
              "          'suggestCharts', [key], {});\n",
              "    }\n",
              "    (() => {\n",
              "      let quickchartButtonEl =\n",
              "        document.querySelector('#df-88f8f5ba-6a52-41aa-a7e6-0fc021e593e7 button');\n",
              "      quickchartButtonEl.style.display =\n",
              "        google.colab.kernel.accessAllowed ? 'block' : 'none';\n",
              "    })();\n",
              "  </script>\n",
              "</div>\n",
              "    </div>\n",
              "  </div>\n"
            ]
          },
          "metadata": {},
          "execution_count": 15
        }
      ]
    },
    {
      "cell_type": "code",
      "source": [
        "X=Data[[\"iq\",\"resume_score\"]]\n",
        "Y=Data[[\"placement\"]]\n",
        "from sklearn.model_selection import train_test_split\n",
        "X_train,X_test,Y_train,Y_test=train_test_split(X,Y,train_size=0.8,test_size=0.2,random_state=10)"
      ],
      "metadata": {
        "id": "ltSFMOIbKtk2"
      },
      "execution_count": 16,
      "outputs": []
    },
    {
      "cell_type": "code",
      "source": [
        "import tensorflow\n",
        "from tensorflow import keras\n",
        "from tensorflow.keras import Sequential\n",
        "from tensorflow.keras.layers import Dense"
      ],
      "metadata": {
        "id": "rmbl6O1gMPo7"
      },
      "execution_count": 17,
      "outputs": []
    },
    {
      "cell_type": "code",
      "source": [
        "# Creating the Architecture...\n",
        "model=Sequential()\n",
        "model.add(Dense(3,activation=\"sigmoid\",input_dim=2))\n",
        "model.add(Dense(1,activation=\"sigmoid\"))"
      ],
      "metadata": {
        "id": "AP1lJNs_NkvB"
      },
      "execution_count": 18,
      "outputs": []
    },
    {
      "cell_type": "code",
      "source": [
        "model.summary()"
      ],
      "metadata": {
        "id": "3BHeslW2v3jG",
        "colab": {
          "base_uri": "https://localhost:8080/"
        },
        "outputId": "00ecfb7a-36d0-4855-ce2f-8d821639d442"
      },
      "execution_count": 19,
      "outputs": [
        {
          "output_type": "stream",
          "name": "stdout",
          "text": [
            "Model: \"sequential_2\"\n",
            "_________________________________________________________________\n",
            " Layer (type)                Output Shape              Param #   \n",
            "=================================================================\n",
            " dense_4 (Dense)             (None, 3)                 9         \n",
            "                                                                 \n",
            " dense_5 (Dense)             (None, 1)                 4         \n",
            "                                                                 \n",
            "=================================================================\n",
            "Total params: 13\n",
            "Trainable params: 13\n",
            "Non-trainable params: 0\n",
            "_________________________________________________________________\n"
          ]
        }
      ]
    },
    {
      "cell_type": "code",
      "source": [
        "model.get_weights()"
      ],
      "metadata": {
        "colab": {
          "base_uri": "https://localhost:8080/"
        },
        "id": "3VibfaFq5GH7",
        "outputId": "ac518767-565d-475c-cce8-790c6dc23d27"
      },
      "execution_count": 20,
      "outputs": [
        {
          "output_type": "execute_result",
          "data": {
            "text/plain": [
              "[array([[ 0.59695506,  0.8289597 ,  0.47424793],\n",
              "        [ 0.59787095, -0.12304032, -0.65055037]], dtype=float32),\n",
              " array([0., 0., 0.], dtype=float32),\n",
              " array([[-0.5230739],\n",
              "        [-0.3050331],\n",
              "        [-0.9543543]], dtype=float32),\n",
              " array([0.], dtype=float32)]"
            ]
          },
          "metadata": {},
          "execution_count": 20
        }
      ]
    },
    {
      "cell_type": "code",
      "source": [
        "new_weights=[np.array([[ 0.1 , 0.1 , 0.1 ],\n",
        "        [0.1, 0.1 ,  0.1]], dtype=np.float32),\n",
        " np.array([0. ,  0. ,  0.], dtype=np.float32),\n",
        " np.array([[ 0.1 ],\n",
        "        [0.1],\n",
        "        [0.1]], dtype=np.float32),\n",
        " np.array([0.], dtype=np.float32)]"
      ],
      "metadata": {
        "id": "ymXQWj5j5K-A"
      },
      "execution_count": 21,
      "outputs": []
    },
    {
      "cell_type": "code",
      "source": [
        "model.set_weights(new_weights)"
      ],
      "metadata": {
        "id": "-6p5UznS6PeV"
      },
      "execution_count": 22,
      "outputs": []
    },
    {
      "cell_type": "code",
      "source": [
        "optimizer=keras.optimizers.Adam(learning_rate=0.0001)"
      ],
      "metadata": {
        "id": "sqSdzbdq6eAE"
      },
      "execution_count": 23,
      "outputs": []
    },
    {
      "cell_type": "code",
      "source": [
        "# Compiling the Model...\n",
        "model.compile(loss=\"binary_crossentropy\",optimizer=optimizer,metrics=['accuracy'])"
      ],
      "metadata": {
        "id": "urNwyke6MFgz"
      },
      "execution_count": 28,
      "outputs": []
    },
    {
      "cell_type": "code",
      "source": [
        "# Training my model...\n",
        "history=model.fit(X_train,Y_train,epochs=100,validation_split=0.2)"
      ],
      "metadata": {
        "colab": {
          "base_uri": "https://localhost:8080/"
        },
        "id": "GkKmQ2_oOc9B",
        "outputId": "bb6586ca-4727-49f9-c90e-4fe19190eb39"
      },
      "execution_count": 29,
      "outputs": [
        {
          "output_type": "stream",
          "name": "stdout",
          "text": [
            "Epoch 1/100\n",
            "1/1 [==============================] - 6s 6s/step - loss: 0.6925 - accuracy: 0.5000 - val_loss: 0.5763 - val_accuracy: 1.0000\n",
            "Epoch 2/100\n",
            "1/1 [==============================] - 0s 31ms/step - loss: 0.6924 - accuracy: 0.5000 - val_loss: 0.5765 - val_accuracy: 1.0000\n",
            "Epoch 3/100\n",
            "1/1 [==============================] - 0s 43ms/step - loss: 0.6924 - accuracy: 0.5000 - val_loss: 0.5767 - val_accuracy: 1.0000\n",
            "Epoch 4/100\n",
            "1/1 [==============================] - 0s 31ms/step - loss: 0.6924 - accuracy: 0.5000 - val_loss: 0.5768 - val_accuracy: 1.0000\n",
            "Epoch 5/100\n",
            "1/1 [==============================] - 0s 31ms/step - loss: 0.6924 - accuracy: 0.5000 - val_loss: 0.5770 - val_accuracy: 1.0000\n",
            "Epoch 6/100\n",
            "1/1 [==============================] - 0s 31ms/step - loss: 0.6924 - accuracy: 0.5000 - val_loss: 0.5772 - val_accuracy: 1.0000\n",
            "Epoch 7/100\n",
            "1/1 [==============================] - 0s 46ms/step - loss: 0.6924 - accuracy: 0.5000 - val_loss: 0.5774 - val_accuracy: 1.0000\n",
            "Epoch 8/100\n",
            "1/1 [==============================] - 0s 59ms/step - loss: 0.6924 - accuracy: 0.5000 - val_loss: 0.5776 - val_accuracy: 1.0000\n",
            "Epoch 9/100\n",
            "1/1 [==============================] - 0s 56ms/step - loss: 0.6923 - accuracy: 0.5000 - val_loss: 0.5778 - val_accuracy: 1.0000\n",
            "Epoch 10/100\n",
            "1/1 [==============================] - 0s 42ms/step - loss: 0.6923 - accuracy: 0.5000 - val_loss: 0.5780 - val_accuracy: 1.0000\n",
            "Epoch 11/100\n",
            "1/1 [==============================] - 0s 55ms/step - loss: 0.6923 - accuracy: 0.5000 - val_loss: 0.5781 - val_accuracy: 1.0000\n",
            "Epoch 12/100\n",
            "1/1 [==============================] - 0s 64ms/step - loss: 0.6923 - accuracy: 0.5000 - val_loss: 0.5783 - val_accuracy: 1.0000\n",
            "Epoch 13/100\n",
            "1/1 [==============================] - 0s 40ms/step - loss: 0.6923 - accuracy: 0.5000 - val_loss: 0.5785 - val_accuracy: 1.0000\n",
            "Epoch 14/100\n",
            "1/1 [==============================] - 0s 40ms/step - loss: 0.6923 - accuracy: 0.5000 - val_loss: 0.5787 - val_accuracy: 1.0000\n",
            "Epoch 15/100\n",
            "1/1 [==============================] - 0s 57ms/step - loss: 0.6923 - accuracy: 0.5000 - val_loss: 0.5789 - val_accuracy: 1.0000\n",
            "Epoch 16/100\n",
            "1/1 [==============================] - 0s 60ms/step - loss: 0.6923 - accuracy: 0.5000 - val_loss: 0.5791 - val_accuracy: 1.0000\n",
            "Epoch 17/100\n",
            "1/1 [==============================] - 0s 43ms/step - loss: 0.6922 - accuracy: 0.5000 - val_loss: 0.5792 - val_accuracy: 1.0000\n",
            "Epoch 18/100\n",
            "1/1 [==============================] - 0s 56ms/step - loss: 0.6922 - accuracy: 0.5000 - val_loss: 0.5794 - val_accuracy: 1.0000\n",
            "Epoch 19/100\n",
            "1/1 [==============================] - 0s 58ms/step - loss: 0.6922 - accuracy: 0.5000 - val_loss: 0.5796 - val_accuracy: 1.0000\n",
            "Epoch 20/100\n",
            "1/1 [==============================] - 0s 64ms/step - loss: 0.6922 - accuracy: 0.5000 - val_loss: 0.5798 - val_accuracy: 1.0000\n",
            "Epoch 21/100\n",
            "1/1 [==============================] - 0s 59ms/step - loss: 0.6922 - accuracy: 0.5000 - val_loss: 0.5800 - val_accuracy: 1.0000\n",
            "Epoch 22/100\n",
            "1/1 [==============================] - 0s 63ms/step - loss: 0.6922 - accuracy: 0.5000 - val_loss: 0.5801 - val_accuracy: 1.0000\n",
            "Epoch 23/100\n",
            "1/1 [==============================] - 0s 47ms/step - loss: 0.6922 - accuracy: 0.5000 - val_loss: 0.5803 - val_accuracy: 1.0000\n",
            "Epoch 24/100\n",
            "1/1 [==============================] - 0s 56ms/step - loss: 0.6921 - accuracy: 0.5000 - val_loss: 0.5805 - val_accuracy: 1.0000\n",
            "Epoch 25/100\n",
            "1/1 [==============================] - 0s 43ms/step - loss: 0.6921 - accuracy: 0.5000 - val_loss: 0.5807 - val_accuracy: 1.0000\n",
            "Epoch 26/100\n",
            "1/1 [==============================] - 0s 40ms/step - loss: 0.6921 - accuracy: 0.5000 - val_loss: 0.5809 - val_accuracy: 1.0000\n",
            "Epoch 27/100\n",
            "1/1 [==============================] - 0s 55ms/step - loss: 0.6921 - accuracy: 0.5000 - val_loss: 0.5810 - val_accuracy: 1.0000\n",
            "Epoch 28/100\n",
            "1/1 [==============================] - 0s 58ms/step - loss: 0.6921 - accuracy: 0.5000 - val_loss: 0.5812 - val_accuracy: 1.0000\n",
            "Epoch 29/100\n",
            "1/1 [==============================] - 0s 43ms/step - loss: 0.6921 - accuracy: 0.5000 - val_loss: 0.5814 - val_accuracy: 1.0000\n",
            "Epoch 30/100\n",
            "1/1 [==============================] - 0s 69ms/step - loss: 0.6921 - accuracy: 0.5000 - val_loss: 0.5816 - val_accuracy: 1.0000\n",
            "Epoch 31/100\n",
            "1/1 [==============================] - 0s 62ms/step - loss: 0.6921 - accuracy: 0.5000 - val_loss: 0.5818 - val_accuracy: 1.0000\n",
            "Epoch 32/100\n",
            "1/1 [==============================] - 0s 41ms/step - loss: 0.6920 - accuracy: 0.5000 - val_loss: 0.5819 - val_accuracy: 1.0000\n",
            "Epoch 33/100\n",
            "1/1 [==============================] - 0s 41ms/step - loss: 0.6920 - accuracy: 0.5000 - val_loss: 0.5821 - val_accuracy: 1.0000\n",
            "Epoch 34/100\n",
            "1/1 [==============================] - 0s 56ms/step - loss: 0.6920 - accuracy: 0.5000 - val_loss: 0.5823 - val_accuracy: 1.0000\n",
            "Epoch 35/100\n",
            "1/1 [==============================] - 0s 71ms/step - loss: 0.6920 - accuracy: 0.5000 - val_loss: 0.5825 - val_accuracy: 1.0000\n",
            "Epoch 36/100\n",
            "1/1 [==============================] - 0s 45ms/step - loss: 0.6920 - accuracy: 0.5000 - val_loss: 0.5826 - val_accuracy: 1.0000\n",
            "Epoch 37/100\n",
            "1/1 [==============================] - 0s 48ms/step - loss: 0.6920 - accuracy: 0.5000 - val_loss: 0.5828 - val_accuracy: 1.0000\n",
            "Epoch 38/100\n",
            "1/1 [==============================] - 0s 58ms/step - loss: 0.6920 - accuracy: 0.5000 - val_loss: 0.5830 - val_accuracy: 1.0000\n",
            "Epoch 39/100\n",
            "1/1 [==============================] - 0s 64ms/step - loss: 0.6920 - accuracy: 0.5000 - val_loss: 0.5832 - val_accuracy: 1.0000\n",
            "Epoch 40/100\n",
            "1/1 [==============================] - 0s 62ms/step - loss: 0.6919 - accuracy: 0.5000 - val_loss: 0.5833 - val_accuracy: 1.0000\n",
            "Epoch 41/100\n",
            "1/1 [==============================] - 0s 41ms/step - loss: 0.6919 - accuracy: 0.5000 - val_loss: 0.5835 - val_accuracy: 1.0000\n",
            "Epoch 42/100\n",
            "1/1 [==============================] - 0s 60ms/step - loss: 0.6919 - accuracy: 0.5000 - val_loss: 0.5837 - val_accuracy: 1.0000\n",
            "Epoch 43/100\n",
            "1/1 [==============================] - 0s 62ms/step - loss: 0.6919 - accuracy: 0.5000 - val_loss: 0.5839 - val_accuracy: 1.0000\n",
            "Epoch 44/100\n",
            "1/1 [==============================] - 0s 63ms/step - loss: 0.6919 - accuracy: 0.5000 - val_loss: 0.5840 - val_accuracy: 1.0000\n",
            "Epoch 45/100\n",
            "1/1 [==============================] - 0s 31ms/step - loss: 0.6919 - accuracy: 0.5000 - val_loss: 0.5842 - val_accuracy: 1.0000\n",
            "Epoch 46/100\n",
            "1/1 [==============================] - 0s 31ms/step - loss: 0.6919 - accuracy: 0.5000 - val_loss: 0.5844 - val_accuracy: 1.0000\n",
            "Epoch 47/100\n",
            "1/1 [==============================] - 0s 32ms/step - loss: 0.6919 - accuracy: 0.5000 - val_loss: 0.5846 - val_accuracy: 1.0000\n",
            "Epoch 48/100\n",
            "1/1 [==============================] - 0s 33ms/step - loss: 0.6919 - accuracy: 0.5000 - val_loss: 0.5847 - val_accuracy: 1.0000\n",
            "Epoch 49/100\n",
            "1/1 [==============================] - 0s 31ms/step - loss: 0.6918 - accuracy: 0.5000 - val_loss: 0.5849 - val_accuracy: 1.0000\n",
            "Epoch 50/100\n",
            "1/1 [==============================] - 0s 31ms/step - loss: 0.6918 - accuracy: 0.5000 - val_loss: 0.5851 - val_accuracy: 1.0000\n",
            "Epoch 51/100\n",
            "1/1 [==============================] - 0s 32ms/step - loss: 0.6918 - accuracy: 0.5000 - val_loss: 0.5852 - val_accuracy: 1.0000\n",
            "Epoch 52/100\n",
            "1/1 [==============================] - 0s 31ms/step - loss: 0.6918 - accuracy: 0.5000 - val_loss: 0.5854 - val_accuracy: 1.0000\n",
            "Epoch 53/100\n",
            "1/1 [==============================] - 0s 37ms/step - loss: 0.6918 - accuracy: 0.5000 - val_loss: 0.5856 - val_accuracy: 1.0000\n",
            "Epoch 54/100\n",
            "1/1 [==============================] - 0s 32ms/step - loss: 0.6918 - accuracy: 0.5000 - val_loss: 0.5857 - val_accuracy: 1.0000\n",
            "Epoch 55/100\n",
            "1/1 [==============================] - 0s 31ms/step - loss: 0.6918 - accuracy: 0.5000 - val_loss: 0.5859 - val_accuracy: 1.0000\n",
            "Epoch 56/100\n",
            "1/1 [==============================] - 0s 32ms/step - loss: 0.6918 - accuracy: 0.5000 - val_loss: 0.5861 - val_accuracy: 1.0000\n",
            "Epoch 57/100\n",
            "1/1 [==============================] - 0s 31ms/step - loss: 0.6918 - accuracy: 0.5000 - val_loss: 0.5862 - val_accuracy: 1.0000\n",
            "Epoch 58/100\n",
            "1/1 [==============================] - 0s 31ms/step - loss: 0.6917 - accuracy: 0.5000 - val_loss: 0.5864 - val_accuracy: 1.0000\n",
            "Epoch 59/100\n",
            "1/1 [==============================] - 0s 32ms/step - loss: 0.6917 - accuracy: 0.5000 - val_loss: 0.5866 - val_accuracy: 1.0000\n",
            "Epoch 60/100\n",
            "1/1 [==============================] - 0s 31ms/step - loss: 0.6917 - accuracy: 0.5000 - val_loss: 0.5867 - val_accuracy: 1.0000\n",
            "Epoch 61/100\n",
            "1/1 [==============================] - 0s 31ms/step - loss: 0.6917 - accuracy: 0.5000 - val_loss: 0.5869 - val_accuracy: 1.0000\n",
            "Epoch 62/100\n",
            "1/1 [==============================] - 0s 31ms/step - loss: 0.6917 - accuracy: 0.5000 - val_loss: 0.5871 - val_accuracy: 1.0000\n",
            "Epoch 63/100\n",
            "1/1 [==============================] - 0s 31ms/step - loss: 0.6917 - accuracy: 0.5000 - val_loss: 0.5872 - val_accuracy: 1.0000\n",
            "Epoch 64/100\n",
            "1/1 [==============================] - 0s 50ms/step - loss: 0.6917 - accuracy: 0.5000 - val_loss: 0.5874 - val_accuracy: 1.0000\n",
            "Epoch 65/100\n",
            "1/1 [==============================] - 0s 35ms/step - loss: 0.6917 - accuracy: 0.5000 - val_loss: 0.5876 - val_accuracy: 1.0000\n",
            "Epoch 66/100\n",
            "1/1 [==============================] - 0s 33ms/step - loss: 0.6917 - accuracy: 0.5000 - val_loss: 0.5877 - val_accuracy: 1.0000\n",
            "Epoch 67/100\n",
            "1/1 [==============================] - 0s 33ms/step - loss: 0.6916 - accuracy: 0.5000 - val_loss: 0.5879 - val_accuracy: 1.0000\n",
            "Epoch 68/100\n",
            "1/1 [==============================] - 0s 33ms/step - loss: 0.6916 - accuracy: 0.5000 - val_loss: 0.5881 - val_accuracy: 1.0000\n",
            "Epoch 69/100\n",
            "1/1 [==============================] - 0s 31ms/step - loss: 0.6916 - accuracy: 0.5000 - val_loss: 0.5882 - val_accuracy: 1.0000\n",
            "Epoch 70/100\n",
            "1/1 [==============================] - 0s 30ms/step - loss: 0.6916 - accuracy: 0.5000 - val_loss: 0.5884 - val_accuracy: 1.0000\n",
            "Epoch 71/100\n",
            "1/1 [==============================] - 0s 37ms/step - loss: 0.6916 - accuracy: 0.5000 - val_loss: 0.5885 - val_accuracy: 1.0000\n",
            "Epoch 72/100\n",
            "1/1 [==============================] - 0s 31ms/step - loss: 0.6916 - accuracy: 0.5000 - val_loss: 0.5887 - val_accuracy: 1.0000\n",
            "Epoch 73/100\n",
            "1/1 [==============================] - 0s 31ms/step - loss: 0.6916 - accuracy: 0.5000 - val_loss: 0.5889 - val_accuracy: 1.0000\n",
            "Epoch 74/100\n",
            "1/1 [==============================] - 0s 33ms/step - loss: 0.6916 - accuracy: 0.5000 - val_loss: 0.5890 - val_accuracy: 1.0000\n",
            "Epoch 75/100\n",
            "1/1 [==============================] - 0s 31ms/step - loss: 0.6916 - accuracy: 0.5000 - val_loss: 0.5892 - val_accuracy: 1.0000\n",
            "Epoch 76/100\n",
            "1/1 [==============================] - 0s 31ms/step - loss: 0.6916 - accuracy: 0.5000 - val_loss: 0.5893 - val_accuracy: 1.0000\n",
            "Epoch 77/100\n",
            "1/1 [==============================] - 0s 32ms/step - loss: 0.6915 - accuracy: 0.5000 - val_loss: 0.5895 - val_accuracy: 1.0000\n",
            "Epoch 78/100\n",
            "1/1 [==============================] - 0s 31ms/step - loss: 0.6915 - accuracy: 0.5000 - val_loss: 0.5896 - val_accuracy: 1.0000\n",
            "Epoch 79/100\n",
            "1/1 [==============================] - 0s 32ms/step - loss: 0.6915 - accuracy: 0.5000 - val_loss: 0.5898 - val_accuracy: 1.0000\n",
            "Epoch 80/100\n",
            "1/1 [==============================] - 0s 31ms/step - loss: 0.6915 - accuracy: 0.5000 - val_loss: 0.5900 - val_accuracy: 1.0000\n",
            "Epoch 81/100\n",
            "1/1 [==============================] - 0s 32ms/step - loss: 0.6915 - accuracy: 0.5000 - val_loss: 0.5901 - val_accuracy: 1.0000\n",
            "Epoch 82/100\n",
            "1/1 [==============================] - 0s 32ms/step - loss: 0.6915 - accuracy: 0.5000 - val_loss: 0.5903 - val_accuracy: 1.0000\n",
            "Epoch 83/100\n",
            "1/1 [==============================] - 0s 34ms/step - loss: 0.6915 - accuracy: 0.5000 - val_loss: 0.5904 - val_accuracy: 1.0000\n",
            "Epoch 84/100\n",
            "1/1 [==============================] - 0s 30ms/step - loss: 0.6915 - accuracy: 0.5000 - val_loss: 0.5906 - val_accuracy: 1.0000\n",
            "Epoch 85/100\n",
            "1/1 [==============================] - 0s 31ms/step - loss: 0.6915 - accuracy: 0.5000 - val_loss: 0.5907 - val_accuracy: 1.0000\n",
            "Epoch 86/100\n",
            "1/1 [==============================] - 0s 31ms/step - loss: 0.6915 - accuracy: 0.5000 - val_loss: 0.5909 - val_accuracy: 1.0000\n",
            "Epoch 87/100\n",
            "1/1 [==============================] - 0s 31ms/step - loss: 0.6915 - accuracy: 0.5000 - val_loss: 0.5910 - val_accuracy: 1.0000\n",
            "Epoch 88/100\n",
            "1/1 [==============================] - 0s 32ms/step - loss: 0.6914 - accuracy: 0.5000 - val_loss: 0.5912 - val_accuracy: 1.0000\n",
            "Epoch 89/100\n",
            "1/1 [==============================] - 0s 30ms/step - loss: 0.6914 - accuracy: 0.5000 - val_loss: 0.5913 - val_accuracy: 1.0000\n",
            "Epoch 90/100\n",
            "1/1 [==============================] - 0s 32ms/step - loss: 0.6914 - accuracy: 0.5000 - val_loss: 0.5915 - val_accuracy: 1.0000\n",
            "Epoch 91/100\n",
            "1/1 [==============================] - 0s 40ms/step - loss: 0.6914 - accuracy: 0.5000 - val_loss: 0.5916 - val_accuracy: 1.0000\n",
            "Epoch 92/100\n",
            "1/1 [==============================] - 0s 32ms/step - loss: 0.6914 - accuracy: 0.5000 - val_loss: 0.5918 - val_accuracy: 1.0000\n",
            "Epoch 93/100\n",
            "1/1 [==============================] - 0s 30ms/step - loss: 0.6914 - accuracy: 0.5000 - val_loss: 0.5919 - val_accuracy: 1.0000\n",
            "Epoch 94/100\n",
            "1/1 [==============================] - 0s 32ms/step - loss: 0.6914 - accuracy: 0.5000 - val_loss: 0.5921 - val_accuracy: 1.0000\n",
            "Epoch 95/100\n",
            "1/1 [==============================] - 0s 33ms/step - loss: 0.6914 - accuracy: 0.5000 - val_loss: 0.5922 - val_accuracy: 1.0000\n",
            "Epoch 96/100\n",
            "1/1 [==============================] - 0s 31ms/step - loss: 0.6914 - accuracy: 0.5000 - val_loss: 0.5924 - val_accuracy: 1.0000\n",
            "Epoch 97/100\n",
            "1/1 [==============================] - 0s 32ms/step - loss: 0.6914 - accuracy: 0.5000 - val_loss: 0.5925 - val_accuracy: 1.0000\n",
            "Epoch 98/100\n",
            "1/1 [==============================] - 0s 32ms/step - loss: 0.6914 - accuracy: 0.5000 - val_loss: 0.5927 - val_accuracy: 1.0000\n",
            "Epoch 99/100\n",
            "1/1 [==============================] - 0s 32ms/step - loss: 0.6913 - accuracy: 0.5000 - val_loss: 0.5928 - val_accuracy: 1.0000\n",
            "Epoch 100/100\n",
            "1/1 [==============================] - 0s 32ms/step - loss: 0.6913 - accuracy: 0.5000 - val_loss: 0.5930 - val_accuracy: 1.0000\n"
          ]
        }
      ]
    },
    {
      "cell_type": "code",
      "source": [
        "Y_predicted=model.predict(X_test)"
      ],
      "metadata": {
        "colab": {
          "base_uri": "https://localhost:8080/"
        },
        "id": "mLbUEm_RPPia",
        "outputId": "3f172d5b-8ee3-4944-903f-01fce0e96d71"
      },
      "execution_count": 30,
      "outputs": [
        {
          "output_type": "stream",
          "name": "stdout",
          "text": [
            "1/1 [==============================] - 0s 71ms/step\n"
          ]
        }
      ]
    },
    {
      "cell_type": "code",
      "source": [
        "import matplotlib.pyplot as plt\n",
        "plt.plot(history.history[\"accuracy\"])\n",
        "plt.plot(history.history[\"val_accuracy\"])\n",
        "plt.show()"
      ],
      "metadata": {
        "colab": {
          "base_uri": "https://localhost:8080/",
          "height": 430
        },
        "id": "GX5iZC70PVVM",
        "outputId": "1891203d-ab8a-45db-d612-103710efbf77"
      },
      "execution_count": 31,
      "outputs": [
        {
          "output_type": "display_data",
          "data": {
            "text/plain": [
              "<Figure size 640x480 with 1 Axes>"
            ],
            "image/png": "[encoded data removed]"
          },
          "metadata": {}
        }
      ]
    },
    {
      "cell_type": "code",
      "source": [
        "plt.plot(history.history[\"loss\"])\n",
        "plt.plot(history.history[\"val_loss\"])\n",
        "plt.show()"
      ],
      "metadata": {
        "colab": {
          "base_uri": "https://localhost:8080/",
          "height": 430
        },
        "id": "92qGXdIqPy2S",
        "outputId": "bdd64996-e6c7-43b8-d29d-fb1fe90f576f"
      },
      "execution_count": 32,
      "outputs": [
        {
          "output_type": "display_data",
          "data": {
            "text/plain": [
              "<Figure size 640x480 with 1 Axes>"
            ],
            "image/png": "[encoded data removed]"
          },
          "metadata": {}
        }
      ]
    }
  ]
}