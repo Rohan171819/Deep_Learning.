{
  "nbformat": 4,
  "nbformat_minor": 0,
  "metadata": {
    "colab": {
      "provenance": [],
      "gpuType": "T4",
      "authorship_tag": "ABX9TyPODmSFEuLOqykqRTyPLuxO",
      "include_colab_link": true
    },
    "kernelspec": {
      "name": "python3",
      "display_name": "Python 3"
    },
    "language_info": {
      "name": "python"
    },
    "accelerator": "GPU"
  },
  "cells": [
    {
      "cell_type": "markdown",
      "metadata": {
        "id": "view-in-github",
        "colab_type": "text"
      },
      "source": [
        "<a href=\"https://colab.research.google.com/github/Rohan171819/Deep_Learning./blob/main/Integer_Encoding_RNN.ipynb\" target=\"_parent\"><img src=\"https://colab.research.google.com/assets/colab-badge.svg\" alt=\"Open In Colab\"/></a>"
      ]
    },
    {
      "cell_type": "code",
      "execution_count": 17,
      "metadata": {
        "id": "G923P24nlDGn"
      },
      "outputs": [],
      "source": [
        "Document=[\"Baki Hanma is Best!!!\",\n",
        "          \"Yujiro Hanma is the Father of Baki Hanma!!!\",\n",
        "          \"Yuchiro Hanma is the Father of Yujiro Hanma!!!\",\n",
        "          \"Jack Hanma is the Brother of Baki Hanma!!\",\n",
        "          \"Dobo Oricho is a Perfect Marchalist!!\"]"
      ]
    },
    {
      "cell_type": "code",
      "source": [
        "from tensorflow import keras\n",
        "from keras.preprocessing.text import Tokenizer"
      ],
      "metadata": {
        "id": "X7IdX6ecm8HK"
      },
      "execution_count": 18,
      "outputs": []
    },
    {
      "cell_type": "code",
      "source": [
        "tokenizer=Tokenizer(oov_token=\"<nothing>\")"
      ],
      "metadata": {
        "id": "D1ClScuSn04H"
      },
      "execution_count": 19,
      "outputs": []
    },
    {
      "cell_type": "code",
      "source": [
        "tokenizer.fit_on_texts(Document)"
      ],
      "metadata": {
        "id": "OngQFqJsoeSa"
      },
      "execution_count": 20,
      "outputs": []
    },
    {
      "cell_type": "code",
      "source": [
        "# Providing the index...\n",
        "tokenizer.word_index"
      ],
      "metadata": {
        "colab": {
          "base_uri": "https://localhost:8080/"
        },
        "id": "pqltT4T-ooez",
        "outputId": "40094601-95eb-4c1c-de5d-d59504f2ee13"
      },
      "execution_count": 21,
      "outputs": [
        {
          "output_type": "execute_result",
          "data": {
            "text/plain": [
              "{'<nothing>': 1,\n",
              " 'hanma': 2,\n",
              " 'is': 3,\n",
              " 'baki': 4,\n",
              " 'the': 5,\n",
              " 'of': 6,\n",
              " 'yujiro': 7,\n",
              " 'father': 8,\n",
              " 'best': 9,\n",
              " 'yuchiro': 10,\n",
              " 'jack': 11,\n",
              " 'brother': 12,\n",
              " 'dobo': 13,\n",
              " 'oricho': 14,\n",
              " 'a': 15,\n",
              " 'perfect': 16,\n",
              " 'marchalist': 17}"
            ]
          },
          "metadata": {},
          "execution_count": 21
        }
      ]
    },
    {
      "cell_type": "code",
      "source": [
        "# Calculating the word count..\n",
        "tokenizer.word_counts"
      ],
      "metadata": {
        "colab": {
          "base_uri": "https://localhost:8080/"
        },
        "id": "x9j_G143ozTB",
        "outputId": "8a86086f-40cd-41dd-93e0-4d644071771d"
      },
      "execution_count": 22,
      "outputs": [
        {
          "output_type": "execute_result",
          "data": {
            "text/plain": [
              "OrderedDict([('baki', 3),\n",
              "             ('hanma', 7),\n",
              "             ('is', 5),\n",
              "             ('best', 1),\n",
              "             ('yujiro', 2),\n",
              "             ('the', 3),\n",
              "             ('father', 2),\n",
              "             ('of', 3),\n",
              "             ('yuchiro', 1),\n",
              "             ('jack', 1),\n",
              "             ('brother', 1),\n",
              "             ('dobo', 1),\n",
              "             ('oricho', 1),\n",
              "             ('a', 1),\n",
              "             ('perfect', 1),\n",
              "             ('marchalist', 1)])"
            ]
          },
          "metadata": {},
          "execution_count": 22
        }
      ]
    },
    {
      "cell_type": "code",
      "source": [
        "# Creating the Sequences...\n",
        "sequences=tokenizer.texts_to_sequences(Document)\n",
        "sequences"
      ],
      "metadata": {
        "colab": {
          "base_uri": "https://localhost:8080/"
        },
        "id": "8I_L9qVVplOW",
        "outputId": "2756320e-6a59-4189-cb5e-ce8d91404e51"
      },
      "execution_count": 24,
      "outputs": [
        {
          "output_type": "execute_result",
          "data": {
            "text/plain": [
              "[[4, 2, 3, 9],\n",
              " [7, 2, 3, 5, 8, 6, 4, 2],\n",
              " [10, 2, 3, 5, 8, 6, 7, 2],\n",
              " [11, 2, 3, 5, 12, 6, 4, 2],\n",
              " [13, 14, 3, 15, 16, 17]]"
            ]
          },
          "metadata": {},
          "execution_count": 24
        }
      ]
    },
    {
      "cell_type": "code",
      "source": [
        "from keras.utils import pad_sequences"
      ],
      "metadata": {
        "id": "-JZhPzgbqW6d"
      },
      "execution_count": 25,
      "outputs": []
    },
    {
      "cell_type": "code",
      "source": [
        "# Padding the Sequence Document...\n",
        "sequences=pad_sequences(sequences,padding=\"post\")"
      ],
      "metadata": {
        "id": "4sUBIDrHqw2r"
      },
      "execution_count": 28,
      "outputs": []
    },
    {
      "cell_type": "code",
      "source": [
        "sequences"
      ],
      "metadata": {
        "colab": {
          "base_uri": "https://localhost:8080/"
        },
        "id": "HC4D_cFKrApW",
        "outputId": "d9131a45-8ace-4df8-d94f-199423b20feb"
      },
      "execution_count": 29,
      "outputs": [
        {
          "output_type": "execute_result",
          "data": {
            "text/plain": [
              "array([[ 4,  2,  3,  9,  0,  0,  0,  0],\n",
              "       [ 7,  2,  3,  5,  8,  6,  4,  2],\n",
              "       [10,  2,  3,  5,  8,  6,  7,  2],\n",
              "       [11,  2,  3,  5, 12,  6,  4,  2],\n",
              "       [13, 14,  3, 15, 16, 17,  0,  0]], dtype=int32)"
            ]
          },
          "metadata": {},
          "execution_count": 29
        }
      ]
    }
  ]
}