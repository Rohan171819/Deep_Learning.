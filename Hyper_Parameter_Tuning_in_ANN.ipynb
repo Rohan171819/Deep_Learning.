{
  "nbformat": 4,
  "nbformat_minor": 0,
  "metadata": {
    "colab": {
      "provenance": [],
      "gpuType": "T4",
      "authorship_tag": "ABX9TyOLaq9rPO2smK5eeXSIbYD7",
      "include_colab_link": true
    },
    "kernelspec": {
      "name": "python3",
      "display_name": "Python 3"
    },
    "language_info": {
      "name": "python"
    },
    "accelerator": "GPU"
  },
  "cells": [
    {
      "cell_type": "markdown",
      "metadata": {
        "id": "view-in-github",
        "colab_type": "text"
      },
      "source": [
        "<a href=\"https://colab.research.google.com/github/Rohan171819/Deep_Learning./blob/main/Hyper_Parameter_Tuning_in_ANN.ipynb\" target=\"_parent\"><img src=\"https://colab.research.google.com/assets/colab-badge.svg\" alt=\"Open In Colab\"/></a>"
      ]
    },
    {
      "cell_type": "code",
      "execution_count": 113,
      "metadata": {
        "id": "QsBji4GSwQXb"
      },
      "outputs": [],
      "source": [
        "import pandas as pd\n",
        "import numpy as np"
      ]
    },
    {
      "cell_type": "code",
      "source": [
        "Data=pd.read_csv(\"/content/Bank Customer Churn Prediction.csv\")"
      ],
      "metadata": {
        "id": "ido1CmaEwra_"
      },
      "execution_count": 114,
      "outputs": []
    },
    {
      "cell_type": "code",
      "source": [
        "Data.head()"
      ],
      "metadata": {
        "colab": {
          "base_uri": "https://localhost:8080/",
          "height": 226
        },
        "id": "rCjVGXt7xAkV",
        "outputId": "13c98def-1aa0-4995-80ac-f26ca5f125f6"
      },
      "execution_count": 115,
      "outputs": [
        {
          "output_type": "execute_result",
          "data": {
            "text/plain": [
              "   customer_id  credit_score country  gender  age  tenure    balance  \\\n",
              "0     15634602           619  France  Female   42       2       0.00   \n",
              "1     15647311           608   Spain  Female   41       1   83807.86   \n",
              "2     15619304           502  France  Female   42       8  159660.80   \n",
              "3     15701354           699  France  Female   39       1       0.00   \n",
              "4     15737888           850   Spain  Female   43       2  125510.82   \n",
              "\n",
              "   products_number  credit_card  active_member  estimated_salary  churn  \n",
              "0                1            1              1         101348.88      1  \n",
              "1                1            0              1         112542.58      0  \n",
              "2                3            1              0         113931.57      1  \n",
              "3                2            0              0          93826.63      0  \n",
              "4                1            1              1          79084.10      0  "
            ],
            "text/html": [
              "\n",
              "  <div id=\"df-e383a0f1-aa3c-4093-8589-b01727648fc9\" class=\"colab-df-container\">\n",
              "    <div>\n",
              "<style scoped>\n",
              "    .dataframe tbody tr th:only-of-type {\n",
              "        vertical-align: middle;\n",
              "    }\n",
              "\n",
              "    .dataframe tbody tr th {\n",
              "        vertical-align: top;\n",
              "    }\n",
              "\n",
              "    .dataframe thead th {\n",
              "        text-align: right;\n",
              "    }\n",
              "</style>\n",
              "<table border=\"1\" class=\"dataframe\">\n",
              "  <thead>\n",
              "    <tr style=\"text-align: right;\">\n",
              "      <th></th>\n",
              "      <th>customer_id</th>\n",
              "      <th>credit_score</th>\n",
              "      <th>country</th>\n",
              "      <th>gender</th>\n",
              "      <th>age</th>\n",
              "      <th>tenure</th>\n",
              "      <th>balance</th>\n",
              "      <th>products_number</th>\n",
              "      <th>credit_card</th>\n",
              "      <th>active_member</th>\n",
              "      <th>estimated_salary</th>\n",
              "      <th>churn</th>\n",
              "    </tr>\n",
              "  </thead>\n",
              "  <tbody>\n",
              "    <tr>\n",
              "      <th>0</th>\n",
              "      <td>15634602</td>\n",
              "      <td>619</td>\n",
              "      <td>France</td>\n",
              "      <td>Female</td>\n",
              "      <td>42</td>\n",
              "      <td>2</td>\n",
              "      <td>0.00</td>\n",
              "      <td>1</td>\n",
              "      <td>1</td>\n",
              "      <td>1</td>\n",
              "      <td>101348.88</td>\n",
              "      <td>1</td>\n",
              "    </tr>\n",
              "    <tr>\n",
              "      <th>1</th>\n",
              "      <td>15647311</td>\n",
              "      <td>608</td>\n",
              "      <td>Spain</td>\n",
              "      <td>Female</td>\n",
              "      <td>41</td>\n",
              "      <td>1</td>\n",
              "      <td>83807.86</td>\n",
              "      <td>1</td>\n",
              "      <td>0</td>\n",
              "      <td>1</td>\n",
              "      <td>112542.58</td>\n",
              "      <td>0</td>\n",
              "    </tr>\n",
              "    <tr>\n",
              "      <th>2</th>\n",
              "      <td>15619304</td>\n",
              "      <td>502</td>\n",
              "      <td>France</td>\n",
              "      <td>Female</td>\n",
              "      <td>42</td>\n",
              "      <td>8</td>\n",
              "      <td>159660.80</td>\n",
              "      <td>3</td>\n",
              "      <td>1</td>\n",
              "      <td>0</td>\n",
              "      <td>113931.57</td>\n",
              "      <td>1</td>\n",
              "    </tr>\n",
              "    <tr>\n",
              "      <th>3</th>\n",
              "      <td>15701354</td>\n",
              "      <td>699</td>\n",
              "      <td>France</td>\n",
              "      <td>Female</td>\n",
              "      <td>39</td>\n",
              "      <td>1</td>\n",
              "      <td>0.00</td>\n",
              "      <td>2</td>\n",
              "      <td>0</td>\n",
              "      <td>0</td>\n",
              "      <td>93826.63</td>\n",
              "      <td>0</td>\n",
              "    </tr>\n",
              "    <tr>\n",
              "      <th>4</th>\n",
              "      <td>15737888</td>\n",
              "      <td>850</td>\n",
              "      <td>Spain</td>\n",
              "      <td>Female</td>\n",
              "      <td>43</td>\n",
              "      <td>2</td>\n",
              "      <td>125510.82</td>\n",
              "      <td>1</td>\n",
              "      <td>1</td>\n",
              "      <td>1</td>\n",
              "      <td>79084.10</td>\n",
              "      <td>0</td>\n",
              "    </tr>\n",
              "  </tbody>\n",
              "</table>\n",
              "</div>\n",
              "    <div class=\"colab-df-buttons\">\n",
              "\n",
              "  <div class=\"colab-df-container\">\n",
              "    <button class=\"colab-df-convert\" onclick=\"convertToInteractive('df-e383a0f1-aa3c-4093-8589-b01727648fc9')\"\n",
              "            title=\"Convert this dataframe to an interactive table.\"\n",
              "            style=\"display:none;\">\n",
              "\n",
              "  <svg xmlns=\"http://www.w3.org/2000/svg\" height=\"24px\" viewBox=\"0 -960 960 960\">\n",
              "    <path d=\"M120-120v-720h720v720H120Zm60-500h600v-160H180v160Zm220 220h160v-160H400v160Zm0 220h160v-160H400v160ZM180-400h160v-160H180v160Zm440 0h160v-160H620v160ZM180-180h160v-160H180v160Zm440 0h160v-160H620v160Z\"/>\n",
              "  </svg>\n",
              "    </button>\n",
              "\n",
              "  <style>\n",
              "    .colab-df-container {\n",
              "      display:flex;\n",
              "      gap: 12px;\n",
              "    }\n",
              "\n",
              "    .colab-df-convert {\n",
              "      background-color: #E8F0FE;\n",
              "      border: none;\n",
              "      border-radius: 50%;\n",
              "      cursor: pointer;\n",
              "      display: none;\n",
              "      fill: #1967D2;\n",
              "      height: 32px;\n",
              "      padding: 0 0 0 0;\n",
              "      width: 32px;\n",
              "    }\n",
              "\n",
              "    .colab-df-convert:hover {\n",
              "      background-color: #E2EBFA;\n",
              "      box-shadow: 0px 1px 2px rgba(60, 64, 67, 0.3), 0px 1px 3px 1px rgba(60, 64, 67, 0.15);\n",
              "      fill: #174EA6;\n",
              "    }\n",
              "\n",
              "    .colab-df-buttons div {\n",
              "      margin-bottom: 4px;\n",
              "    }\n",
              "\n",
              "    [theme=dark] .colab-df-convert {\n",
              "      background-color: #3B4455;\n",
              "      fill: #D2E3FC;\n",
              "    }\n",
              "\n",
              "    [theme=dark] .colab-df-convert:hover {\n",
              "      background-color: #434B5C;\n",
              "      box-shadow: 0px 1px 3px 1px rgba(0, 0, 0, 0.15);\n",
              "      filter: drop-shadow(0px 1px 2px rgba(0, 0, 0, 0.3));\n",
              "      fill: #FFFFFF;\n",
              "    }\n",
              "  </style>\n",
              "\n",
              "    <script>\n",
              "      const buttonEl =\n",
              "        document.querySelector('#df-e383a0f1-aa3c-4093-8589-b01727648fc9 button.colab-df-convert');\n",
              "      buttonEl.style.display =\n",
              "        google.colab.kernel.accessAllowed ? 'block' : 'none';\n",
              "\n",
              "      async function convertToInteractive(key) {\n",
              "        const element = document.querySelector('#df-e383a0f1-aa3c-4093-8589-b01727648fc9');\n",
              "        const dataTable =\n",
              "          await google.colab.kernel.invokeFunction('convertToInteractive',\n",
              "                                                    [key], {});\n",
              "        if (!dataTable) return;\n",
              "\n",
              "        const docLinkHtml = 'Like what you see? Visit the ' +\n",
              "          '<a target=\"_blank\" href=https://colab.research.google.com/notebooks/data_table.ipynb>data table notebook</a>'\n",
              "          + ' to learn more about interactive tables.';\n",
              "        element.innerHTML = '';\n",
              "        dataTable['output_type'] = 'display_data';\n",
              "        await google.colab.output.renderOutput(dataTable, element);\n",
              "        const docLink = document.createElement('div');\n",
              "        docLink.innerHTML = docLinkHtml;\n",
              "        element.appendChild(docLink);\n",
              "      }\n",
              "    </script>\n",
              "  </div>\n",
              "\n",
              "\n",
              "<div id=\"df-f7545565-724d-4488-b3c3-47731c3a57c1\">\n",
              "  <button class=\"colab-df-quickchart\" onclick=\"quickchart('df-f7545565-724d-4488-b3c3-47731c3a57c1')\"\n",
              "            title=\"Suggest charts.\"\n",
              "            style=\"display:none;\">\n",
              "\n",
              "<svg xmlns=\"http://www.w3.org/2000/svg\" height=\"24px\"viewBox=\"0 0 24 24\"\n",
              "     width=\"24px\">\n",
              "    <g>\n",
              "        <path d=\"M19 3H5c-1.1 0-2 .9-2 2v14c0 1.1.9 2 2 2h14c1.1 0 2-.9 2-2V5c0-1.1-.9-2-2-2zM9 17H7v-7h2v7zm4 0h-2V7h2v10zm4 0h-2v-4h2v4z\"/>\n",
              "    </g>\n",
              "</svg>\n",
              "  </button>\n",
              "\n",
              "<style>\n",
              "  .colab-df-quickchart {\n",
              "      --bg-color: #E8F0FE;\n",
              "      --fill-color: #1967D2;\n",
              "      --hover-bg-color: #E2EBFA;\n",
              "      --hover-fill-color: #174EA6;\n",
              "      --disabled-fill-color: #AAA;\n",
              "      --disabled-bg-color: #DDD;\n",
              "  }\n",
              "\n",
              "  [theme=dark] .colab-df-quickchart {\n",
              "      --bg-color: #3B4455;\n",
              "      --fill-color: #D2E3FC;\n",
              "      --hover-bg-color: #434B5C;\n",
              "      --hover-fill-color: #FFFFFF;\n",
              "      --disabled-bg-color: #3B4455;\n",
              "      --disabled-fill-color: #666;\n",
              "  }\n",
              "\n",
              "  .colab-df-quickchart {\n",
              "    background-color: var(--bg-color);\n",
              "    border: none;\n",
              "    border-radius: 50%;\n",
              "    cursor: pointer;\n",
              "    display: none;\n",
              "    fill: var(--fill-color);\n",
              "    height: 32px;\n",
              "    padding: 0;\n",
              "    width: 32px;\n",
              "  }\n",
              "\n",
              "  .colab-df-quickchart:hover {\n",
              "    background-color: var(--hover-bg-color);\n",
              "    box-shadow: 0 1px 2px rgba(60, 64, 67, 0.3), 0 1px 3px 1px rgba(60, 64, 67, 0.15);\n",
              "    fill: var(--button-hover-fill-color);\n",
              "  }\n",
              "\n",
              "  .colab-df-quickchart-complete:disabled,\n",
              "  .colab-df-quickchart-complete:disabled:hover {\n",
              "    background-color: var(--disabled-bg-color);\n",
              "    fill: var(--disabled-fill-color);\n",
              "    box-shadow: none;\n",
              "  }\n",
              "\n",
              "  .colab-df-spinner {\n",
              "    border: 2px solid var(--fill-color);\n",
              "    border-color: transparent;\n",
              "    border-bottom-color: var(--fill-color);\n",
              "    animation:\n",
              "      spin 1s steps(1) infinite;\n",
              "  }\n",
              "\n",
              "  @keyframes spin {\n",
              "    0% {\n",
              "      border-color: transparent;\n",
              "      border-bottom-color: var(--fill-color);\n",
              "      border-left-color: var(--fill-color);\n",
              "    }\n",
              "    20% {\n",
              "      border-color: transparent;\n",
              "      border-left-color: var(--fill-color);\n",
              "      border-top-color: var(--fill-color);\n",
              "    }\n",
              "    30% {\n",
              "      border-color: transparent;\n",
              "      border-left-color: var(--fill-color);\n",
              "      border-top-color: var(--fill-color);\n",
              "      border-right-color: var(--fill-color);\n",
              "    }\n",
              "    40% {\n",
              "      border-color: transparent;\n",
              "      border-right-color: var(--fill-color);\n",
              "      border-top-color: var(--fill-color);\n",
              "    }\n",
              "    60% {\n",
              "      border-color: transparent;\n",
              "      border-right-color: var(--fill-color);\n",
              "    }\n",
              "    80% {\n",
              "      border-color: transparent;\n",
              "      border-right-color: var(--fill-color);\n",
              "      border-bottom-color: var(--fill-color);\n",
              "    }\n",
              "    90% {\n",
              "      border-color: transparent;\n",
              "      border-bottom-color: var(--fill-color);\n",
              "    }\n",
              "  }\n",
              "</style>\n",
              "\n",
              "  <script>\n",
              "    async function quickchart(key) {\n",
              "      const quickchartButtonEl =\n",
              "        document.querySelector('#' + key + ' button');\n",
              "      quickchartButtonEl.disabled = true;  // To prevent multiple clicks.\n",
              "      quickchartButtonEl.classList.add('colab-df-spinner');\n",
              "      try {\n",
              "        const charts = await google.colab.kernel.invokeFunction(\n",
              "            'suggestCharts', [key], {});\n",
              "      } catch (error) {\n",
              "        console.error('Error during call to suggestCharts:', error);\n",
              "      }\n",
              "      quickchartButtonEl.classList.remove('colab-df-spinner');\n",
              "      quickchartButtonEl.classList.add('colab-df-quickchart-complete');\n",
              "    }\n",
              "    (() => {\n",
              "      let quickchartButtonEl =\n",
              "        document.querySelector('#df-f7545565-724d-4488-b3c3-47731c3a57c1 button');\n",
              "      quickchartButtonEl.style.display =\n",
              "        google.colab.kernel.accessAllowed ? 'block' : 'none';\n",
              "    })();\n",
              "  </script>\n",
              "</div>\n",
              "    </div>\n",
              "  </div>\n"
            ]
          },
          "metadata": {},
          "execution_count": 115
        }
      ]
    },
    {
      "cell_type": "code",
      "source": [
        "# One Hot Encoding...\n",
        "Data=pd.get_dummies(Data,columns=[\"country\",\"gender\"],drop_first=True)"
      ],
      "metadata": {
        "id": "y7ni6Y2fxJnE"
      },
      "execution_count": 116,
      "outputs": []
    },
    {
      "cell_type": "code",
      "source": [
        "Data.head()"
      ],
      "metadata": {
        "colab": {
          "base_uri": "https://localhost:8080/",
          "height": 226
        },
        "id": "4_fHxMglxJqp",
        "outputId": "38ccc95a-1628-48a9-da0d-0ade6d327bb9"
      },
      "execution_count": 117,
      "outputs": [
        {
          "output_type": "execute_result",
          "data": {
            "text/plain": [
              "   customer_id  credit_score  age  tenure    balance  products_number  \\\n",
              "0     15634602           619   42       2       0.00                1   \n",
              "1     15647311           608   41       1   83807.86                1   \n",
              "2     15619304           502   42       8  159660.80                3   \n",
              "3     15701354           699   39       1       0.00                2   \n",
              "4     15737888           850   43       2  125510.82                1   \n",
              "\n",
              "   credit_card  active_member  estimated_salary  churn  country_Germany  \\\n",
              "0            1              1         101348.88      1                0   \n",
              "1            0              1         112542.58      0                0   \n",
              "2            1              0         113931.57      1                0   \n",
              "3            0              0          93826.63      0                0   \n",
              "4            1              1          79084.10      0                0   \n",
              "\n",
              "   country_Spain  gender_Male  \n",
              "0              0            0  \n",
              "1              1            0  \n",
              "2              0            0  \n",
              "3              0            0  \n",
              "4              1            0  "
            ],
            "text/html": [
              "\n",
              "  <div id=\"df-7213d9f2-1e73-4bf8-98ea-85b31e45bea4\" class=\"colab-df-container\">\n",
              "    <div>\n",
              "<style scoped>\n",
              "    .dataframe tbody tr th:only-of-type {\n",
              "        vertical-align: middle;\n",
              "    }\n",
              "\n",
              "    .dataframe tbody tr th {\n",
              "        vertical-align: top;\n",
              "    }\n",
              "\n",
              "    .dataframe thead th {\n",
              "        text-align: right;\n",
              "    }\n",
              "</style>\n",
              "<table border=\"1\" class=\"dataframe\">\n",
              "  <thead>\n",
              "    <tr style=\"text-align: right;\">\n",
              "      <th></th>\n",
              "      <th>customer_id</th>\n",
              "      <th>credit_score</th>\n",
              "      <th>age</th>\n",
              "      <th>tenure</th>\n",
              "      <th>balance</th>\n",
              "      <th>products_number</th>\n",
              "      <th>credit_card</th>\n",
              "      <th>active_member</th>\n",
              "      <th>estimated_salary</th>\n",
              "      <th>churn</th>\n",
              "      <th>country_Germany</th>\n",
              "      <th>country_Spain</th>\n",
              "      <th>gender_Male</th>\n",
              "    </tr>\n",
              "  </thead>\n",
              "  <tbody>\n",
              "    <tr>\n",
              "      <th>0</th>\n",
              "      <td>15634602</td>\n",
              "      <td>619</td>\n",
              "      <td>42</td>\n",
              "      <td>2</td>\n",
              "      <td>0.00</td>\n",
              "      <td>1</td>\n",
              "      <td>1</td>\n",
              "      <td>1</td>\n",
              "      <td>101348.88</td>\n",
              "      <td>1</td>\n",
              "      <td>0</td>\n",
              "      <td>0</td>\n",
              "      <td>0</td>\n",
              "    </tr>\n",
              "    <tr>\n",
              "      <th>1</th>\n",
              "      <td>15647311</td>\n",
              "      <td>608</td>\n",
              "      <td>41</td>\n",
              "      <td>1</td>\n",
              "      <td>83807.86</td>\n",
              "      <td>1</td>\n",
              "      <td>0</td>\n",
              "      <td>1</td>\n",
              "      <td>112542.58</td>\n",
              "      <td>0</td>\n",
              "      <td>0</td>\n",
              "      <td>1</td>\n",
              "      <td>0</td>\n",
              "    </tr>\n",
              "    <tr>\n",
              "      <th>2</th>\n",
              "      <td>15619304</td>\n",
              "      <td>502</td>\n",
              "      <td>42</td>\n",
              "      <td>8</td>\n",
              "      <td>159660.80</td>\n",
              "      <td>3</td>\n",
              "      <td>1</td>\n",
              "      <td>0</td>\n",
              "      <td>113931.57</td>\n",
              "      <td>1</td>\n",
              "      <td>0</td>\n",
              "      <td>0</td>\n",
              "      <td>0</td>\n",
              "    </tr>\n",
              "    <tr>\n",
              "      <th>3</th>\n",
              "      <td>15701354</td>\n",
              "      <td>699</td>\n",
              "      <td>39</td>\n",
              "      <td>1</td>\n",
              "      <td>0.00</td>\n",
              "      <td>2</td>\n",
              "      <td>0</td>\n",
              "      <td>0</td>\n",
              "      <td>93826.63</td>\n",
              "      <td>0</td>\n",
              "      <td>0</td>\n",
              "      <td>0</td>\n",
              "      <td>0</td>\n",
              "    </tr>\n",
              "    <tr>\n",
              "      <th>4</th>\n",
              "      <td>15737888</td>\n",
              "      <td>850</td>\n",
              "      <td>43</td>\n",
              "      <td>2</td>\n",
              "      <td>125510.82</td>\n",
              "      <td>1</td>\n",
              "      <td>1</td>\n",
              "      <td>1</td>\n",
              "      <td>79084.10</td>\n",
              "      <td>0</td>\n",
              "      <td>0</td>\n",
              "      <td>1</td>\n",
              "      <td>0</td>\n",
              "    </tr>\n",
              "  </tbody>\n",
              "</table>\n",
              "</div>\n",
              "    <div class=\"colab-df-buttons\">\n",
              "\n",
              "  <div class=\"colab-df-container\">\n",
              "    <button class=\"colab-df-convert\" onclick=\"convertToInteractive('df-7213d9f2-1e73-4bf8-98ea-85b31e45bea4')\"\n",
              "            title=\"Convert this dataframe to an interactive table.\"\n",
              "            style=\"display:none;\">\n",
              "\n",
              "  <svg xmlns=\"http://www.w3.org/2000/svg\" height=\"24px\" viewBox=\"0 -960 960 960\">\n",
              "    <path d=\"M120-120v-720h720v720H120Zm60-500h600v-160H180v160Zm220 220h160v-160H400v160Zm0 220h160v-160H400v160ZM180-400h160v-160H180v160Zm440 0h160v-160H620v160ZM180-180h160v-160H180v160Zm440 0h160v-160H620v160Z\"/>\n",
              "  </svg>\n",
              "    </button>\n",
              "\n",
              "  <style>\n",
              "    .colab-df-container {\n",
              "      display:flex;\n",
              "      gap: 12px;\n",
              "    }\n",
              "\n",
              "    .colab-df-convert {\n",
              "      background-color: #E8F0FE;\n",
              "      border: none;\n",
              "      border-radius: 50%;\n",
              "      cursor: pointer;\n",
              "      display: none;\n",
              "      fill: #1967D2;\n",
              "      height: 32px;\n",
              "      padding: 0 0 0 0;\n",
              "      width: 32px;\n",
              "    }\n",
              "\n",
              "    .colab-df-convert:hover {\n",
              "      background-color: #E2EBFA;\n",
              "      box-shadow: 0px 1px 2px rgba(60, 64, 67, 0.3), 0px 1px 3px 1px rgba(60, 64, 67, 0.15);\n",
              "      fill: #174EA6;\n",
              "    }\n",
              "\n",
              "    .colab-df-buttons div {\n",
              "      margin-bottom: 4px;\n",
              "    }\n",
              "\n",
              "    [theme=dark] .colab-df-convert {\n",
              "      background-color: #3B4455;\n",
              "      fill: #D2E3FC;\n",
              "    }\n",
              "\n",
              "    [theme=dark] .colab-df-convert:hover {\n",
              "      background-color: #434B5C;\n",
              "      box-shadow: 0px 1px 3px 1px rgba(0, 0, 0, 0.15);\n",
              "      filter: drop-shadow(0px 1px 2px rgba(0, 0, 0, 0.3));\n",
              "      fill: #FFFFFF;\n",
              "    }\n",
              "  </style>\n",
              "\n",
              "    <script>\n",
              "      const buttonEl =\n",
              "        document.querySelector('#df-7213d9f2-1e73-4bf8-98ea-85b31e45bea4 button.colab-df-convert');\n",
              "      buttonEl.style.display =\n",
              "        google.colab.kernel.accessAllowed ? 'block' : 'none';\n",
              "\n",
              "      async function convertToInteractive(key) {\n",
              "        const element = document.querySelector('#df-7213d9f2-1e73-4bf8-98ea-85b31e45bea4');\n",
              "        const dataTable =\n",
              "          await google.colab.kernel.invokeFunction('convertToInteractive',\n",
              "                                                    [key], {});\n",
              "        if (!dataTable) return;\n",
              "\n",
              "        const docLinkHtml = 'Like what you see? Visit the ' +\n",
              "          '<a target=\"_blank\" href=https://colab.research.google.com/notebooks/data_table.ipynb>data table notebook</a>'\n",
              "          + ' to learn more about interactive tables.';\n",
              "        element.innerHTML = '';\n",
              "        dataTable['output_type'] = 'display_data';\n",
              "        await google.colab.output.renderOutput(dataTable, element);\n",
              "        const docLink = document.createElement('div');\n",
              "        docLink.innerHTML = docLinkHtml;\n",
              "        element.appendChild(docLink);\n",
              "      }\n",
              "    </script>\n",
              "  </div>\n",
              "\n",
              "\n",
              "<div id=\"df-6303b4cc-b2be-4da3-a271-7a94dc97351e\">\n",
              "  <button class=\"colab-df-quickchart\" onclick=\"quickchart('df-6303b4cc-b2be-4da3-a271-7a94dc97351e')\"\n",
              "            title=\"Suggest charts.\"\n",
              "            style=\"display:none;\">\n",
              "\n",
              "<svg xmlns=\"http://www.w3.org/2000/svg\" height=\"24px\"viewBox=\"0 0 24 24\"\n",
              "     width=\"24px\">\n",
              "    <g>\n",
              "        <path d=\"M19 3H5c-1.1 0-2 .9-2 2v14c0 1.1.9 2 2 2h14c1.1 0 2-.9 2-2V5c0-1.1-.9-2-2-2zM9 17H7v-7h2v7zm4 0h-2V7h2v10zm4 0h-2v-4h2v4z\"/>\n",
              "    </g>\n",
              "</svg>\n",
              "  </button>\n",
              "\n",
              "<style>\n",
              "  .colab-df-quickchart {\n",
              "      --bg-color: #E8F0FE;\n",
              "      --fill-color: #1967D2;\n",
              "      --hover-bg-color: #E2EBFA;\n",
              "      --hover-fill-color: #174EA6;\n",
              "      --disabled-fill-color: #AAA;\n",
              "      --disabled-bg-color: #DDD;\n",
              "  }\n",
              "\n",
              "  [theme=dark] .colab-df-quickchart {\n",
              "      --bg-color: #3B4455;\n",
              "      --fill-color: #D2E3FC;\n",
              "      --hover-bg-color: #434B5C;\n",
              "      --hover-fill-color: #FFFFFF;\n",
              "      --disabled-bg-color: #3B4455;\n",
              "      --disabled-fill-color: #666;\n",
              "  }\n",
              "\n",
              "  .colab-df-quickchart {\n",
              "    background-color: var(--bg-color);\n",
              "    border: none;\n",
              "    border-radius: 50%;\n",
              "    cursor: pointer;\n",
              "    display: none;\n",
              "    fill: var(--fill-color);\n",
              "    height: 32px;\n",
              "    padding: 0;\n",
              "    width: 32px;\n",
              "  }\n",
              "\n",
              "  .colab-df-quickchart:hover {\n",
              "    background-color: var(--hover-bg-color);\n",
              "    box-shadow: 0 1px 2px rgba(60, 64, 67, 0.3), 0 1px 3px 1px rgba(60, 64, 67, 0.15);\n",
              "    fill: var(--button-hover-fill-color);\n",
              "  }\n",
              "\n",
              "  .colab-df-quickchart-complete:disabled,\n",
              "  .colab-df-quickchart-complete:disabled:hover {\n",
              "    background-color: var(--disabled-bg-color);\n",
              "    fill: var(--disabled-fill-color);\n",
              "    box-shadow: none;\n",
              "  }\n",
              "\n",
              "  .colab-df-spinner {\n",
              "    border: 2px solid var(--fill-color);\n",
              "    border-color: transparent;\n",
              "    border-bottom-color: var(--fill-color);\n",
              "    animation:\n",
              "      spin 1s steps(1) infinite;\n",
              "  }\n",
              "\n",
              "  @keyframes spin {\n",
              "    0% {\n",
              "      border-color: transparent;\n",
              "      border-bottom-color: var(--fill-color);\n",
              "      border-left-color: var(--fill-color);\n",
              "    }\n",
              "    20% {\n",
              "      border-color: transparent;\n",
              "      border-left-color: var(--fill-color);\n",
              "      border-top-color: var(--fill-color);\n",
              "    }\n",
              "    30% {\n",
              "      border-color: transparent;\n",
              "      border-left-color: var(--fill-color);\n",
              "      border-top-color: var(--fill-color);\n",
              "      border-right-color: var(--fill-color);\n",
              "    }\n",
              "    40% {\n",
              "      border-color: transparent;\n",
              "      border-right-color: var(--fill-color);\n",
              "      border-top-color: var(--fill-color);\n",
              "    }\n",
              "    60% {\n",
              "      border-color: transparent;\n",
              "      border-right-color: var(--fill-color);\n",
              "    }\n",
              "    80% {\n",
              "      border-color: transparent;\n",
              "      border-right-color: var(--fill-color);\n",
              "      border-bottom-color: var(--fill-color);\n",
              "    }\n",
              "    90% {\n",
              "      border-color: transparent;\n",
              "      border-bottom-color: var(--fill-color);\n",
              "    }\n",
              "  }\n",
              "</style>\n",
              "\n",
              "  <script>\n",
              "    async function quickchart(key) {\n",
              "      const quickchartButtonEl =\n",
              "        document.querySelector('#' + key + ' button');\n",
              "      quickchartButtonEl.disabled = true;  // To prevent multiple clicks.\n",
              "      quickchartButtonEl.classList.add('colab-df-spinner');\n",
              "      try {\n",
              "        const charts = await google.colab.kernel.invokeFunction(\n",
              "            'suggestCharts', [key], {});\n",
              "      } catch (error) {\n",
              "        console.error('Error during call to suggestCharts:', error);\n",
              "      }\n",
              "      quickchartButtonEl.classList.remove('colab-df-spinner');\n",
              "      quickchartButtonEl.classList.add('colab-df-quickchart-complete');\n",
              "    }\n",
              "    (() => {\n",
              "      let quickchartButtonEl =\n",
              "        document.querySelector('#df-6303b4cc-b2be-4da3-a271-7a94dc97351e button');\n",
              "      quickchartButtonEl.style.display =\n",
              "        google.colab.kernel.accessAllowed ? 'block' : 'none';\n",
              "    })();\n",
              "  </script>\n",
              "</div>\n",
              "    </div>\n",
              "  </div>\n"
            ]
          },
          "metadata": {},
          "execution_count": 117
        }
      ]
    },
    {
      "cell_type": "code",
      "source": [
        "X=Data.drop(columns=[\"churn\"])\n",
        "Y=Data[[\"churn\"]]"
      ],
      "metadata": {
        "id": "x83nJGDMxxEs"
      },
      "execution_count": 118,
      "outputs": []
    },
    {
      "cell_type": "code",
      "source": [
        "from sklearn.model_selection import train_test_split\n",
        "X_train,X_test,Y_train,Y_test=train_test_split(X,Y,train_size=0.8,test_size=0.2)\n",
        "print(X_train.shape)\n",
        "print(Y_train.shape)"
      ],
      "metadata": {
        "colab": {
          "base_uri": "https://localhost:8080/"
        },
        "id": "nqlyqe5JxJt6",
        "outputId": "9221766b-8c06-4c93-9f05-a7fdb7bbe6dd"
      },
      "execution_count": 119,
      "outputs": [
        {
          "output_type": "stream",
          "name": "stdout",
          "text": [
            "(8000, 12)\n",
            "(8000, 1)\n"
          ]
        }
      ]
    },
    {
      "cell_type": "code",
      "source": [
        "from sklearn.preprocessing import StandardScaler\n",
        "scale=StandardScaler()\n",
        "X_train_scaled=scale.fit_transform(X_train)\n",
        "X_test_scaled=scale.fit_transform(X_test)"
      ],
      "metadata": {
        "id": "Yuq4133ExJw0"
      },
      "execution_count": 120,
      "outputs": []
    },
    {
      "cell_type": "code",
      "source": [
        "print(X_train_scaled.shape)"
      ],
      "metadata": {
        "colab": {
          "base_uri": "https://localhost:8080/"
        },
        "id": "ZcdE6OsZ0QQU",
        "outputId": "fb9dfb00-a195-4d31-ac55-131c7f59d83e"
      },
      "execution_count": 121,
      "outputs": [
        {
          "output_type": "stream",
          "name": "stdout",
          "text": [
            "(8000, 12)\n"
          ]
        }
      ]
    },
    {
      "cell_type": "code",
      "source": [
        "import tensorflow\n",
        "from tensorflow import keras\n",
        "from tensorflow.keras import Sequential\n",
        "from tensorflow.keras.layers import Dense,Dropout"
      ],
      "metadata": {
        "id": "mkLDJV3mxJzq"
      },
      "execution_count": 122,
      "outputs": []
    },
    {
      "cell_type": "markdown",
      "source": [
        "# Without Hyper Parmeter Tuning..\n",
        "\n",
        "> Indented block\n",
        "\n"
      ],
      "metadata": {
        "id": "BEwlWDzz0Gme"
      }
    },
    {
      "cell_type": "code",
      "source": [
        "# Creating the ANN Architecture..\n",
        "model=Sequential()\n",
        "# Creating 3 Nodes in the Hidden Layer and Adding Input data..\n",
        "model.add(Dense(50,activation=\"relu\",input_dim=12))\n",
        "model.add(Dense(50,activation=\"relu\"))\n",
        "model.add(Dense(50,activation=\"relu\"))\n",
        "\n",
        "#Creating 1 Node in the Output Layer..\n",
        "model.add(Dense(1,activation=\"sigmoid\"))"
      ],
      "metadata": {
        "id": "e0urTZl4xJ2x"
      },
      "execution_count": 123,
      "outputs": []
    },
    {
      "cell_type": "code",
      "source": [
        "# Analyzing the summary of the Neural Network.\n",
        "model.summary()"
      ],
      "metadata": {
        "colab": {
          "base_uri": "https://localhost:8080/"
        },
        "id": "DkxzwEqv0t8Q",
        "outputId": "96aebb84-9870-4e72-cb11-96325c9a6068"
      },
      "execution_count": 124,
      "outputs": [
        {
          "output_type": "stream",
          "name": "stdout",
          "text": [
            "Model: \"sequential_3\"\n",
            "_________________________________________________________________\n",
            " Layer (type)                Output Shape              Param #   \n",
            "=================================================================\n",
            " dense_12 (Dense)            (None, 50)                650       \n",
            "                                                                 \n",
            " dense_13 (Dense)            (None, 50)                2550      \n",
            "                                                                 \n",
            " dense_14 (Dense)            (None, 50)                2550      \n",
            "                                                                 \n",
            " dense_15 (Dense)            (None, 1)                 51        \n",
            "                                                                 \n",
            "=================================================================\n",
            "Total params: 5,801\n",
            "Trainable params: 5,801\n",
            "Non-trainable params: 0\n",
            "_________________________________________________________________\n"
          ]
        }
      ]
    },
    {
      "cell_type": "code",
      "source": [
        "# Compiling my model..\n",
        "model.compile(loss=\"binary_crossentropy\",optimizer=\"Adam\",metrics=[\"accuracy\"])"
      ],
      "metadata": {
        "id": "nZAOTOtT02Ay"
      },
      "execution_count": 125,
      "outputs": []
    },
    {
      "cell_type": "code",
      "source": [
        "# Training the Neural Network..\n",
        "history=model.fit(X_train_scaled,Y_train,epochs=100,validation_split=0.2)"
      ],
      "metadata": {
        "colab": {
          "base_uri": "https://localhost:8080/"
        },
        "id": "XToj6I1fY3tf",
        "outputId": "03a81159-b04e-4901-894f-15ef28549dca"
      },
      "execution_count": 126,
      "outputs": [
        {
          "output_type": "stream",
          "name": "stdout",
          "text": [
            "Epoch 1/100\n",
            "200/200 [==============================] - 2s 4ms/step - loss: 0.4554 - accuracy: 0.8047 - val_loss: 0.4149 - val_accuracy: 0.8194\n",
            "Epoch 2/100\n",
            "200/200 [==============================] - 1s 3ms/step - loss: 0.3856 - accuracy: 0.8419 - val_loss: 0.3772 - val_accuracy: 0.8419\n",
            "Epoch 3/100\n",
            "200/200 [==============================] - 1s 4ms/step - loss: 0.3503 - accuracy: 0.8580 - val_loss: 0.3603 - val_accuracy: 0.8537\n",
            "Epoch 4/100\n",
            "200/200 [==============================] - 1s 3ms/step - loss: 0.3412 - accuracy: 0.8595 - val_loss: 0.3606 - val_accuracy: 0.8506\n",
            "Epoch 5/100\n",
            "200/200 [==============================] - 1s 4ms/step - loss: 0.3333 - accuracy: 0.8620 - val_loss: 0.3588 - val_accuracy: 0.8537\n",
            "Epoch 6/100\n",
            "200/200 [==============================] - 1s 4ms/step - loss: 0.3289 - accuracy: 0.8673 - val_loss: 0.3609 - val_accuracy: 0.8494\n",
            "Epoch 7/100\n",
            "200/200 [==============================] - 1s 4ms/step - loss: 0.3248 - accuracy: 0.8641 - val_loss: 0.3596 - val_accuracy: 0.8500\n",
            "Epoch 8/100\n",
            "200/200 [==============================] - 1s 4ms/step - loss: 0.3207 - accuracy: 0.8680 - val_loss: 0.3587 - val_accuracy: 0.8512\n",
            "Epoch 9/100\n",
            "200/200 [==============================] - 1s 4ms/step - loss: 0.3165 - accuracy: 0.8681 - val_loss: 0.3646 - val_accuracy: 0.8494\n",
            "Epoch 10/100\n",
            "200/200 [==============================] - 1s 4ms/step - loss: 0.3138 - accuracy: 0.8731 - val_loss: 0.3601 - val_accuracy: 0.8544\n",
            "Epoch 11/100\n",
            "200/200 [==============================] - 1s 5ms/step - loss: 0.3093 - accuracy: 0.8728 - val_loss: 0.3646 - val_accuracy: 0.8413\n",
            "Epoch 12/100\n",
            "200/200 [==============================] - 1s 5ms/step - loss: 0.3052 - accuracy: 0.8739 - val_loss: 0.3628 - val_accuracy: 0.8500\n",
            "Epoch 13/100\n",
            "200/200 [==============================] - 1s 4ms/step - loss: 0.3040 - accuracy: 0.8722 - val_loss: 0.3590 - val_accuracy: 0.8531\n",
            "Epoch 14/100\n",
            "200/200 [==============================] - 1s 4ms/step - loss: 0.3007 - accuracy: 0.8761 - val_loss: 0.3610 - val_accuracy: 0.8631\n",
            "Epoch 15/100\n",
            "200/200 [==============================] - 1s 3ms/step - loss: 0.2973 - accuracy: 0.8759 - val_loss: 0.3660 - val_accuracy: 0.8531\n",
            "Epoch 16/100\n",
            "200/200 [==============================] - 1s 4ms/step - loss: 0.2917 - accuracy: 0.8778 - val_loss: 0.3640 - val_accuracy: 0.8637\n",
            "Epoch 17/100\n",
            "200/200 [==============================] - 1s 4ms/step - loss: 0.2892 - accuracy: 0.8805 - val_loss: 0.3671 - val_accuracy: 0.8544\n",
            "Epoch 18/100\n",
            "200/200 [==============================] - 1s 3ms/step - loss: 0.2878 - accuracy: 0.8800 - val_loss: 0.3630 - val_accuracy: 0.8687\n",
            "Epoch 19/100\n",
            "200/200 [==============================] - 1s 4ms/step - loss: 0.2828 - accuracy: 0.8814 - val_loss: 0.3683 - val_accuracy: 0.8594\n",
            "Epoch 20/100\n",
            "200/200 [==============================] - 1s 3ms/step - loss: 0.2803 - accuracy: 0.8816 - val_loss: 0.3731 - val_accuracy: 0.8650\n",
            "Epoch 21/100\n",
            "200/200 [==============================] - 1s 3ms/step - loss: 0.2779 - accuracy: 0.8825 - val_loss: 0.3786 - val_accuracy: 0.8562\n",
            "Epoch 22/100\n",
            "200/200 [==============================] - 1s 4ms/step - loss: 0.2726 - accuracy: 0.8848 - val_loss: 0.3793 - val_accuracy: 0.8512\n",
            "Epoch 23/100\n",
            "200/200 [==============================] - 1s 4ms/step - loss: 0.2696 - accuracy: 0.8878 - val_loss: 0.3738 - val_accuracy: 0.8625\n",
            "Epoch 24/100\n",
            "200/200 [==============================] - 1s 3ms/step - loss: 0.2674 - accuracy: 0.8914 - val_loss: 0.3813 - val_accuracy: 0.8556\n",
            "Epoch 25/100\n",
            "200/200 [==============================] - 1s 4ms/step - loss: 0.2636 - accuracy: 0.8900 - val_loss: 0.3851 - val_accuracy: 0.8625\n",
            "Epoch 26/100\n",
            "200/200 [==============================] - 1s 4ms/step - loss: 0.2605 - accuracy: 0.8894 - val_loss: 0.3954 - val_accuracy: 0.8600\n",
            "Epoch 27/100\n",
            "200/200 [==============================] - 1s 5ms/step - loss: 0.2577 - accuracy: 0.8903 - val_loss: 0.3921 - val_accuracy: 0.8562\n",
            "Epoch 28/100\n",
            "200/200 [==============================] - 1s 5ms/step - loss: 0.2530 - accuracy: 0.8947 - val_loss: 0.3936 - val_accuracy: 0.8581\n",
            "Epoch 29/100\n",
            "200/200 [==============================] - 1s 4ms/step - loss: 0.2518 - accuracy: 0.8931 - val_loss: 0.3914 - val_accuracy: 0.8581\n",
            "Epoch 30/100\n",
            "200/200 [==============================] - 1s 4ms/step - loss: 0.2476 - accuracy: 0.8969 - val_loss: 0.4135 - val_accuracy: 0.8494\n",
            "Epoch 31/100\n",
            "200/200 [==============================] - 1s 3ms/step - loss: 0.2456 - accuracy: 0.8955 - val_loss: 0.4005 - val_accuracy: 0.8531\n",
            "Epoch 32/100\n",
            "200/200 [==============================] - 1s 4ms/step - loss: 0.2412 - accuracy: 0.8958 - val_loss: 0.4080 - val_accuracy: 0.8625\n",
            "Epoch 33/100\n",
            "200/200 [==============================] - 1s 3ms/step - loss: 0.2402 - accuracy: 0.8969 - val_loss: 0.4141 - val_accuracy: 0.8531\n",
            "Epoch 34/100\n",
            "200/200 [==============================] - 1s 4ms/step - loss: 0.2356 - accuracy: 0.8995 - val_loss: 0.4115 - val_accuracy: 0.8537\n",
            "Epoch 35/100\n",
            "200/200 [==============================] - 1s 3ms/step - loss: 0.2357 - accuracy: 0.8991 - val_loss: 0.4151 - val_accuracy: 0.8606\n",
            "Epoch 36/100\n",
            "200/200 [==============================] - 1s 3ms/step - loss: 0.2303 - accuracy: 0.9061 - val_loss: 0.4222 - val_accuracy: 0.8506\n",
            "Epoch 37/100\n",
            "200/200 [==============================] - 1s 4ms/step - loss: 0.2271 - accuracy: 0.9042 - val_loss: 0.4246 - val_accuracy: 0.8500\n",
            "Epoch 38/100\n",
            "200/200 [==============================] - 1s 4ms/step - loss: 0.2238 - accuracy: 0.9055 - val_loss: 0.4184 - val_accuracy: 0.8444\n",
            "Epoch 39/100\n",
            "200/200 [==============================] - 1s 4ms/step - loss: 0.2196 - accuracy: 0.9094 - val_loss: 0.4281 - val_accuracy: 0.8419\n",
            "Epoch 40/100\n",
            "200/200 [==============================] - 1s 4ms/step - loss: 0.2177 - accuracy: 0.9077 - val_loss: 0.4373 - val_accuracy: 0.8550\n",
            "Epoch 41/100\n",
            "200/200 [==============================] - 1s 5ms/step - loss: 0.2121 - accuracy: 0.9117 - val_loss: 0.4434 - val_accuracy: 0.8456\n",
            "Epoch 42/100\n",
            "200/200 [==============================] - 1s 5ms/step - loss: 0.2086 - accuracy: 0.9122 - val_loss: 0.4503 - val_accuracy: 0.8544\n",
            "Epoch 43/100\n",
            "200/200 [==============================] - 1s 5ms/step - loss: 0.2062 - accuracy: 0.9122 - val_loss: 0.4675 - val_accuracy: 0.8200\n",
            "Epoch 44/100\n",
            "200/200 [==============================] - 1s 5ms/step - loss: 0.2039 - accuracy: 0.9133 - val_loss: 0.4544 - val_accuracy: 0.8400\n",
            "Epoch 45/100\n",
            "200/200 [==============================] - 1s 3ms/step - loss: 0.1981 - accuracy: 0.9186 - val_loss: 0.4564 - val_accuracy: 0.8475\n",
            "Epoch 46/100\n",
            "200/200 [==============================] - 1s 4ms/step - loss: 0.1973 - accuracy: 0.9172 - val_loss: 0.4642 - val_accuracy: 0.8388\n",
            "Epoch 47/100\n",
            "200/200 [==============================] - 1s 3ms/step - loss: 0.1956 - accuracy: 0.9192 - val_loss: 0.4745 - val_accuracy: 0.8238\n",
            "Epoch 48/100\n",
            "200/200 [==============================] - 1s 4ms/step - loss: 0.1897 - accuracy: 0.9186 - val_loss: 0.4765 - val_accuracy: 0.8388\n",
            "Epoch 49/100\n",
            "200/200 [==============================] - 1s 3ms/step - loss: 0.1883 - accuracy: 0.9194 - val_loss: 0.4732 - val_accuracy: 0.8363\n",
            "Epoch 50/100\n",
            "200/200 [==============================] - 1s 4ms/step - loss: 0.1838 - accuracy: 0.9239 - val_loss: 0.4813 - val_accuracy: 0.8456\n",
            "Epoch 51/100\n",
            "200/200 [==============================] - 1s 3ms/step - loss: 0.1821 - accuracy: 0.9252 - val_loss: 0.4919 - val_accuracy: 0.8475\n",
            "Epoch 52/100\n",
            "200/200 [==============================] - 1s 3ms/step - loss: 0.1802 - accuracy: 0.9262 - val_loss: 0.4952 - val_accuracy: 0.8356\n",
            "Epoch 53/100\n",
            "200/200 [==============================] - 1s 3ms/step - loss: 0.1767 - accuracy: 0.9287 - val_loss: 0.4968 - val_accuracy: 0.8450\n",
            "Epoch 54/100\n",
            "200/200 [==============================] - 1s 3ms/step - loss: 0.1732 - accuracy: 0.9287 - val_loss: 0.5206 - val_accuracy: 0.8406\n",
            "Epoch 55/100\n",
            "200/200 [==============================] - 1s 3ms/step - loss: 0.1682 - accuracy: 0.9287 - val_loss: 0.5104 - val_accuracy: 0.8469\n",
            "Epoch 56/100\n",
            "200/200 [==============================] - 1s 3ms/step - loss: 0.1669 - accuracy: 0.9297 - val_loss: 0.5267 - val_accuracy: 0.8400\n",
            "Epoch 57/100\n",
            "200/200 [==============================] - 1s 3ms/step - loss: 0.1610 - accuracy: 0.9348 - val_loss: 0.5293 - val_accuracy: 0.8319\n",
            "Epoch 58/100\n",
            "200/200 [==============================] - 1s 4ms/step - loss: 0.1601 - accuracy: 0.9316 - val_loss: 0.5350 - val_accuracy: 0.8319\n",
            "Epoch 59/100\n",
            "200/200 [==============================] - 1s 5ms/step - loss: 0.1611 - accuracy: 0.9334 - val_loss: 0.5424 - val_accuracy: 0.8231\n",
            "Epoch 60/100\n",
            "200/200 [==============================] - 1s 5ms/step - loss: 0.1562 - accuracy: 0.9388 - val_loss: 0.5556 - val_accuracy: 0.8419\n",
            "Epoch 61/100\n",
            "200/200 [==============================] - 1s 3ms/step - loss: 0.1605 - accuracy: 0.9344 - val_loss: 0.5518 - val_accuracy: 0.8363\n",
            "Epoch 62/100\n",
            "200/200 [==============================] - 1s 4ms/step - loss: 0.1548 - accuracy: 0.9369 - val_loss: 0.5543 - val_accuracy: 0.8319\n",
            "Epoch 63/100\n",
            "200/200 [==============================] - 1s 4ms/step - loss: 0.1483 - accuracy: 0.9413 - val_loss: 0.5552 - val_accuracy: 0.8331\n",
            "Epoch 64/100\n",
            "200/200 [==============================] - 1s 3ms/step - loss: 0.1416 - accuracy: 0.9470 - val_loss: 0.5808 - val_accuracy: 0.8394\n",
            "Epoch 65/100\n",
            "200/200 [==============================] - 1s 4ms/step - loss: 0.1486 - accuracy: 0.9405 - val_loss: 0.5754 - val_accuracy: 0.8450\n",
            "Epoch 66/100\n",
            "200/200 [==============================] - 1s 3ms/step - loss: 0.1398 - accuracy: 0.9448 - val_loss: 0.5758 - val_accuracy: 0.8281\n",
            "Epoch 67/100\n",
            "200/200 [==============================] - 1s 4ms/step - loss: 0.1372 - accuracy: 0.9434 - val_loss: 0.5798 - val_accuracy: 0.8363\n",
            "Epoch 68/100\n",
            "200/200 [==============================] - 1s 3ms/step - loss: 0.1370 - accuracy: 0.9450 - val_loss: 0.5990 - val_accuracy: 0.8344\n",
            "Epoch 69/100\n",
            "200/200 [==============================] - 1s 4ms/step - loss: 0.1363 - accuracy: 0.9461 - val_loss: 0.6058 - val_accuracy: 0.8225\n",
            "Epoch 70/100\n",
            "200/200 [==============================] - 1s 3ms/step - loss: 0.1359 - accuracy: 0.9456 - val_loss: 0.6057 - val_accuracy: 0.8313\n",
            "Epoch 71/100\n",
            "200/200 [==============================] - 1s 3ms/step - loss: 0.1329 - accuracy: 0.9452 - val_loss: 0.5982 - val_accuracy: 0.8456\n",
            "Epoch 72/100\n",
            "200/200 [==============================] - 1s 4ms/step - loss: 0.1271 - accuracy: 0.9498 - val_loss: 0.6041 - val_accuracy: 0.8231\n",
            "Epoch 73/100\n",
            "200/200 [==============================] - 1s 3ms/step - loss: 0.1232 - accuracy: 0.9523 - val_loss: 0.6175 - val_accuracy: 0.8281\n",
            "Epoch 74/100\n",
            "200/200 [==============================] - 1s 3ms/step - loss: 0.1226 - accuracy: 0.9492 - val_loss: 0.6205 - val_accuracy: 0.8350\n",
            "Epoch 75/100\n",
            "200/200 [==============================] - 1s 5ms/step - loss: 0.1231 - accuracy: 0.9533 - val_loss: 0.6269 - val_accuracy: 0.8363\n",
            "Epoch 76/100\n",
            "200/200 [==============================] - 1s 5ms/step - loss: 0.1187 - accuracy: 0.9522 - val_loss: 0.6591 - val_accuracy: 0.8344\n",
            "Epoch 77/100\n",
            "200/200 [==============================] - 1s 4ms/step - loss: 0.1137 - accuracy: 0.9555 - val_loss: 0.6746 - val_accuracy: 0.8156\n",
            "Epoch 78/100\n",
            "200/200 [==============================] - 1s 3ms/step - loss: 0.1178 - accuracy: 0.9536 - val_loss: 0.6614 - val_accuracy: 0.8425\n",
            "Epoch 79/100\n",
            "200/200 [==============================] - 1s 3ms/step - loss: 0.1169 - accuracy: 0.9530 - val_loss: 0.6474 - val_accuracy: 0.8338\n",
            "Epoch 80/100\n",
            "200/200 [==============================] - 1s 3ms/step - loss: 0.1126 - accuracy: 0.9570 - val_loss: 0.6913 - val_accuracy: 0.8188\n",
            "Epoch 81/100\n",
            "200/200 [==============================] - 1s 3ms/step - loss: 0.1086 - accuracy: 0.9575 - val_loss: 0.6884 - val_accuracy: 0.8288\n",
            "Epoch 82/100\n",
            "200/200 [==============================] - 1s 3ms/step - loss: 0.1180 - accuracy: 0.9528 - val_loss: 0.6973 - val_accuracy: 0.8306\n",
            "Epoch 83/100\n",
            "200/200 [==============================] - 1s 4ms/step - loss: 0.1035 - accuracy: 0.9609 - val_loss: 0.7097 - val_accuracy: 0.8087\n",
            "Epoch 84/100\n",
            "200/200 [==============================] - 1s 4ms/step - loss: 0.1041 - accuracy: 0.9581 - val_loss: 0.7256 - val_accuracy: 0.8037\n",
            "Epoch 85/100\n",
            "200/200 [==============================] - 1s 3ms/step - loss: 0.1010 - accuracy: 0.9602 - val_loss: 0.7253 - val_accuracy: 0.8281\n",
            "Epoch 86/100\n",
            "200/200 [==============================] - 1s 3ms/step - loss: 0.0989 - accuracy: 0.9602 - val_loss: 0.7128 - val_accuracy: 0.8300\n",
            "Epoch 87/100\n",
            "200/200 [==============================] - 1s 4ms/step - loss: 0.0979 - accuracy: 0.9633 - val_loss: 0.7364 - val_accuracy: 0.8275\n",
            "Epoch 88/100\n",
            "200/200 [==============================] - 1s 4ms/step - loss: 0.0947 - accuracy: 0.9644 - val_loss: 0.7347 - val_accuracy: 0.8369\n",
            "Epoch 89/100\n",
            "200/200 [==============================] - 1s 4ms/step - loss: 0.0906 - accuracy: 0.9666 - val_loss: 0.7819 - val_accuracy: 0.8125\n",
            "Epoch 90/100\n",
            "200/200 [==============================] - 1s 3ms/step - loss: 0.0974 - accuracy: 0.9622 - val_loss: 0.7485 - val_accuracy: 0.8181\n",
            "Epoch 91/100\n",
            "200/200 [==============================] - 1s 4ms/step - loss: 0.0848 - accuracy: 0.9686 - val_loss: 0.7725 - val_accuracy: 0.8250\n",
            "Epoch 92/100\n",
            "200/200 [==============================] - 1s 5ms/step - loss: 0.0883 - accuracy: 0.9689 - val_loss: 0.8006 - val_accuracy: 0.8294\n",
            "Epoch 93/100\n",
            "200/200 [==============================] - 1s 5ms/step - loss: 0.0905 - accuracy: 0.9653 - val_loss: 0.7840 - val_accuracy: 0.8206\n",
            "Epoch 94/100\n",
            "200/200 [==============================] - 1s 3ms/step - loss: 0.0861 - accuracy: 0.9688 - val_loss: 0.7964 - val_accuracy: 0.8275\n",
            "Epoch 95/100\n",
            "200/200 [==============================] - 1s 4ms/step - loss: 0.0814 - accuracy: 0.9725 - val_loss: 0.8067 - val_accuracy: 0.8238\n",
            "Epoch 96/100\n",
            "200/200 [==============================] - 1s 4ms/step - loss: 0.0838 - accuracy: 0.9689 - val_loss: 0.8269 - val_accuracy: 0.8338\n",
            "Epoch 97/100\n",
            "200/200 [==============================] - 1s 3ms/step - loss: 0.0812 - accuracy: 0.9708 - val_loss: 0.8191 - val_accuracy: 0.8250\n",
            "Epoch 98/100\n",
            "200/200 [==============================] - 1s 3ms/step - loss: 0.0771 - accuracy: 0.9723 - val_loss: 0.8389 - val_accuracy: 0.8194\n",
            "Epoch 99/100\n",
            "200/200 [==============================] - 1s 3ms/step - loss: 0.0797 - accuracy: 0.9737 - val_loss: 0.8496 - val_accuracy: 0.8144\n",
            "Epoch 100/100\n",
            "200/200 [==============================] - 1s 3ms/step - loss: 0.0723 - accuracy: 0.9764 - val_loss: 0.8417 - val_accuracy: 0.8413\n"
          ]
        }
      ]
    },
    {
      "cell_type": "code",
      "source": [
        "# Prediction of Neural Network..\n",
        "Y_Predicted=model.predict(X_test_scaled)"
      ],
      "metadata": {
        "id": "UrmHaDIA1FhE",
        "colab": {
          "base_uri": "https://localhost:8080/"
        },
        "outputId": "b51727b9-88c3-4df5-8ad7-62b9eebb8d18"
      },
      "execution_count": 127,
      "outputs": [
        {
          "output_type": "stream",
          "name": "stdout",
          "text": [
            "63/63 [==============================] - 0s 1ms/step\n"
          ]
        }
      ]
    },
    {
      "cell_type": "code",
      "source": [
        "# Calulating the accuracy..\n",
        "from sklearn.metrics import r2_score\n",
        "r2_score(Y_test,Y_Predicted)"
      ],
      "metadata": {
        "id": "i_LYqWxd1Fj9",
        "colab": {
          "base_uri": "https://localhost:8080/"
        },
        "outputId": "3bb268f1-cbdd-4bcf-f09c-6ac2bce05631"
      },
      "execution_count": 128,
      "outputs": [
        {
          "output_type": "execute_result",
          "data": {
            "text/plain": [
              "0.09250371102476296"
            ]
          },
          "metadata": {},
          "execution_count": 128
        }
      ]
    },
    {
      "cell_type": "code",
      "source": [
        "# Plotting the graph of loss..\n",
        "import matplotlib.pyplot as plt\n",
        "plt.plot(history.history[\"loss\"])\n",
        "plt.plot(history.history[\"val_loss\"])\n",
        "plt.show()"
      ],
      "metadata": {
        "id": "ChKnkkGh1FnY",
        "colab": {
          "base_uri": "https://localhost:8080/",
          "height": 430
        },
        "outputId": "67016132-d16a-4b3f-a072-808d7f31640e"
      },
      "execution_count": 129,
      "outputs": [
        {
          "output_type": "display_data",
          "data": {
            "text/plain": [
              "<Figure size 640x480 with 1 Axes>"
            ],
            "image/png": "[encoded data removed]"
          },
          "metadata": {}
        }
      ]
    },
    {
      "cell_type": "code",
      "source": [
        "# Plotting the graph of accuracy..\n",
        "import matplotlib.pyplot as plt\n",
        "plt.plot(history.history[\"accuracy\"])\n",
        "plt.plot(history.history[\"val_accuracy\"])\n",
        "plt.show()"
      ],
      "metadata": {
        "id": "lHCAq_z114Qr",
        "colab": {
          "base_uri": "https://localhost:8080/",
          "height": 430
        },
        "outputId": "ee23a0ac-c0b8-4610-f817-1536a7d3d35b"
      },
      "execution_count": 130,
      "outputs": [
        {
          "output_type": "display_data",
          "data": {
            "text/plain": [
              "<Figure size 640x480 with 1 Axes>"
            ],
            "image/png": "[encoded data removed]"
          },
          "metadata": {}
        }
      ]
    },
    {
      "cell_type": "markdown",
      "source": [
        "# With Hyper Paramter Tuning..."
      ],
      "metadata": {
        "id": "ZzWJMEVIzfer"
      }
    },
    {
      "cell_type": "code",
      "source": [
        "pip install keras-tuner --upgrade"
      ],
      "metadata": {
        "colab": {
          "base_uri": "https://localhost:8080/"
        },
        "id": "9dwxDaq_VEdp",
        "outputId": "03f88512-9721-4331-fe9b-66b02f7e62e7"
      },
      "execution_count": 131,
      "outputs": [
        {
          "output_type": "stream",
          "name": "stdout",
          "text": [
            "Requirement already satisfied: keras-tuner in /usr/local/lib/python3.10/dist-packages (1.3.5)\n",
            "Requirement already satisfied: packaging in /usr/local/lib/python3.10/dist-packages (from keras-tuner) (23.1)\n",
            "Requirement already satisfied: requests in /usr/local/lib/python3.10/dist-packages (from keras-tuner) (2.31.0)\n",
            "Requirement already satisfied: kt-legacy in /usr/local/lib/python3.10/dist-packages (from keras-tuner) (1.0.5)\n",
            "Requirement already satisfied: charset-normalizer<4,>=2 in /usr/local/lib/python3.10/dist-packages (from requests->keras-tuner) (3.2.0)\n",
            "Requirement already satisfied: idna<4,>=2.5 in /usr/local/lib/python3.10/dist-packages (from requests->keras-tuner) (3.4)\n",
            "Requirement already satisfied: urllib3<3,>=1.21.1 in /usr/local/lib/python3.10/dist-packages (from requests->keras-tuner) (2.0.4)\n",
            "Requirement already satisfied: certifi>=2017.4.17 in /usr/local/lib/python3.10/dist-packages (from requests->keras-tuner) (2023.7.22)\n"
          ]
        }
      ]
    },
    {
      "cell_type": "code",
      "source": [
        "import keras_tuner as kt"
      ],
      "metadata": {
        "id": "rovcVawCVEga"
      },
      "execution_count": 132,
      "outputs": []
    },
    {
      "cell_type": "markdown",
      "source": [
        "Finding the best Optimizer..."
      ],
      "metadata": {
        "id": "GlP1npSBp3Fw"
      }
    },
    {
      "cell_type": "code",
      "source": [
        "def build_model(hp):\n",
        "  model=Sequential()\n",
        "  model.add(Dense(50,activation=\"relu\",input_dim=12))\n",
        "  model.add(Dense(50,activation=\"relu\"))\n",
        "  model.add(Dense(50,activation=\"relu\"))\n",
        "  #Creating 1 Node in the Output Layer..\n",
        "  model.add(Dense(1,activation=\"sigmoid\"))\n",
        "  optimizer=hp.Choice(\"Optimizer\",[\"adam\",\"rmsprop\",\"sgd\",\"adadelta\"])\n",
        "  model.compile(loss=\"binary_crossentropy\",optimizer=optimizer,metrics=[\"accuracy\"])\n",
        "  return model"
      ],
      "metadata": {
        "id": "35pRZc9eVEjp"
      },
      "execution_count": 166,
      "outputs": []
    },
    {
      "cell_type": "code",
      "source": [
        "tuner=kt.RandomSearch(build_model,objective=\"val_accuracy\",max_trials=5,directory=\"My_Dir\",project_name=\"Best Optimizer\")"
      ],
      "metadata": {
        "id": "1q9ZDVXsVEms"
      },
      "execution_count": 169,
      "outputs": []
    },
    {
      "cell_type": "code",
      "source": [
        "tuner.search(X_train,Y_train,epochs=20,validation_data=(X_test,Y_test))"
      ],
      "metadata": {
        "id": "XKPHiFPcVEp5",
        "colab": {
          "base_uri": "https://localhost:8080/"
        },
        "outputId": "eaad992f-c6eb-4757-caeb-2c669bf8b554"
      },
      "execution_count": 170,
      "outputs": [
        {
          "output_type": "stream",
          "name": "stdout",
          "text": [
            "Trial 4 Complete [00h 00m 22s]\n",
            "val_accuracy: 0.7465000152587891\n",
            "\n",
            "Best val_accuracy So Far: 0.8019999861717224\n",
            "Total elapsed time: 00h 01m 28s\n"
          ]
        }
      ]
    },
    {
      "cell_type": "code",
      "source": [
        "tuner.get_best_hyperparameters"
      ],
      "metadata": {
        "colab": {
          "base_uri": "https://localhost:8080/"
        },
        "id": "CXwnlqDzcBDR",
        "outputId": "68f104c8-c39b-40e7-c5a5-9180cf1d944f"
      },
      "execution_count": 171,
      "outputs": [
        {
          "output_type": "execute_result",
          "data": {
            "text/plain": [
              "<bound method BaseTuner.get_best_hyperparameters of <keras_tuner.tuners.randomsearch.RandomSearch object at 0x7dd741469a50>>"
            ]
          },
          "metadata": {},
          "execution_count": 171
        }
      ]
    },
    {
      "cell_type": "code",
      "source": [
        "tuner.get_best_hyperparameters()[0].values"
      ],
      "metadata": {
        "colab": {
          "base_uri": "https://localhost:8080/"
        },
        "id": "Ijp9uGFucHDW",
        "outputId": "5782f1a9-0e45-49a9-f78a-9c8f1364bcde"
      },
      "execution_count": 172,
      "outputs": [
        {
          "output_type": "execute_result",
          "data": {
            "text/plain": [
              "{'Optimizer': 'adam'}"
            ]
          },
          "metadata": {},
          "execution_count": 172
        }
      ]
    },
    {
      "cell_type": "code",
      "source": [
        "model=tuner.get_best_models(num_models=1)[0]"
      ],
      "metadata": {
        "id": "wn78zbvJcibD"
      },
      "execution_count": 173,
      "outputs": []
    },
    {
      "cell_type": "code",
      "source": [
        "model.summary()"
      ],
      "metadata": {
        "colab": {
          "base_uri": "https://localhost:8080/"
        },
        "id": "KI-eDepJcurd",
        "outputId": "f4d7a62f-54e9-46ff-aad9-638c63dc04c9"
      },
      "execution_count": 174,
      "outputs": [
        {
          "output_type": "stream",
          "name": "stdout",
          "text": [
            "Model: \"sequential\"\n",
            "_________________________________________________________________\n",
            " Layer (type)                Output Shape              Param #   \n",
            "=================================================================\n",
            " dense (Dense)               (None, 50)                650       \n",
            "                                                                 \n",
            " dense_1 (Dense)             (None, 50)                2550      \n",
            "                                                                 \n",
            " dense_2 (Dense)             (None, 50)                2550      \n",
            "                                                                 \n",
            " dense_3 (Dense)             (None, 1)                 51        \n",
            "                                                                 \n",
            "=================================================================\n",
            "Total params: 5,801\n",
            "Trainable params: 5,801\n",
            "Non-trainable params: 0\n",
            "_________________________________________________________________\n"
          ]
        }
      ]
    },
    {
      "cell_type": "code",
      "source": [
        "# Training the Neural Network..\n",
        "history=model.fit(X_train_scaled,Y_train,epochs=100,initial_epoch=21,validation_data=(X_test_scaled,Y_test))"
      ],
      "metadata": {
        "colab": {
          "base_uri": "https://localhost:8080/"
        },
        "id": "vaAHPCDFdAV1",
        "outputId": "16dae950-c581-4dc9-ff45-dc82c99d3ee7"
      },
      "execution_count": 175,
      "outputs": [
        {
          "output_type": "stream",
          "name": "stdout",
          "text": [
            "Epoch 22/100\n",
            "250/250 [==============================] - 3s 5ms/step - loss: 0.4095 - accuracy: 0.8264 - val_loss: 0.3670 - val_accuracy: 0.8480\n",
            "Epoch 23/100\n",
            "250/250 [==============================] - 1s 5ms/step - loss: 0.3529 - accuracy: 0.8541 - val_loss: 0.3487 - val_accuracy: 0.8555\n",
            "Epoch 24/100\n",
            "250/250 [==============================] - 1s 4ms/step - loss: 0.3418 - accuracy: 0.8572 - val_loss: 0.3460 - val_accuracy: 0.8545\n",
            "Epoch 25/100\n",
            "250/250 [==============================] - 1s 4ms/step - loss: 0.3350 - accuracy: 0.8615 - val_loss: 0.3456 - val_accuracy: 0.8525\n",
            "Epoch 26/100\n",
            "250/250 [==============================] - 1s 4ms/step - loss: 0.3316 - accuracy: 0.8630 - val_loss: 0.3453 - val_accuracy: 0.8600\n",
            "Epoch 27/100\n",
            "250/250 [==============================] - 1s 3ms/step - loss: 0.3258 - accuracy: 0.8648 - val_loss: 0.3506 - val_accuracy: 0.8525\n",
            "Epoch 28/100\n",
            "250/250 [==============================] - 1s 5ms/step - loss: 0.3230 - accuracy: 0.8685 - val_loss: 0.3436 - val_accuracy: 0.8520\n",
            "Epoch 29/100\n",
            "250/250 [==============================] - 1s 4ms/step - loss: 0.3208 - accuracy: 0.8696 - val_loss: 0.3435 - val_accuracy: 0.8550\n",
            "Epoch 30/100\n",
            "250/250 [==============================] - 1s 4ms/step - loss: 0.3164 - accuracy: 0.8695 - val_loss: 0.3390 - val_accuracy: 0.8590\n",
            "Epoch 31/100\n",
            "250/250 [==============================] - 1s 3ms/step - loss: 0.3139 - accuracy: 0.8709 - val_loss: 0.3381 - val_accuracy: 0.8545\n",
            "Epoch 32/100\n",
            "250/250 [==============================] - 1s 4ms/step - loss: 0.3108 - accuracy: 0.8750 - val_loss: 0.3435 - val_accuracy: 0.8535\n",
            "Epoch 33/100\n",
            "250/250 [==============================] - 1s 4ms/step - loss: 0.3087 - accuracy: 0.8731 - val_loss: 0.3456 - val_accuracy: 0.8595\n",
            "Epoch 34/100\n",
            "250/250 [==============================] - 1s 4ms/step - loss: 0.3066 - accuracy: 0.8726 - val_loss: 0.3409 - val_accuracy: 0.8540\n",
            "Epoch 35/100\n",
            "250/250 [==============================] - 1s 5ms/step - loss: 0.3055 - accuracy: 0.8746 - val_loss: 0.3421 - val_accuracy: 0.8555\n",
            "Epoch 36/100\n",
            "250/250 [==============================] - 1s 5ms/step - loss: 0.3020 - accuracy: 0.8741 - val_loss: 0.3427 - val_accuracy: 0.8545\n",
            "Epoch 37/100\n",
            "250/250 [==============================] - 1s 4ms/step - loss: 0.2998 - accuracy: 0.8769 - val_loss: 0.3446 - val_accuracy: 0.8540\n",
            "Epoch 38/100\n",
            "250/250 [==============================] - 1s 3ms/step - loss: 0.2978 - accuracy: 0.8776 - val_loss: 0.3444 - val_accuracy: 0.8560\n",
            "Epoch 39/100\n",
            "250/250 [==============================] - 1s 5ms/step - loss: 0.2945 - accuracy: 0.8789 - val_loss: 0.3481 - val_accuracy: 0.8570\n",
            "Epoch 40/100\n",
            "250/250 [==============================] - 1s 5ms/step - loss: 0.2905 - accuracy: 0.8806 - val_loss: 0.3469 - val_accuracy: 0.8550\n",
            "Epoch 41/100\n",
            "250/250 [==============================] - 1s 4ms/step - loss: 0.2906 - accuracy: 0.8802 - val_loss: 0.3599 - val_accuracy: 0.8565\n",
            "Epoch 42/100\n",
            "250/250 [==============================] - 1s 5ms/step - loss: 0.2875 - accuracy: 0.8809 - val_loss: 0.3502 - val_accuracy: 0.8560\n",
            "Epoch 43/100\n",
            "250/250 [==============================] - 2s 6ms/step - loss: 0.2840 - accuracy: 0.8859 - val_loss: 0.3593 - val_accuracy: 0.8550\n",
            "Epoch 44/100\n",
            "250/250 [==============================] - 1s 5ms/step - loss: 0.2819 - accuracy: 0.8841 - val_loss: 0.3707 - val_accuracy: 0.8530\n",
            "Epoch 45/100\n",
            "250/250 [==============================] - 2s 10ms/step - loss: 0.2789 - accuracy: 0.8856 - val_loss: 0.3611 - val_accuracy: 0.8525\n",
            "Epoch 46/100\n",
            "250/250 [==============================] - 1s 6ms/step - loss: 0.2782 - accuracy: 0.8857 - val_loss: 0.3632 - val_accuracy: 0.8525\n",
            "Epoch 47/100\n",
            "250/250 [==============================] - 1s 4ms/step - loss: 0.2745 - accuracy: 0.8886 - val_loss: 0.3590 - val_accuracy: 0.8555\n",
            "Epoch 48/100\n",
            "250/250 [==============================] - 1s 4ms/step - loss: 0.2735 - accuracy: 0.8870 - val_loss: 0.3699 - val_accuracy: 0.8540\n",
            "Epoch 49/100\n",
            "250/250 [==============================] - 1s 3ms/step - loss: 0.2700 - accuracy: 0.8904 - val_loss: 0.3647 - val_accuracy: 0.8520\n",
            "Epoch 50/100\n",
            "250/250 [==============================] - 1s 4ms/step - loss: 0.2674 - accuracy: 0.8916 - val_loss: 0.3726 - val_accuracy: 0.8480\n",
            "Epoch 51/100\n",
            "250/250 [==============================] - 1s 4ms/step - loss: 0.2651 - accuracy: 0.8929 - val_loss: 0.3821 - val_accuracy: 0.8510\n",
            "Epoch 52/100\n",
            "250/250 [==============================] - 1s 4ms/step - loss: 0.2642 - accuracy: 0.8938 - val_loss: 0.3847 - val_accuracy: 0.8475\n",
            "Epoch 53/100\n",
            "250/250 [==============================] - 1s 4ms/step - loss: 0.2614 - accuracy: 0.8917 - val_loss: 0.3909 - val_accuracy: 0.8435\n",
            "Epoch 54/100\n",
            "250/250 [==============================] - 1s 4ms/step - loss: 0.2584 - accuracy: 0.8936 - val_loss: 0.3898 - val_accuracy: 0.8490\n",
            "Epoch 55/100\n",
            "250/250 [==============================] - 1s 4ms/step - loss: 0.2553 - accuracy: 0.8963 - val_loss: 0.3998 - val_accuracy: 0.8450\n",
            "Epoch 56/100\n",
            "250/250 [==============================] - 1s 5ms/step - loss: 0.2514 - accuracy: 0.8969 - val_loss: 0.3978 - val_accuracy: 0.8485\n",
            "Epoch 57/100\n",
            "250/250 [==============================] - 2s 7ms/step - loss: 0.2509 - accuracy: 0.8967 - val_loss: 0.3894 - val_accuracy: 0.8460\n",
            "Epoch 58/100\n",
            "250/250 [==============================] - 1s 4ms/step - loss: 0.2499 - accuracy: 0.8961 - val_loss: 0.3986 - val_accuracy: 0.8400\n",
            "Epoch 59/100\n",
            "250/250 [==============================] - 1s 4ms/step - loss: 0.2461 - accuracy: 0.8960 - val_loss: 0.3980 - val_accuracy: 0.8480\n",
            "Epoch 60/100\n",
            "250/250 [==============================] - 1s 3ms/step - loss: 0.2451 - accuracy: 0.9011 - val_loss: 0.4016 - val_accuracy: 0.8400\n",
            "Epoch 61/100\n",
            "250/250 [==============================] - 1s 4ms/step - loss: 0.2427 - accuracy: 0.8982 - val_loss: 0.4070 - val_accuracy: 0.8405\n",
            "Epoch 62/100\n",
            "250/250 [==============================] - 2s 8ms/step - loss: 0.2401 - accuracy: 0.9019 - val_loss: 0.4056 - val_accuracy: 0.8460\n",
            "Epoch 63/100\n",
            "250/250 [==============================] - 2s 7ms/step - loss: 0.2387 - accuracy: 0.9001 - val_loss: 0.4168 - val_accuracy: 0.8390\n",
            "Epoch 64/100\n",
            "250/250 [==============================] - 1s 6ms/step - loss: 0.2360 - accuracy: 0.9021 - val_loss: 0.4090 - val_accuracy: 0.8405\n",
            "Epoch 65/100\n",
            "250/250 [==============================] - 1s 5ms/step - loss: 0.2344 - accuracy: 0.9025 - val_loss: 0.4233 - val_accuracy: 0.8335\n",
            "Epoch 66/100\n",
            "250/250 [==============================] - 2s 6ms/step - loss: 0.2322 - accuracy: 0.9029 - val_loss: 0.4319 - val_accuracy: 0.8365\n",
            "Epoch 67/100\n",
            "250/250 [==============================] - 1s 6ms/step - loss: 0.2309 - accuracy: 0.9019 - val_loss: 0.4197 - val_accuracy: 0.8385\n",
            "Epoch 68/100\n",
            "250/250 [==============================] - 1s 5ms/step - loss: 0.2271 - accuracy: 0.9045 - val_loss: 0.4244 - val_accuracy: 0.8400\n",
            "Epoch 69/100\n",
            "250/250 [==============================] - 1s 4ms/step - loss: 0.2243 - accuracy: 0.9078 - val_loss: 0.4307 - val_accuracy: 0.8375\n",
            "Epoch 70/100\n",
            "250/250 [==============================] - 1s 6ms/step - loss: 0.2261 - accuracy: 0.9039 - val_loss: 0.4354 - val_accuracy: 0.8385\n",
            "Epoch 71/100\n",
            "250/250 [==============================] - 1s 4ms/step - loss: 0.2210 - accuracy: 0.9105 - val_loss: 0.4354 - val_accuracy: 0.8415\n",
            "Epoch 72/100\n",
            "250/250 [==============================] - 1s 3ms/step - loss: 0.2219 - accuracy: 0.9075 - val_loss: 0.4368 - val_accuracy: 0.8335\n",
            "Epoch 73/100\n",
            "250/250 [==============================] - 1s 5ms/step - loss: 0.2190 - accuracy: 0.9109 - val_loss: 0.4445 - val_accuracy: 0.8280\n",
            "Epoch 74/100\n",
            "250/250 [==============================] - 1s 4ms/step - loss: 0.2186 - accuracy: 0.9116 - val_loss: 0.4560 - val_accuracy: 0.8350\n",
            "Epoch 75/100\n",
            "250/250 [==============================] - 1s 4ms/step - loss: 0.2145 - accuracy: 0.9133 - val_loss: 0.4459 - val_accuracy: 0.8420\n",
            "Epoch 76/100\n",
            "250/250 [==============================] - 2s 8ms/step - loss: 0.2129 - accuracy: 0.9124 - val_loss: 0.4525 - val_accuracy: 0.8460\n",
            "Epoch 77/100\n",
            "250/250 [==============================] - 2s 8ms/step - loss: 0.2136 - accuracy: 0.9128 - val_loss: 0.4570 - val_accuracy: 0.8320\n",
            "Epoch 78/100\n",
            "250/250 [==============================] - 1s 5ms/step - loss: 0.2092 - accuracy: 0.9125 - val_loss: 0.4647 - val_accuracy: 0.8360\n",
            "Epoch 79/100\n",
            "250/250 [==============================] - 1s 5ms/step - loss: 0.2082 - accuracy: 0.9146 - val_loss: 0.4629 - val_accuracy: 0.8385\n",
            "Epoch 80/100\n",
            "250/250 [==============================] - 1s 4ms/step - loss: 0.2045 - accuracy: 0.9166 - val_loss: 0.4683 - val_accuracy: 0.8350\n",
            "Epoch 81/100\n",
            "250/250 [==============================] - 1s 4ms/step - loss: 0.2072 - accuracy: 0.9155 - val_loss: 0.4779 - val_accuracy: 0.8365\n",
            "Epoch 82/100\n",
            "250/250 [==============================] - 1s 3ms/step - loss: 0.1992 - accuracy: 0.9189 - val_loss: 0.4771 - val_accuracy: 0.8345\n",
            "Epoch 83/100\n",
            "250/250 [==============================] - 1s 4ms/step - loss: 0.2007 - accuracy: 0.9156 - val_loss: 0.4839 - val_accuracy: 0.8300\n",
            "Epoch 84/100\n",
            "250/250 [==============================] - 1s 5ms/step - loss: 0.1970 - accuracy: 0.9169 - val_loss: 0.4809 - val_accuracy: 0.8325\n",
            "Epoch 85/100\n",
            "250/250 [==============================] - 1s 4ms/step - loss: 0.1995 - accuracy: 0.9155 - val_loss: 0.4855 - val_accuracy: 0.8305\n",
            "Epoch 86/100\n",
            "250/250 [==============================] - 1s 5ms/step - loss: 0.1932 - accuracy: 0.9184 - val_loss: 0.4929 - val_accuracy: 0.8280\n",
            "Epoch 87/100\n",
            "250/250 [==============================] - 1s 4ms/step - loss: 0.1923 - accuracy: 0.9200 - val_loss: 0.4990 - val_accuracy: 0.8225\n",
            "Epoch 88/100\n",
            "250/250 [==============================] - 1s 5ms/step - loss: 0.1902 - accuracy: 0.9204 - val_loss: 0.5057 - val_accuracy: 0.8240\n",
            "Epoch 89/100\n",
            "250/250 [==============================] - 1s 5ms/step - loss: 0.1892 - accuracy: 0.9190 - val_loss: 0.4938 - val_accuracy: 0.8295\n",
            "Epoch 90/100\n",
            "250/250 [==============================] - 1s 4ms/step - loss: 0.1896 - accuracy: 0.9226 - val_loss: 0.4969 - val_accuracy: 0.8345\n",
            "Epoch 91/100\n",
            "250/250 [==============================] - 1s 3ms/step - loss: 0.1856 - accuracy: 0.9236 - val_loss: 0.5038 - val_accuracy: 0.8230\n",
            "Epoch 92/100\n",
            "250/250 [==============================] - 1s 4ms/step - loss: 0.1844 - accuracy: 0.9230 - val_loss: 0.5203 - val_accuracy: 0.8325\n",
            "Epoch 93/100\n",
            "250/250 [==============================] - 1s 4ms/step - loss: 0.1821 - accuracy: 0.9219 - val_loss: 0.5136 - val_accuracy: 0.8315\n",
            "Epoch 94/100\n",
            "250/250 [==============================] - 1s 3ms/step - loss: 0.1827 - accuracy: 0.9218 - val_loss: 0.5229 - val_accuracy: 0.8360\n",
            "Epoch 95/100\n",
            "250/250 [==============================] - 1s 3ms/step - loss: 0.1797 - accuracy: 0.9260 - val_loss: 0.5399 - val_accuracy: 0.8175\n",
            "Epoch 96/100\n",
            "250/250 [==============================] - 1s 4ms/step - loss: 0.1779 - accuracy: 0.9254 - val_loss: 0.5285 - val_accuracy: 0.8250\n",
            "Epoch 97/100\n",
            "250/250 [==============================] - 1s 3ms/step - loss: 0.1747 - accuracy: 0.9290 - val_loss: 0.5373 - val_accuracy: 0.8270\n",
            "Epoch 98/100\n",
            "250/250 [==============================] - 1s 3ms/step - loss: 0.1746 - accuracy: 0.9264 - val_loss: 0.5355 - val_accuracy: 0.8290\n",
            "Epoch 99/100\n",
            "250/250 [==============================] - 1s 3ms/step - loss: 0.1718 - accuracy: 0.9295 - val_loss: 0.5453 - val_accuracy: 0.8300\n",
            "Epoch 100/100\n",
            "250/250 [==============================] - 1s 4ms/step - loss: 0.1716 - accuracy: 0.9280 - val_loss: 0.5654 - val_accuracy: 0.8230\n"
          ]
        }
      ]
    },
    {
      "cell_type": "markdown",
      "source": [
        "Finding the best Number of Nodes in the Layer..."
      ],
      "metadata": {
        "id": "ZYD7B6-UqR5C"
      }
    },
    {
      "cell_type": "code",
      "source": [
        "def build_model(hp):\n",
        "  model=Sequential()\n",
        "  units=hp.Int(\"units\",min_value=10,max_value=80)\n",
        "  model.add(Dense(units=units,activation=\"relu\",input_dim=12))\n",
        "  model.add(Dense(units=units,activation=\"relu\"))\n",
        "\n",
        "  #Creating 1 Node in the Output Layer..\n",
        "  model.add(Dense(1,activation=\"sigmoid\"))\n",
        "  model.compile(loss=\"binary_crossentropy\",optimizer=\"adam\",metrics=[\"accuracy\"])\n",
        "  return model"
      ],
      "metadata": {
        "id": "t0Gqq4cHpoIZ"
      },
      "execution_count": 176,
      "outputs": []
    },
    {
      "cell_type": "code",
      "source": [
        "tuner=kt.RandomSearch(build_model,objective=\"val_accuracy\",max_trials=10,directory=\"My_Dir\",project_name=\"Number_of_Nodes/Layer\")"
      ],
      "metadata": {
        "id": "T7LkPbUXty14"
      },
      "execution_count": 177,
      "outputs": []
    },
    {
      "cell_type": "code",
      "source": [
        "tuner.search(X_train_scaled,Y_train,epochs=20,validation_data=(X_test_scaled,Y_test))"
      ],
      "metadata": {
        "id": "rCx2FenUu3Dj",
        "colab": {
          "base_uri": "https://localhost:8080/"
        },
        "outputId": "3261e19b-d3c6-4a22-9eef-980c076b649c"
      },
      "execution_count": 178,
      "outputs": [
        {
          "output_type": "stream",
          "name": "stdout",
          "text": [
            "Trial 10 Complete [00h 00m 21s]\n",
            "val_accuracy: 0.8644999861717224\n",
            "\n",
            "Best val_accuracy So Far: 0.8644999861717224\n",
            "Total elapsed time: 00h 03m 30s\n"
          ]
        }
      ]
    },
    {
      "cell_type": "code",
      "source": [
        "# Training the Neural Network..\n",
        "history=model.fit(X_train_scaled,Y_train,epochs=100,initial_epoch=21,validation_data=(X_test_scaled,Y_test))"
      ],
      "metadata": {
        "colab": {
          "base_uri": "https://localhost:8080/"
        },
        "id": "vmTdeqLOty4g",
        "outputId": "addd701e-6710-4402-b659-2d5054929286"
      },
      "execution_count": 179,
      "outputs": [
        {
          "output_type": "stream",
          "name": "stdout",
          "text": [
            "Epoch 22/100\n",
            "250/250 [==============================] - 1s 6ms/step - loss: 0.1719 - accuracy: 0.9285 - val_loss: 0.5525 - val_accuracy: 0.8220\n",
            "Epoch 23/100\n",
            "250/250 [==============================] - 1s 5ms/step - loss: 0.1664 - accuracy: 0.9321 - val_loss: 0.5623 - val_accuracy: 0.8315\n",
            "Epoch 24/100\n",
            "250/250 [==============================] - 1s 3ms/step - loss: 0.1647 - accuracy: 0.9331 - val_loss: 0.5725 - val_accuracy: 0.8320\n",
            "Epoch 25/100\n",
            "250/250 [==============================] - 1s 5ms/step - loss: 0.1634 - accuracy: 0.9349 - val_loss: 0.5777 - val_accuracy: 0.8200\n",
            "Epoch 26/100\n",
            "250/250 [==============================] - 2s 7ms/step - loss: 0.1624 - accuracy: 0.9320 - val_loss: 0.5767 - val_accuracy: 0.8300\n",
            "Epoch 27/100\n",
            "250/250 [==============================] - 2s 6ms/step - loss: 0.1641 - accuracy: 0.9302 - val_loss: 0.5850 - val_accuracy: 0.8295\n",
            "Epoch 28/100\n",
            "250/250 [==============================] - 2s 8ms/step - loss: 0.1616 - accuracy: 0.9315 - val_loss: 0.5890 - val_accuracy: 0.8430\n",
            "Epoch 29/100\n",
            "250/250 [==============================] - 2s 7ms/step - loss: 0.1587 - accuracy: 0.9331 - val_loss: 0.6005 - val_accuracy: 0.8105\n",
            "Epoch 30/100\n",
            "250/250 [==============================] - 2s 7ms/step - loss: 0.1558 - accuracy: 0.9361 - val_loss: 0.5991 - val_accuracy: 0.8135\n",
            "Epoch 31/100\n",
            "250/250 [==============================] - 2s 7ms/step - loss: 0.1560 - accuracy: 0.9354 - val_loss: 0.6160 - val_accuracy: 0.8245\n",
            "Epoch 32/100\n",
            "250/250 [==============================] - 1s 4ms/step - loss: 0.1560 - accuracy: 0.9344 - val_loss: 0.6146 - val_accuracy: 0.8315\n",
            "Epoch 33/100\n",
            "250/250 [==============================] - 1s 4ms/step - loss: 0.1548 - accuracy: 0.9348 - val_loss: 0.6201 - val_accuracy: 0.8140\n",
            "Epoch 34/100\n",
            "250/250 [==============================] - 1s 4ms/step - loss: 0.1525 - accuracy: 0.9390 - val_loss: 0.6249 - val_accuracy: 0.8170\n",
            "Epoch 35/100\n",
            "250/250 [==============================] - 1s 4ms/step - loss: 0.1511 - accuracy: 0.9366 - val_loss: 0.6351 - val_accuracy: 0.8245\n",
            "Epoch 36/100\n",
            "250/250 [==============================] - 1s 4ms/step - loss: 0.1512 - accuracy: 0.9354 - val_loss: 0.6410 - val_accuracy: 0.8320\n",
            "Epoch 37/100\n",
            "250/250 [==============================] - 1s 4ms/step - loss: 0.1439 - accuracy: 0.9389 - val_loss: 0.6333 - val_accuracy: 0.8345\n",
            "Epoch 38/100\n",
            "250/250 [==============================] - 1s 4ms/step - loss: 0.1451 - accuracy: 0.9394 - val_loss: 0.6391 - val_accuracy: 0.8265\n",
            "Epoch 39/100\n",
            "250/250 [==============================] - 1s 3ms/step - loss: 0.1446 - accuracy: 0.9399 - val_loss: 0.6678 - val_accuracy: 0.8280\n",
            "Epoch 40/100\n",
            "250/250 [==============================] - 1s 3ms/step - loss: 0.1449 - accuracy: 0.9420 - val_loss: 0.6658 - val_accuracy: 0.8220\n",
            "Epoch 41/100\n",
            "250/250 [==============================] - 1s 3ms/step - loss: 0.1436 - accuracy: 0.9405 - val_loss: 0.6639 - val_accuracy: 0.8145\n",
            "Epoch 42/100\n",
            "250/250 [==============================] - 1s 4ms/step - loss: 0.1406 - accuracy: 0.9404 - val_loss: 0.6840 - val_accuracy: 0.8220\n",
            "Epoch 43/100\n",
            "250/250 [==============================] - 1s 5ms/step - loss: 0.1406 - accuracy: 0.9436 - val_loss: 0.6773 - val_accuracy: 0.8225\n",
            "Epoch 44/100\n",
            "250/250 [==============================] - 1s 5ms/step - loss: 0.1379 - accuracy: 0.9423 - val_loss: 0.6748 - val_accuracy: 0.8320\n",
            "Epoch 45/100\n",
            "250/250 [==============================] - 1s 3ms/step - loss: 0.1357 - accuracy: 0.9436 - val_loss: 0.7071 - val_accuracy: 0.8290\n",
            "Epoch 46/100\n",
            "250/250 [==============================] - 1s 4ms/step - loss: 0.1378 - accuracy: 0.9425 - val_loss: 0.6958 - val_accuracy: 0.8130\n",
            "Epoch 47/100\n",
            "250/250 [==============================] - 1s 5ms/step - loss: 0.1315 - accuracy: 0.9446 - val_loss: 0.7197 - val_accuracy: 0.8265\n",
            "Epoch 48/100\n",
            "250/250 [==============================] - 2s 8ms/step - loss: 0.1299 - accuracy: 0.9456 - val_loss: 0.7096 - val_accuracy: 0.8245\n",
            "Epoch 49/100\n",
            "250/250 [==============================] - 1s 4ms/step - loss: 0.1301 - accuracy: 0.9464 - val_loss: 0.7048 - val_accuracy: 0.8110\n",
            "Epoch 50/100\n",
            "250/250 [==============================] - 1s 6ms/step - loss: 0.1308 - accuracy: 0.9449 - val_loss: 0.7274 - val_accuracy: 0.8115\n",
            "Epoch 51/100\n",
            "250/250 [==============================] - 1s 4ms/step - loss: 0.1282 - accuracy: 0.9464 - val_loss: 0.7432 - val_accuracy: 0.8100\n",
            "Epoch 52/100\n",
            "250/250 [==============================] - 1s 4ms/step - loss: 0.1252 - accuracy: 0.9496 - val_loss: 0.7327 - val_accuracy: 0.8225\n",
            "Epoch 53/100\n",
            "250/250 [==============================] - 1s 5ms/step - loss: 0.1272 - accuracy: 0.9473 - val_loss: 0.7494 - val_accuracy: 0.8155\n",
            "Epoch 54/100\n",
            "250/250 [==============================] - 1s 5ms/step - loss: 0.1213 - accuracy: 0.9499 - val_loss: 0.7677 - val_accuracy: 0.8245\n",
            "Epoch 55/100\n",
            "250/250 [==============================] - 1s 4ms/step - loss: 0.1188 - accuracy: 0.9514 - val_loss: 0.7571 - val_accuracy: 0.8230\n",
            "Epoch 56/100\n",
            "250/250 [==============================] - 1s 3ms/step - loss: 0.1220 - accuracy: 0.9507 - val_loss: 0.7640 - val_accuracy: 0.8115\n",
            "Epoch 57/100\n",
            "250/250 [==============================] - 1s 4ms/step - loss: 0.1225 - accuracy: 0.9488 - val_loss: 0.7796 - val_accuracy: 0.8105\n",
            "Epoch 58/100\n",
            "250/250 [==============================] - 1s 6ms/step - loss: 0.1193 - accuracy: 0.9510 - val_loss: 0.8231 - val_accuracy: 0.8100\n",
            "Epoch 59/100\n",
            "250/250 [==============================] - 1s 3ms/step - loss: 0.1202 - accuracy: 0.9509 - val_loss: 0.8111 - val_accuracy: 0.7950\n",
            "Epoch 60/100\n",
            "250/250 [==============================] - 1s 4ms/step - loss: 0.1167 - accuracy: 0.9507 - val_loss: 0.7942 - val_accuracy: 0.8195\n",
            "Epoch 61/100\n",
            "250/250 [==============================] - 1s 5ms/step - loss: 0.1143 - accuracy: 0.9546 - val_loss: 0.8342 - val_accuracy: 0.7990\n",
            "Epoch 62/100\n",
            "250/250 [==============================] - 1s 5ms/step - loss: 0.1132 - accuracy: 0.9523 - val_loss: 0.8203 - val_accuracy: 0.8175\n",
            "Epoch 63/100\n",
            "250/250 [==============================] - 1s 5ms/step - loss: 0.1093 - accuracy: 0.9572 - val_loss: 0.8302 - val_accuracy: 0.8180\n",
            "Epoch 64/100\n",
            "250/250 [==============================] - 2s 7ms/step - loss: 0.1094 - accuracy: 0.9542 - val_loss: 0.8369 - val_accuracy: 0.8245\n",
            "Epoch 65/100\n",
            "250/250 [==============================] - 2s 8ms/step - loss: 0.1101 - accuracy: 0.9567 - val_loss: 0.8362 - val_accuracy: 0.8185\n",
            "Epoch 66/100\n",
            "250/250 [==============================] - 1s 4ms/step - loss: 0.1078 - accuracy: 0.9550 - val_loss: 0.8505 - val_accuracy: 0.7995\n",
            "Epoch 67/100\n",
            "250/250 [==============================] - 1s 4ms/step - loss: 0.1060 - accuracy: 0.9578 - val_loss: 0.8650 - val_accuracy: 0.7965\n",
            "Epoch 68/100\n",
            "250/250 [==============================] - 1s 3ms/step - loss: 0.1040 - accuracy: 0.9582 - val_loss: 0.8930 - val_accuracy: 0.8000\n",
            "Epoch 69/100\n",
            "250/250 [==============================] - 1s 4ms/step - loss: 0.1054 - accuracy: 0.9571 - val_loss: 0.8585 - val_accuracy: 0.8115\n",
            "Epoch 70/100\n",
            "250/250 [==============================] - 1s 4ms/step - loss: 0.1106 - accuracy: 0.9548 - val_loss: 0.8738 - val_accuracy: 0.8165\n",
            "Epoch 71/100\n",
            "250/250 [==============================] - 1s 4ms/step - loss: 0.1060 - accuracy: 0.9578 - val_loss: 0.8782 - val_accuracy: 0.8195\n",
            "Epoch 72/100\n",
            "250/250 [==============================] - 1s 4ms/step - loss: 0.1031 - accuracy: 0.9590 - val_loss: 0.9065 - val_accuracy: 0.8025\n",
            "Epoch 73/100\n",
            "250/250 [==============================] - 1s 4ms/step - loss: 0.0969 - accuracy: 0.9620 - val_loss: 0.9179 - val_accuracy: 0.8195\n",
            "Epoch 74/100\n",
            "250/250 [==============================] - 1s 4ms/step - loss: 0.1061 - accuracy: 0.9555 - val_loss: 0.9107 - val_accuracy: 0.8080\n",
            "Epoch 75/100\n",
            "250/250 [==============================] - 1s 4ms/step - loss: 0.0955 - accuracy: 0.9645 - val_loss: 0.9534 - val_accuracy: 0.8080\n",
            "Epoch 76/100\n",
            "250/250 [==============================] - 1s 5ms/step - loss: 0.0943 - accuracy: 0.9625 - val_loss: 0.9212 - val_accuracy: 0.8220\n",
            "Epoch 77/100\n",
            "250/250 [==============================] - 1s 5ms/step - loss: 0.0953 - accuracy: 0.9619 - val_loss: 0.9295 - val_accuracy: 0.8080\n",
            "Epoch 78/100\n",
            "250/250 [==============================] - 1s 4ms/step - loss: 0.0919 - accuracy: 0.9629 - val_loss: 0.9468 - val_accuracy: 0.7975\n",
            "Epoch 79/100\n",
            "250/250 [==============================] - 1s 3ms/step - loss: 0.0893 - accuracy: 0.9653 - val_loss: 0.9780 - val_accuracy: 0.8100\n",
            "Epoch 80/100\n",
            "250/250 [==============================] - 1s 4ms/step - loss: 0.0996 - accuracy: 0.9585 - val_loss: 1.0301 - val_accuracy: 0.7915\n",
            "Epoch 81/100\n",
            "250/250 [==============================] - 1s 3ms/step - loss: 0.0952 - accuracy: 0.9631 - val_loss: 0.9628 - val_accuracy: 0.8225\n",
            "Epoch 82/100\n",
            "250/250 [==============================] - 1s 4ms/step - loss: 0.0918 - accuracy: 0.9630 - val_loss: 0.9592 - val_accuracy: 0.8150\n",
            "Epoch 83/100\n",
            "250/250 [==============================] - 1s 4ms/step - loss: 0.0912 - accuracy: 0.9621 - val_loss: 0.9755 - val_accuracy: 0.8070\n",
            "Epoch 84/100\n",
            "250/250 [==============================] - 1s 3ms/step - loss: 0.0843 - accuracy: 0.9685 - val_loss: 1.0192 - val_accuracy: 0.8115\n",
            "Epoch 85/100\n",
            "250/250 [==============================] - 1s 4ms/step - loss: 0.0853 - accuracy: 0.9670 - val_loss: 1.0312 - val_accuracy: 0.7985\n",
            "Epoch 86/100\n",
            "250/250 [==============================] - 1s 3ms/step - loss: 0.0819 - accuracy: 0.9690 - val_loss: 1.0167 - val_accuracy: 0.8145\n",
            "Epoch 87/100\n",
            "250/250 [==============================] - 1s 4ms/step - loss: 0.0828 - accuracy: 0.9680 - val_loss: 1.0024 - val_accuracy: 0.8185\n",
            "Epoch 88/100\n",
            "250/250 [==============================] - 1s 4ms/step - loss: 0.0861 - accuracy: 0.9672 - val_loss: 1.0143 - val_accuracy: 0.8165\n",
            "Epoch 89/100\n",
            "250/250 [==============================] - 2s 6ms/step - loss: 0.0859 - accuracy: 0.9660 - val_loss: 1.0720 - val_accuracy: 0.8030\n",
            "Epoch 90/100\n",
            "250/250 [==============================] - 2s 6ms/step - loss: 0.0815 - accuracy: 0.9688 - val_loss: 1.0665 - val_accuracy: 0.8120\n",
            "Epoch 91/100\n",
            "250/250 [==============================] - 1s 4ms/step - loss: 0.0782 - accuracy: 0.9725 - val_loss: 1.0874 - val_accuracy: 0.8180\n",
            "Epoch 92/100\n",
            "250/250 [==============================] - 1s 3ms/step - loss: 0.0767 - accuracy: 0.9714 - val_loss: 1.0621 - val_accuracy: 0.8030\n",
            "Epoch 93/100\n",
            "250/250 [==============================] - 1s 3ms/step - loss: 0.0773 - accuracy: 0.9718 - val_loss: 1.1191 - val_accuracy: 0.7970\n",
            "Epoch 94/100\n",
            "250/250 [==============================] - 1s 3ms/step - loss: 0.0760 - accuracy: 0.9697 - val_loss: 1.1135 - val_accuracy: 0.8030\n",
            "Epoch 95/100\n",
            "250/250 [==============================] - 1s 4ms/step - loss: 0.0814 - accuracy: 0.9663 - val_loss: 1.1228 - val_accuracy: 0.7970\n",
            "Epoch 96/100\n",
            "250/250 [==============================] - 1s 4ms/step - loss: 0.0804 - accuracy: 0.9697 - val_loss: 1.1251 - val_accuracy: 0.7990\n",
            "Epoch 97/100\n",
            "250/250 [==============================] - 1s 5ms/step - loss: 0.0753 - accuracy: 0.9714 - val_loss: 1.1077 - val_accuracy: 0.8210\n",
            "Epoch 98/100\n",
            "250/250 [==============================] - 1s 4ms/step - loss: 0.0723 - accuracy: 0.9734 - val_loss: 1.1381 - val_accuracy: 0.8050\n",
            "Epoch 99/100\n",
            "250/250 [==============================] - 1s 4ms/step - loss: 0.0676 - accuracy: 0.9770 - val_loss: 1.1286 - val_accuracy: 0.8105\n",
            "Epoch 100/100\n",
            "250/250 [==============================] - 1s 5ms/step - loss: 0.0700 - accuracy: 0.9744 - val_loss: 1.1609 - val_accuracy: 0.7985\n"
          ]
        }
      ]
    },
    {
      "cell_type": "code",
      "source": [
        "tuner.get_best_hyperparameters"
      ],
      "metadata": {
        "colab": {
          "base_uri": "https://localhost:8080/"
        },
        "id": "kyitD_j8wT5P",
        "outputId": "78d9e12e-16ff-446b-fe0f-fd419e2c7a43"
      },
      "execution_count": 180,
      "outputs": [
        {
          "output_type": "execute_result",
          "data": {
            "text/plain": [
              "<bound method BaseTuner.get_best_hyperparameters of <keras_tuner.tuners.randomsearch.RandomSearch object at 0x7dd74177b8e0>>"
            ]
          },
          "metadata": {},
          "execution_count": 180
        }
      ]
    },
    {
      "cell_type": "code",
      "source": [
        "tuner.get_best_hyperparameters()[0].values"
      ],
      "metadata": {
        "colab": {
          "base_uri": "https://localhost:8080/"
        },
        "id": "vpp8ibNZwUDJ",
        "outputId": "bd8c8dd6-01bd-454e-9a80-808c6f81273d"
      },
      "execution_count": 181,
      "outputs": [
        {
          "output_type": "execute_result",
          "data": {
            "text/plain": [
              "{'units': 70}"
            ]
          },
          "metadata": {},
          "execution_count": 181
        }
      ]
    },
    {
      "cell_type": "code",
      "source": [
        "# Creating the ANN Architecture based on the Hyper Paramater provided..\n",
        "model=Sequential()\n",
        "#Creating 15 Nodes in the Hidden Layer and Adding Input data..\n",
        "model.add(Dense(70,activation=\"relu\",input_dim=12))\n",
        "model.add(Dense(70,activation=\"relu\"))\n",
        "model.add(Dense(70,activation=\"relu\"))\n",
        "\n",
        "#Creating 1 Node in the Output Layer..\n",
        "model.add(Dense(1,activation=\"sigmoid\"))"
      ],
      "metadata": {
        "id": "X72zGKMrhkjh"
      },
      "execution_count": 182,
      "outputs": []
    },
    {
      "cell_type": "code",
      "source": [
        "# Analyzing the summary of the Neural Network.\n",
        "model.summary()"
      ],
      "metadata": {
        "colab": {
          "base_uri": "https://localhost:8080/"
        },
        "id": "88jycyHQhkZ0",
        "outputId": "e902037f-0df8-4661-e962-9750a75f0b4c"
      },
      "execution_count": 183,
      "outputs": [
        {
          "output_type": "stream",
          "name": "stdout",
          "text": [
            "Model: \"sequential_1\"\n",
            "_________________________________________________________________\n",
            " Layer (type)                Output Shape              Param #   \n",
            "=================================================================\n",
            " dense_3 (Dense)             (None, 70)                910       \n",
            "                                                                 \n",
            " dense_4 (Dense)             (None, 70)                4970      \n",
            "                                                                 \n",
            " dense_5 (Dense)             (None, 70)                4970      \n",
            "                                                                 \n",
            " dense_6 (Dense)             (None, 1)                 71        \n",
            "                                                                 \n",
            "=================================================================\n",
            "Total params: 10,921\n",
            "Trainable params: 10,921\n",
            "Non-trainable params: 0\n",
            "_________________________________________________________________\n"
          ]
        }
      ]
    },
    {
      "cell_type": "code",
      "source": [
        "# Compiling my model..\n",
        "model.compile(loss=\"binary_crossentropy\",optimizer=\"Adam\",metrics=[\"accuracy\"])"
      ],
      "metadata": {
        "id": "SUxJYczyhkQk"
      },
      "execution_count": 184,
      "outputs": []
    },
    {
      "cell_type": "code",
      "source": [
        "# Training the Neural Network..\n",
        "history=model.fit(X_train_scaled,Y_train,epochs=100,validation_split=0.2)"
      ],
      "metadata": {
        "colab": {
          "base_uri": "https://localhost:8080/"
        },
        "id": "E1yS8PvXiG3R",
        "outputId": "d3f09202-8230-44a6-d5b0-37b7baedbc3b"
      },
      "execution_count": 185,
      "outputs": [
        {
          "output_type": "stream",
          "name": "stdout",
          "text": [
            "Epoch 1/100\n",
            "200/200 [==============================] - 2s 4ms/step - loss: 0.4403 - accuracy: 0.8170 - val_loss: 0.3978 - val_accuracy: 0.8256\n",
            "Epoch 2/100\n",
            "200/200 [==============================] - 1s 4ms/step - loss: 0.3669 - accuracy: 0.8506 - val_loss: 0.3593 - val_accuracy: 0.8544\n",
            "Epoch 3/100\n",
            "200/200 [==============================] - 1s 5ms/step - loss: 0.3457 - accuracy: 0.8598 - val_loss: 0.3563 - val_accuracy: 0.8431\n",
            "Epoch 4/100\n",
            "200/200 [==============================] - 2s 8ms/step - loss: 0.3353 - accuracy: 0.8612 - val_loss: 0.3495 - val_accuracy: 0.8606\n",
            "Epoch 5/100\n",
            "200/200 [==============================] - 1s 5ms/step - loss: 0.3305 - accuracy: 0.8637 - val_loss: 0.3522 - val_accuracy: 0.8512\n",
            "Epoch 6/100\n",
            "200/200 [==============================] - 1s 5ms/step - loss: 0.3261 - accuracy: 0.8647 - val_loss: 0.3483 - val_accuracy: 0.8594\n",
            "Epoch 7/100\n",
            "200/200 [==============================] - 1s 3ms/step - loss: 0.3209 - accuracy: 0.8697 - val_loss: 0.3497 - val_accuracy: 0.8581\n",
            "Epoch 8/100\n",
            "200/200 [==============================] - 1s 4ms/step - loss: 0.3164 - accuracy: 0.8684 - val_loss: 0.3455 - val_accuracy: 0.8581\n",
            "Epoch 9/100\n",
            "200/200 [==============================] - 1s 3ms/step - loss: 0.3142 - accuracy: 0.8714 - val_loss: 0.3477 - val_accuracy: 0.8581\n",
            "Epoch 10/100\n",
            "200/200 [==============================] - 1s 4ms/step - loss: 0.3076 - accuracy: 0.8737 - val_loss: 0.3503 - val_accuracy: 0.8612\n",
            "Epoch 11/100\n",
            "200/200 [==============================] - 1s 3ms/step - loss: 0.3043 - accuracy: 0.8723 - val_loss: 0.3497 - val_accuracy: 0.8562\n",
            "Epoch 12/100\n",
            "200/200 [==============================] - 1s 4ms/step - loss: 0.2974 - accuracy: 0.8783 - val_loss: 0.3563 - val_accuracy: 0.8456\n",
            "Epoch 13/100\n",
            "200/200 [==============================] - 1s 3ms/step - loss: 0.2951 - accuracy: 0.8772 - val_loss: 0.3503 - val_accuracy: 0.8550\n",
            "Epoch 14/100\n",
            "200/200 [==============================] - 1s 4ms/step - loss: 0.2881 - accuracy: 0.8802 - val_loss: 0.3635 - val_accuracy: 0.8537\n",
            "Epoch 15/100\n",
            "200/200 [==============================] - 1s 4ms/step - loss: 0.2848 - accuracy: 0.8817 - val_loss: 0.3573 - val_accuracy: 0.8612\n",
            "Epoch 16/100\n",
            "200/200 [==============================] - 1s 4ms/step - loss: 0.2809 - accuracy: 0.8873 - val_loss: 0.3721 - val_accuracy: 0.8537\n",
            "Epoch 17/100\n",
            "200/200 [==============================] - 1s 4ms/step - loss: 0.2781 - accuracy: 0.8842 - val_loss: 0.3651 - val_accuracy: 0.8544\n",
            "Epoch 18/100\n",
            "200/200 [==============================] - 1s 3ms/step - loss: 0.2704 - accuracy: 0.8888 - val_loss: 0.3683 - val_accuracy: 0.8594\n",
            "Epoch 19/100\n",
            "200/200 [==============================] - 1s 3ms/step - loss: 0.2643 - accuracy: 0.8903 - val_loss: 0.3775 - val_accuracy: 0.8519\n",
            "Epoch 20/100\n",
            "200/200 [==============================] - 1s 4ms/step - loss: 0.2611 - accuracy: 0.8914 - val_loss: 0.3780 - val_accuracy: 0.8431\n",
            "Epoch 21/100\n",
            "200/200 [==============================] - 1s 5ms/step - loss: 0.2599 - accuracy: 0.8947 - val_loss: 0.3856 - val_accuracy: 0.8456\n",
            "Epoch 22/100\n",
            "200/200 [==============================] - 1s 5ms/step - loss: 0.2515 - accuracy: 0.8950 - val_loss: 0.3835 - val_accuracy: 0.8469\n",
            "Epoch 23/100\n",
            "200/200 [==============================] - 1s 4ms/step - loss: 0.2479 - accuracy: 0.8972 - val_loss: 0.3917 - val_accuracy: 0.8512\n",
            "Epoch 24/100\n",
            "200/200 [==============================] - 1s 4ms/step - loss: 0.2401 - accuracy: 0.9003 - val_loss: 0.4028 - val_accuracy: 0.8544\n",
            "Epoch 25/100\n",
            "200/200 [==============================] - 1s 3ms/step - loss: 0.2386 - accuracy: 0.9008 - val_loss: 0.3951 - val_accuracy: 0.8506\n",
            "Epoch 26/100\n",
            "200/200 [==============================] - 1s 4ms/step - loss: 0.2330 - accuracy: 0.9022 - val_loss: 0.4314 - val_accuracy: 0.8369\n",
            "Epoch 27/100\n",
            "200/200 [==============================] - 1s 3ms/step - loss: 0.2265 - accuracy: 0.9070 - val_loss: 0.4112 - val_accuracy: 0.8519\n",
            "Epoch 28/100\n",
            "200/200 [==============================] - 1s 3ms/step - loss: 0.2222 - accuracy: 0.9109 - val_loss: 0.4209 - val_accuracy: 0.8450\n",
            "Epoch 29/100\n",
            "200/200 [==============================] - 1s 4ms/step - loss: 0.2155 - accuracy: 0.9089 - val_loss: 0.4257 - val_accuracy: 0.8431\n",
            "Epoch 30/100\n",
            "200/200 [==============================] - 1s 4ms/step - loss: 0.2116 - accuracy: 0.9134 - val_loss: 0.4330 - val_accuracy: 0.8550\n",
            "Epoch 31/100\n",
            "200/200 [==============================] - 1s 4ms/step - loss: 0.2064 - accuracy: 0.9148 - val_loss: 0.4442 - val_accuracy: 0.8419\n",
            "Epoch 32/100\n",
            "200/200 [==============================] - 1s 3ms/step - loss: 0.2010 - accuracy: 0.9184 - val_loss: 0.4454 - val_accuracy: 0.8494\n",
            "Epoch 33/100\n",
            "200/200 [==============================] - 1s 3ms/step - loss: 0.1955 - accuracy: 0.9167 - val_loss: 0.4584 - val_accuracy: 0.8375\n",
            "Epoch 34/100\n",
            "200/200 [==============================] - 1s 4ms/step - loss: 0.1880 - accuracy: 0.9205 - val_loss: 0.4536 - val_accuracy: 0.8469\n",
            "Epoch 35/100\n",
            "200/200 [==============================] - 1s 3ms/step - loss: 0.1885 - accuracy: 0.9202 - val_loss: 0.4610 - val_accuracy: 0.8350\n",
            "Epoch 36/100\n",
            "200/200 [==============================] - 1s 4ms/step - loss: 0.1774 - accuracy: 0.9272 - val_loss: 0.4583 - val_accuracy: 0.8469\n",
            "Epoch 37/100\n",
            "200/200 [==============================] - 1s 5ms/step - loss: 0.1739 - accuracy: 0.9280 - val_loss: 0.5052 - val_accuracy: 0.8381\n",
            "Epoch 38/100\n",
            "200/200 [==============================] - 1s 5ms/step - loss: 0.1694 - accuracy: 0.9303 - val_loss: 0.4915 - val_accuracy: 0.8363\n",
            "Epoch 39/100\n",
            "200/200 [==============================] - 1s 4ms/step - loss: 0.1648 - accuracy: 0.9298 - val_loss: 0.4871 - val_accuracy: 0.8419\n",
            "Epoch 40/100\n",
            "200/200 [==============================] - 1s 3ms/step - loss: 0.1590 - accuracy: 0.9350 - val_loss: 0.5196 - val_accuracy: 0.8462\n",
            "Epoch 41/100\n",
            "200/200 [==============================] - 1s 4ms/step - loss: 0.1566 - accuracy: 0.9333 - val_loss: 0.5177 - val_accuracy: 0.8462\n",
            "Epoch 42/100\n",
            "200/200 [==============================] - 1s 4ms/step - loss: 0.1533 - accuracy: 0.9370 - val_loss: 0.5347 - val_accuracy: 0.8487\n",
            "Epoch 43/100\n",
            "200/200 [==============================] - 1s 3ms/step - loss: 0.1454 - accuracy: 0.9417 - val_loss: 0.5609 - val_accuracy: 0.8344\n",
            "Epoch 44/100\n",
            "200/200 [==============================] - 1s 4ms/step - loss: 0.1406 - accuracy: 0.9419 - val_loss: 0.5765 - val_accuracy: 0.8375\n",
            "Epoch 45/100\n",
            "200/200 [==============================] - 1s 4ms/step - loss: 0.1351 - accuracy: 0.9445 - val_loss: 0.5573 - val_accuracy: 0.8462\n",
            "Epoch 46/100\n",
            "200/200 [==============================] - 1s 3ms/step - loss: 0.1365 - accuracy: 0.9434 - val_loss: 0.5723 - val_accuracy: 0.8206\n",
            "Epoch 47/100\n",
            "200/200 [==============================] - 1s 4ms/step - loss: 0.1275 - accuracy: 0.9480 - val_loss: 0.5774 - val_accuracy: 0.8319\n",
            "Epoch 48/100\n",
            "200/200 [==============================] - 1s 3ms/step - loss: 0.1220 - accuracy: 0.9511 - val_loss: 0.5921 - val_accuracy: 0.8275\n",
            "Epoch 49/100\n",
            "200/200 [==============================] - 1s 3ms/step - loss: 0.1198 - accuracy: 0.9513 - val_loss: 0.6119 - val_accuracy: 0.8394\n",
            "Epoch 50/100\n",
            "200/200 [==============================] - 1s 3ms/step - loss: 0.1159 - accuracy: 0.9550 - val_loss: 0.6359 - val_accuracy: 0.8381\n",
            "Epoch 51/100\n",
            "200/200 [==============================] - 1s 3ms/step - loss: 0.1150 - accuracy: 0.9534 - val_loss: 0.6376 - val_accuracy: 0.8206\n",
            "Epoch 52/100\n",
            "200/200 [==============================] - 1s 3ms/step - loss: 0.1061 - accuracy: 0.9569 - val_loss: 0.6597 - val_accuracy: 0.8156\n",
            "Epoch 53/100\n",
            "200/200 [==============================] - 1s 4ms/step - loss: 0.1009 - accuracy: 0.9597 - val_loss: 0.6618 - val_accuracy: 0.8250\n",
            "Epoch 54/100\n",
            "200/200 [==============================] - 1s 5ms/step - loss: 0.1034 - accuracy: 0.9609 - val_loss: 0.6842 - val_accuracy: 0.8250\n",
            "Epoch 55/100\n",
            "200/200 [==============================] - 1s 5ms/step - loss: 0.0969 - accuracy: 0.9625 - val_loss: 0.7064 - val_accuracy: 0.8238\n",
            "Epoch 56/100\n",
            "200/200 [==============================] - 1s 3ms/step - loss: 0.0960 - accuracy: 0.9613 - val_loss: 0.7163 - val_accuracy: 0.8331\n",
            "Epoch 57/100\n",
            "200/200 [==============================] - 1s 3ms/step - loss: 0.0959 - accuracy: 0.9609 - val_loss: 0.7273 - val_accuracy: 0.8275\n",
            "Epoch 58/100\n",
            "200/200 [==============================] - 1s 4ms/step - loss: 0.0894 - accuracy: 0.9663 - val_loss: 0.7324 - val_accuracy: 0.8250\n",
            "Epoch 59/100\n",
            "200/200 [==============================] - 1s 3ms/step - loss: 0.0865 - accuracy: 0.9659 - val_loss: 0.7356 - val_accuracy: 0.8300\n",
            "Epoch 60/100\n",
            "200/200 [==============================] - 1s 4ms/step - loss: 0.0788 - accuracy: 0.9702 - val_loss: 0.7718 - val_accuracy: 0.8194\n",
            "Epoch 61/100\n",
            "200/200 [==============================] - 1s 3ms/step - loss: 0.0762 - accuracy: 0.9722 - val_loss: 0.7760 - val_accuracy: 0.8175\n",
            "Epoch 62/100\n",
            "200/200 [==============================] - 1s 4ms/step - loss: 0.0784 - accuracy: 0.9695 - val_loss: 0.8048 - val_accuracy: 0.8256\n",
            "Epoch 63/100\n",
            "200/200 [==============================] - 1s 3ms/step - loss: 0.0716 - accuracy: 0.9766 - val_loss: 0.8225 - val_accuracy: 0.8175\n",
            "Epoch 64/100\n",
            "200/200 [==============================] - 1s 3ms/step - loss: 0.0752 - accuracy: 0.9711 - val_loss: 0.8275 - val_accuracy: 0.8219\n",
            "Epoch 65/100\n",
            "200/200 [==============================] - 1s 4ms/step - loss: 0.0704 - accuracy: 0.9767 - val_loss: 0.8512 - val_accuracy: 0.8169\n",
            "Epoch 66/100\n",
            "200/200 [==============================] - 1s 3ms/step - loss: 0.0684 - accuracy: 0.9753 - val_loss: 0.8696 - val_accuracy: 0.8188\n",
            "Epoch 67/100\n",
            "200/200 [==============================] - 1s 4ms/step - loss: 0.0730 - accuracy: 0.9737 - val_loss: 0.8529 - val_accuracy: 0.8369\n",
            "Epoch 68/100\n",
            "200/200 [==============================] - 1s 4ms/step - loss: 0.0704 - accuracy: 0.9725 - val_loss: 0.9049 - val_accuracy: 0.8037\n",
            "Epoch 69/100\n",
            "200/200 [==============================] - 1s 7ms/step - loss: 0.0604 - accuracy: 0.9797 - val_loss: 0.8957 - val_accuracy: 0.8081\n",
            "Epoch 70/100\n",
            "200/200 [==============================] - 2s 8ms/step - loss: 0.0539 - accuracy: 0.9825 - val_loss: 0.9206 - val_accuracy: 0.8119\n",
            "Epoch 71/100\n",
            "200/200 [==============================] - 1s 3ms/step - loss: 0.0570 - accuracy: 0.9812 - val_loss: 0.9597 - val_accuracy: 0.8206\n",
            "Epoch 72/100\n",
            "200/200 [==============================] - 1s 4ms/step - loss: 0.0727 - accuracy: 0.9744 - val_loss: 0.9715 - val_accuracy: 0.8338\n",
            "Epoch 73/100\n",
            "200/200 [==============================] - 1s 3ms/step - loss: 0.0589 - accuracy: 0.9791 - val_loss: 0.9515 - val_accuracy: 0.8025\n",
            "Epoch 74/100\n",
            "200/200 [==============================] - 1s 3ms/step - loss: 0.0486 - accuracy: 0.9842 - val_loss: 1.0171 - val_accuracy: 0.8313\n",
            "Epoch 75/100\n",
            "200/200 [==============================] - 1s 4ms/step - loss: 0.0464 - accuracy: 0.9864 - val_loss: 0.9929 - val_accuracy: 0.8269\n",
            "Epoch 76/100\n",
            "200/200 [==============================] - 1s 4ms/step - loss: 0.0540 - accuracy: 0.9811 - val_loss: 1.0001 - val_accuracy: 0.8294\n",
            "Epoch 77/100\n",
            "200/200 [==============================] - 1s 4ms/step - loss: 0.0442 - accuracy: 0.9881 - val_loss: 0.9996 - val_accuracy: 0.8075\n",
            "Epoch 78/100\n",
            "200/200 [==============================] - 1s 3ms/step - loss: 0.0519 - accuracy: 0.9823 - val_loss: 0.9864 - val_accuracy: 0.8025\n",
            "Epoch 79/100\n",
            "200/200 [==============================] - 1s 4ms/step - loss: 0.0493 - accuracy: 0.9827 - val_loss: 1.0580 - val_accuracy: 0.7975\n",
            "Epoch 80/100\n",
            "200/200 [==============================] - 1s 4ms/step - loss: 0.0554 - accuracy: 0.9803 - val_loss: 1.0413 - val_accuracy: 0.8181\n",
            "Epoch 81/100\n",
            "200/200 [==============================] - 1s 4ms/step - loss: 0.0491 - accuracy: 0.9841 - val_loss: 1.0442 - val_accuracy: 0.8206\n",
            "Epoch 82/100\n",
            "200/200 [==============================] - 1s 3ms/step - loss: 0.0372 - accuracy: 0.9898 - val_loss: 1.1248 - val_accuracy: 0.8288\n",
            "Epoch 83/100\n",
            "200/200 [==============================] - 1s 4ms/step - loss: 0.0342 - accuracy: 0.9902 - val_loss: 1.0762 - val_accuracy: 0.8256\n",
            "Epoch 84/100\n",
            "200/200 [==============================] - 1s 4ms/step - loss: 0.0381 - accuracy: 0.9878 - val_loss: 1.1425 - val_accuracy: 0.8019\n",
            "Epoch 85/100\n",
            "200/200 [==============================] - 1s 5ms/step - loss: 0.0461 - accuracy: 0.9844 - val_loss: 1.1318 - val_accuracy: 0.8294\n",
            "Epoch 86/100\n",
            "200/200 [==============================] - 1s 5ms/step - loss: 0.0474 - accuracy: 0.9845 - val_loss: 1.1177 - val_accuracy: 0.8194\n",
            "Epoch 87/100\n",
            "200/200 [==============================] - 1s 4ms/step - loss: 0.0359 - accuracy: 0.9897 - val_loss: 1.1274 - val_accuracy: 0.8037\n",
            "Epoch 88/100\n",
            "200/200 [==============================] - 1s 3ms/step - loss: 0.0458 - accuracy: 0.9841 - val_loss: 1.1334 - val_accuracy: 0.8169\n",
            "Epoch 89/100\n",
            "200/200 [==============================] - 1s 4ms/step - loss: 0.0459 - accuracy: 0.9844 - val_loss: 1.1383 - val_accuracy: 0.8138\n",
            "Epoch 90/100\n",
            "200/200 [==============================] - 1s 4ms/step - loss: 0.0397 - accuracy: 0.9873 - val_loss: 1.1191 - val_accuracy: 0.8244\n",
            "Epoch 91/100\n",
            "200/200 [==============================] - 1s 4ms/step - loss: 0.0294 - accuracy: 0.9902 - val_loss: 1.0994 - val_accuracy: 0.8163\n",
            "Epoch 92/100\n",
            "200/200 [==============================] - 1s 4ms/step - loss: 0.0223 - accuracy: 0.9950 - val_loss: 1.1839 - val_accuracy: 0.8169\n",
            "Epoch 93/100\n",
            "200/200 [==============================] - 1s 3ms/step - loss: 0.0207 - accuracy: 0.9956 - val_loss: 1.1939 - val_accuracy: 0.8106\n",
            "Epoch 94/100\n",
            "200/200 [==============================] - 1s 4ms/step - loss: 0.0240 - accuracy: 0.9941 - val_loss: 1.2517 - val_accuracy: 0.8256\n",
            "Epoch 95/100\n",
            "200/200 [==============================] - 1s 3ms/step - loss: 0.0417 - accuracy: 0.9859 - val_loss: 1.2163 - val_accuracy: 0.8331\n",
            "Epoch 96/100\n",
            "200/200 [==============================] - 1s 3ms/step - loss: 0.0551 - accuracy: 0.9798 - val_loss: 1.1854 - val_accuracy: 0.8106\n",
            "Epoch 97/100\n",
            "200/200 [==============================] - 1s 4ms/step - loss: 0.0525 - accuracy: 0.9825 - val_loss: 1.2509 - val_accuracy: 0.8219\n",
            "Epoch 98/100\n",
            "200/200 [==============================] - 1s 3ms/step - loss: 0.0518 - accuracy: 0.9814 - val_loss: 1.1870 - val_accuracy: 0.8106\n",
            "Epoch 99/100\n",
            "200/200 [==============================] - 1s 3ms/step - loss: 0.0451 - accuracy: 0.9844 - val_loss: 1.2003 - val_accuracy: 0.8037\n",
            "Epoch 100/100\n",
            "200/200 [==============================] - 1s 4ms/step - loss: 0.0251 - accuracy: 0.9930 - val_loss: 1.2256 - val_accuracy: 0.8150\n"
          ]
        }
      ]
    },
    {
      "cell_type": "markdown",
      "source": [
        "Number of Layers.."
      ],
      "metadata": {
        "id": "GbnbX1ANtiTW"
      }
    },
    {
      "cell_type": "code",
      "source": [
        "def build_model2(hp):\n",
        "  # Creating the ANN Architecture..\n",
        "  model=Sequential()\n",
        "  # Creating 15 Nodes in the Hidden Layer and Adding Input data..\n",
        "  model.add(Dense(15,activation=\"relu\",input_dim=12))\n",
        "  for a in range(hp.Int(\"num_layers\",min_value=1,max_value=10)):\n",
        "    model.add(Dense(15,activation=\"relu\"))\n",
        "    model.add(Dense(15,activation=\"relu\"))\n",
        "  #Creating 1 Node in the Output Layer..\n",
        "  model.add(Dense(1,activation=\"sigmoid\"))\n",
        "  model.compile(loss=\"binary_crossentropy\",optimizer=\"adam\",metrics=[\"accuracy\"])\n",
        "  return model"
      ],
      "metadata": {
        "id": "_tdpyMMpi8UA"
      },
      "execution_count": 188,
      "outputs": []
    },
    {
      "cell_type": "code",
      "source": [
        "tuner=kt.RandomSearch(build_model2,objective=\"val_accuracy\",max_trials=10,directory=\"My_Dir\",project_name=\"Number_of_Layers\")"
      ],
      "metadata": {
        "id": "bRxliOK8mTSd"
      },
      "execution_count": 189,
      "outputs": []
    },
    {
      "cell_type": "code",
      "source": [
        "tuner.search(X_train_scaled,Y_train,epochs=5,validation_data=(X_test_scaled,Y_test))"
      ],
      "metadata": {
        "colab": {
          "base_uri": "https://localhost:8080/"
        },
        "id": "Fmbfu1x4vndb",
        "outputId": "f3bddddc-8540-469d-85ec-28d51f904ab6"
      },
      "execution_count": 191,
      "outputs": [
        {
          "output_type": "stream",
          "name": "stdout",
          "text": [
            "Trial 10 Complete [00h 00m 23s]\n",
            "val_accuracy: 0.8464999794960022\n",
            "\n",
            "Best val_accuracy So Far: 0.8675000071525574\n",
            "Total elapsed time: 00h 04m 59s\n"
          ]
        }
      ]
    },
    {
      "cell_type": "code",
      "source": [
        "tuner.get_best_hyperparameters"
      ],
      "metadata": {
        "colab": {
          "base_uri": "https://localhost:8080/"
        },
        "id": "PVYkB70ImTgh",
        "outputId": "4d1eaab7-dd37-4884-9aa1-96e1bc731815"
      },
      "execution_count": 192,
      "outputs": [
        {
          "output_type": "execute_result",
          "data": {
            "text/plain": [
              "<bound method BaseTuner.get_best_hyperparameters of <keras_tuner.tuners.randomsearch.RandomSearch object at 0x7dd7d00cab90>>"
            ]
          },
          "metadata": {},
          "execution_count": 192
        }
      ]
    },
    {
      "cell_type": "code",
      "source": [
        "tuner.get_best_hyperparameters()[0].values"
      ],
      "metadata": {
        "colab": {
          "base_uri": "https://localhost:8080/"
        },
        "id": "MRjQvKxymvgV",
        "outputId": "e78bdc0b-e8c6-4684-ec49-dabb9f6a8d4f"
      },
      "execution_count": 193,
      "outputs": [
        {
          "output_type": "execute_result",
          "data": {
            "text/plain": [
              "{'num_layers': 1}"
            ]
          },
          "metadata": {},
          "execution_count": 193
        }
      ]
    },
    {
      "cell_type": "markdown",
      "source": [
        "All the Things in one Function..."
      ],
      "metadata": {
        "id": "Qq9wT4rbycvi"
      }
    },
    {
      "cell_type": "code",
      "source": [
        "def build_model(hp):\n",
        "  model=Sequential()\n",
        "  counter=0\n",
        "  for i in range(hp.Int(\"num_layers\",min_value=1,max_value=10)):\n",
        "    if(counter==0):\n",
        "      model.add(\n",
        "          Dense(\n",
        "              hp.Int(\"units\"+str(i),min_value=10,max_value=80),\n",
        "              activation=hp.Choice(\"activation\"+str(i),values=[\"relu\",\"sigmoid\",\"tanh\"]),\n",
        "              input_dim=12\n",
        "          ))\n",
        "    else:\n",
        "      model.add(\n",
        "          Dense(\n",
        "              hp.Int(\"units\"+str(i),min_value=10,max_value=80),\n",
        "              activation=hp.Choice(\"activation\"+str(i),values=[\"relu\",\"sigmoid\",\"tanh\"]),\n",
        "          ))\n",
        "    counter+=1\n",
        "  #Creating 1 Node in the Output Layer..\n",
        "  model.add(Dense(1,activation=\"sigmoid\"))\n",
        "  model.compile(loss=\"binary_crossentropy\",optimizer=hp.Choice(\"optimizer\",values=[\"adam\",\"adadelta\",\"rmsprop\",\"sgd\",\"nadam\"]),metrics=[\"accuracy\"])\n",
        "  return model"
      ],
      "metadata": {
        "id": "ghGGe9vxybmX"
      },
      "execution_count": 194,
      "outputs": []
    },
    {
      "cell_type": "code",
      "source": [
        "tuner=kt.RandomSearch(build_model,objective=\"val_accuracy\",max_trials=5,directory=\"My_Dir\",project_name=\"Combines_All\")"
      ],
      "metadata": {
        "id": "BGvmdoro2Gsj"
      },
      "execution_count": 197,
      "outputs": []
    },
    {
      "cell_type": "code",
      "source": [
        "tuner.search(X_train_scaled,Y_train,epochs=10,validation_data=(X_test_scaled,Y_test))"
      ],
      "metadata": {
        "colab": {
          "base_uri": "https://localhost:8080/"
        },
        "id": "UD0QsTRc2X_j",
        "outputId": "e7b9baeb-c86d-45ed-d9a6-52cac624f1d2"
      },
      "execution_count": 198,
      "outputs": [
        {
          "output_type": "stream",
          "name": "stdout",
          "text": [
            "Trial 5 Complete [00h 00m 43s]\n",
            "val_accuracy: 0.8615000247955322\n",
            "\n",
            "Best val_accuracy So Far: 0.8615000247955322\n",
            "Total elapsed time: 00h 02m 02s\n"
          ]
        }
      ]
    },
    {
      "cell_type": "code",
      "source": [
        "tuner.get_best_hyperparameters"
      ],
      "metadata": {
        "colab": {
          "base_uri": "https://localhost:8080/"
        },
        "id": "XwoAcpJU3rZE",
        "outputId": "75e53b52-af48-470a-de51-b973c88d8162"
      },
      "execution_count": 199,
      "outputs": [
        {
          "output_type": "execute_result",
          "data": {
            "text/plain": [
              "<bound method BaseTuner.get_best_hyperparameters of <keras_tuner.tuners.randomsearch.RandomSearch object at 0x7dd7d7fe0d90>>"
            ]
          },
          "metadata": {},
          "execution_count": 199
        }
      ]
    },
    {
      "cell_type": "code",
      "source": [
        "tuner.get_best_hyperparameters()[0].values"
      ],
      "metadata": {
        "colab": {
          "base_uri": "https://localhost:8080/"
        },
        "id": "EV0Uvdhi3rrd",
        "outputId": "28c4e6e4-439b-4687-deee-54611fe13a96"
      },
      "execution_count": 200,
      "outputs": [
        {
          "output_type": "execute_result",
          "data": {
            "text/plain": [
              "{'num_layers': 10,\n",
              " 'units0': 22,\n",
              " 'activation0': 'sigmoid',\n",
              " 'optimizer': 'rmsprop',\n",
              " 'units1': 66,\n",
              " 'activation1': 'tanh',\n",
              " 'units2': 32,\n",
              " 'activation2': 'relu',\n",
              " 'units3': 53,\n",
              " 'activation3': 'relu',\n",
              " 'units4': 39,\n",
              " 'activation4': 'sigmoid',\n",
              " 'units5': 56,\n",
              " 'activation5': 'relu',\n",
              " 'units6': 17,\n",
              " 'activation6': 'sigmoid',\n",
              " 'units7': 39,\n",
              " 'activation7': 'relu',\n",
              " 'units8': 10,\n",
              " 'activation8': 'relu',\n",
              " 'units9': 10,\n",
              " 'activation9': 'relu'}"
            ]
          },
          "metadata": {},
          "execution_count": 200
        }
      ]
    },
    {
      "cell_type": "code",
      "source": [
        "model=tuner.get_best_models(num_models=1)[0]"
      ],
      "metadata": {
        "id": "QobTeonX4xin"
      },
      "execution_count": 201,
      "outputs": []
    },
    {
      "cell_type": "code",
      "source": [
        "model.fit(X_train_scaled,Y_train,epochs=200,initial_epoch=5,validation_split=0.2)"
      ],
      "metadata": {
        "colab": {
          "base_uri": "https://localhost:8080/"
        },
        "id": "LCfxJZY04x2v",
        "outputId": "3d22ac6d-391c-4e48-c74b-58173309f925"
      },
      "execution_count": 205,
      "outputs": [
        {
          "output_type": "stream",
          "name": "stdout",
          "text": [
            "Epoch 6/200\n",
            "200/200 [==============================] - 1s 6ms/step - loss: 0.3465 - accuracy: 0.8611 - val_loss: 0.3424 - val_accuracy: 0.8637\n",
            "Epoch 7/200\n",
            "200/200 [==============================] - 1s 5ms/step - loss: 0.3451 - accuracy: 0.8592 - val_loss: 0.3510 - val_accuracy: 0.8587\n",
            "Epoch 8/200\n",
            "200/200 [==============================] - 1s 5ms/step - loss: 0.3431 - accuracy: 0.8617 - val_loss: 0.3453 - val_accuracy: 0.8631\n",
            "Epoch 9/200\n",
            "200/200 [==============================] - 1s 6ms/step - loss: 0.3424 - accuracy: 0.8603 - val_loss: 0.3418 - val_accuracy: 0.8600\n",
            "Epoch 10/200\n",
            "200/200 [==============================] - 1s 6ms/step - loss: 0.3431 - accuracy: 0.8625 - val_loss: 0.3612 - val_accuracy: 0.8531\n",
            "Epoch 11/200\n",
            "200/200 [==============================] - 1s 5ms/step - loss: 0.3432 - accuracy: 0.8602 - val_loss: 0.3718 - val_accuracy: 0.8394\n",
            "Epoch 12/200\n",
            "200/200 [==============================] - 1s 5ms/step - loss: 0.3408 - accuracy: 0.8595 - val_loss: 0.3434 - val_accuracy: 0.8600\n",
            "Epoch 13/200\n",
            "200/200 [==============================] - 1s 4ms/step - loss: 0.3410 - accuracy: 0.8627 - val_loss: 0.3535 - val_accuracy: 0.8537\n",
            "Epoch 14/200\n",
            "200/200 [==============================] - 1s 5ms/step - loss: 0.3381 - accuracy: 0.8625 - val_loss: 0.3501 - val_accuracy: 0.8631\n",
            "Epoch 15/200\n",
            "200/200 [==============================] - 1s 5ms/step - loss: 0.3403 - accuracy: 0.8622 - val_loss: 0.3463 - val_accuracy: 0.8631\n",
            "Epoch 16/200\n",
            "200/200 [==============================] - 1s 5ms/step - loss: 0.3381 - accuracy: 0.8598 - val_loss: 0.3454 - val_accuracy: 0.8606\n",
            "Epoch 17/200\n",
            "200/200 [==============================] - 1s 5ms/step - loss: 0.3371 - accuracy: 0.8620 - val_loss: 0.3478 - val_accuracy: 0.8562\n",
            "Epoch 18/200\n",
            "200/200 [==============================] - 1s 5ms/step - loss: 0.3367 - accuracy: 0.8641 - val_loss: 0.3455 - val_accuracy: 0.8600\n",
            "Epoch 19/200\n",
            "200/200 [==============================] - 1s 4ms/step - loss: 0.3373 - accuracy: 0.8628 - val_loss: 0.3594 - val_accuracy: 0.8569\n",
            "Epoch 20/200\n",
            "200/200 [==============================] - 1s 5ms/step - loss: 0.3344 - accuracy: 0.8633 - val_loss: 0.3593 - val_accuracy: 0.8606\n",
            "Epoch 21/200\n",
            "200/200 [==============================] - 1s 6ms/step - loss: 0.3351 - accuracy: 0.8620 - val_loss: 0.3470 - val_accuracy: 0.8606\n",
            "Epoch 22/200\n",
            "200/200 [==============================] - 1s 6ms/step - loss: 0.3358 - accuracy: 0.8614 - val_loss: 0.3482 - val_accuracy: 0.8600\n",
            "Epoch 23/200\n",
            "200/200 [==============================] - 1s 5ms/step - loss: 0.3336 - accuracy: 0.8644 - val_loss: 0.3458 - val_accuracy: 0.8606\n",
            "Epoch 24/200\n",
            "200/200 [==============================] - 1s 5ms/step - loss: 0.3350 - accuracy: 0.8631 - val_loss: 0.3515 - val_accuracy: 0.8637\n",
            "Epoch 25/200\n",
            "200/200 [==============================] - 1s 5ms/step - loss: 0.3351 - accuracy: 0.8630 - val_loss: 0.3492 - val_accuracy: 0.8575\n",
            "Epoch 26/200\n",
            "200/200 [==============================] - 1s 5ms/step - loss: 0.3315 - accuracy: 0.8650 - val_loss: 0.3495 - val_accuracy: 0.8631\n",
            "Epoch 27/200\n",
            "200/200 [==============================] - 1s 5ms/step - loss: 0.3332 - accuracy: 0.8620 - val_loss: 0.3469 - val_accuracy: 0.8587\n",
            "Epoch 28/200\n",
            "200/200 [==============================] - 1s 5ms/step - loss: 0.3309 - accuracy: 0.8634 - val_loss: 0.3429 - val_accuracy: 0.8625\n",
            "Epoch 29/200\n",
            "200/200 [==============================] - 1s 5ms/step - loss: 0.3312 - accuracy: 0.8622 - val_loss: 0.3548 - val_accuracy: 0.8506\n",
            "Epoch 30/200\n",
            "200/200 [==============================] - 1s 5ms/step - loss: 0.3315 - accuracy: 0.8631 - val_loss: 0.3440 - val_accuracy: 0.8556\n",
            "Epoch 31/200\n",
            "200/200 [==============================] - 1s 5ms/step - loss: 0.3308 - accuracy: 0.8625 - val_loss: 0.3429 - val_accuracy: 0.8644\n",
            "Epoch 32/200\n",
            "200/200 [==============================] - 1s 5ms/step - loss: 0.3294 - accuracy: 0.8617 - val_loss: 0.3562 - val_accuracy: 0.8556\n",
            "Epoch 33/200\n",
            "200/200 [==============================] - 1s 6ms/step - loss: 0.3295 - accuracy: 0.8650 - val_loss: 0.3466 - val_accuracy: 0.8612\n",
            "Epoch 34/200\n",
            "200/200 [==============================] - 1s 6ms/step - loss: 0.3296 - accuracy: 0.8650 - val_loss: 0.3455 - val_accuracy: 0.8612\n",
            "Epoch 35/200\n",
            "200/200 [==============================] - 1s 5ms/step - loss: 0.3278 - accuracy: 0.8642 - val_loss: 0.3567 - val_accuracy: 0.8612\n",
            "Epoch 36/200\n",
            "200/200 [==============================] - 1s 5ms/step - loss: 0.3281 - accuracy: 0.8634 - val_loss: 0.3562 - val_accuracy: 0.8581\n",
            "Epoch 37/200\n",
            "200/200 [==============================] - 1s 5ms/step - loss: 0.3269 - accuracy: 0.8647 - val_loss: 0.3582 - val_accuracy: 0.8575\n",
            "Epoch 38/200\n",
            "200/200 [==============================] - 1s 5ms/step - loss: 0.3269 - accuracy: 0.8661 - val_loss: 0.3471 - val_accuracy: 0.8575\n",
            "Epoch 39/200\n",
            "200/200 [==============================] - 1s 5ms/step - loss: 0.3271 - accuracy: 0.8641 - val_loss: 0.3443 - val_accuracy: 0.8644\n",
            "Epoch 40/200\n",
            "200/200 [==============================] - 1s 5ms/step - loss: 0.3253 - accuracy: 0.8672 - val_loss: 0.3442 - val_accuracy: 0.8606\n",
            "Epoch 41/200\n",
            "200/200 [==============================] - 1s 5ms/step - loss: 0.3253 - accuracy: 0.8652 - val_loss: 0.3683 - val_accuracy: 0.8456\n",
            "Epoch 42/200\n",
            "200/200 [==============================] - 1s 5ms/step - loss: 0.3256 - accuracy: 0.8675 - val_loss: 0.3645 - val_accuracy: 0.8500\n",
            "Epoch 43/200\n",
            "200/200 [==============================] - 1s 5ms/step - loss: 0.3253 - accuracy: 0.8656 - val_loss: 0.3456 - val_accuracy: 0.8612\n",
            "Epoch 44/200\n",
            "200/200 [==============================] - 1s 5ms/step - loss: 0.3252 - accuracy: 0.8659 - val_loss: 0.3433 - val_accuracy: 0.8612\n",
            "Epoch 45/200\n",
            "200/200 [==============================] - 1s 5ms/step - loss: 0.3232 - accuracy: 0.8639 - val_loss: 0.3432 - val_accuracy: 0.8637\n",
            "Epoch 46/200\n",
            "200/200 [==============================] - 1s 6ms/step - loss: 0.3227 - accuracy: 0.8662 - val_loss: 0.3459 - val_accuracy: 0.8612\n",
            "Epoch 47/200\n",
            "200/200 [==============================] - 1s 6ms/step - loss: 0.3231 - accuracy: 0.8652 - val_loss: 0.3471 - val_accuracy: 0.8587\n",
            "Epoch 48/200\n",
            "200/200 [==============================] - 1s 5ms/step - loss: 0.3223 - accuracy: 0.8672 - val_loss: 0.3449 - val_accuracy: 0.8600\n",
            "Epoch 49/200\n",
            "200/200 [==============================] - 1s 5ms/step - loss: 0.3220 - accuracy: 0.8666 - val_loss: 0.3457 - val_accuracy: 0.8581\n",
            "Epoch 50/200\n",
            "200/200 [==============================] - 1s 5ms/step - loss: 0.3203 - accuracy: 0.8702 - val_loss: 0.3444 - val_accuracy: 0.8625\n",
            "Epoch 51/200\n",
            "200/200 [==============================] - 1s 5ms/step - loss: 0.3219 - accuracy: 0.8641 - val_loss: 0.3650 - val_accuracy: 0.8481\n",
            "Epoch 52/200\n",
            "200/200 [==============================] - 1s 5ms/step - loss: 0.3208 - accuracy: 0.8666 - val_loss: 0.3428 - val_accuracy: 0.8600\n",
            "Epoch 53/200\n",
            "200/200 [==============================] - 1s 5ms/step - loss: 0.3196 - accuracy: 0.8689 - val_loss: 0.3666 - val_accuracy: 0.8562\n",
            "Epoch 54/200\n",
            "200/200 [==============================] - 1s 5ms/step - loss: 0.3211 - accuracy: 0.8662 - val_loss: 0.3429 - val_accuracy: 0.8594\n",
            "Epoch 55/200\n",
            "200/200 [==============================] - 1s 5ms/step - loss: 0.3199 - accuracy: 0.8664 - val_loss: 0.3518 - val_accuracy: 0.8631\n",
            "Epoch 56/200\n",
            "200/200 [==============================] - 1s 5ms/step - loss: 0.3182 - accuracy: 0.8669 - val_loss: 0.3627 - val_accuracy: 0.8531\n",
            "Epoch 57/200\n",
            "200/200 [==============================] - 1s 5ms/step - loss: 0.3186 - accuracy: 0.8686 - val_loss: 0.3426 - val_accuracy: 0.8612\n",
            "Epoch 58/200\n",
            "200/200 [==============================] - 1s 6ms/step - loss: 0.3188 - accuracy: 0.8695 - val_loss: 0.3468 - val_accuracy: 0.8644\n",
            "Epoch 59/200\n",
            "200/200 [==============================] - 1s 6ms/step - loss: 0.3172 - accuracy: 0.8666 - val_loss: 0.3575 - val_accuracy: 0.8637\n",
            "Epoch 60/200\n",
            "200/200 [==============================] - 1s 5ms/step - loss: 0.3170 - accuracy: 0.8673 - val_loss: 0.3536 - val_accuracy: 0.8594\n",
            "Epoch 61/200\n",
            "200/200 [==============================] - 1s 5ms/step - loss: 0.3166 - accuracy: 0.8677 - val_loss: 0.3517 - val_accuracy: 0.8587\n",
            "Epoch 62/200\n",
            "200/200 [==============================] - 1s 5ms/step - loss: 0.3167 - accuracy: 0.8695 - val_loss: 0.3510 - val_accuracy: 0.8594\n",
            "Epoch 63/200\n",
            "200/200 [==============================] - 1s 5ms/step - loss: 0.3158 - accuracy: 0.8697 - val_loss: 0.3456 - val_accuracy: 0.8656\n",
            "Epoch 64/200\n",
            "200/200 [==============================] - 1s 5ms/step - loss: 0.3165 - accuracy: 0.8689 - val_loss: 0.3593 - val_accuracy: 0.8594\n",
            "Epoch 65/200\n",
            "200/200 [==============================] - 1s 5ms/step - loss: 0.3137 - accuracy: 0.8689 - val_loss: 0.3567 - val_accuracy: 0.8587\n",
            "Epoch 66/200\n",
            "200/200 [==============================] - 1s 5ms/step - loss: 0.3158 - accuracy: 0.8709 - val_loss: 0.3488 - val_accuracy: 0.8650\n",
            "Epoch 67/200\n",
            "200/200 [==============================] - 1s 5ms/step - loss: 0.3153 - accuracy: 0.8695 - val_loss: 0.3539 - val_accuracy: 0.8575\n",
            "Epoch 68/200\n",
            "200/200 [==============================] - 1s 5ms/step - loss: 0.3144 - accuracy: 0.8692 - val_loss: 0.3598 - val_accuracy: 0.8594\n",
            "Epoch 69/200\n",
            "200/200 [==============================] - 1s 5ms/step - loss: 0.3139 - accuracy: 0.8733 - val_loss: 0.3477 - val_accuracy: 0.8631\n",
            "Epoch 70/200\n",
            "200/200 [==============================] - 1s 6ms/step - loss: 0.3136 - accuracy: 0.8694 - val_loss: 0.3464 - val_accuracy: 0.8587\n",
            "Epoch 71/200\n",
            "200/200 [==============================] - 1s 6ms/step - loss: 0.3099 - accuracy: 0.8706 - val_loss: 0.3629 - val_accuracy: 0.8644\n",
            "Epoch 72/200\n",
            "200/200 [==============================] - 1s 5ms/step - loss: 0.3129 - accuracy: 0.8730 - val_loss: 0.3668 - val_accuracy: 0.8487\n",
            "Epoch 73/200\n",
            "200/200 [==============================] - 1s 5ms/step - loss: 0.3134 - accuracy: 0.8698 - val_loss: 0.3491 - val_accuracy: 0.8575\n",
            "Epoch 74/200\n",
            "200/200 [==============================] - 1s 5ms/step - loss: 0.3122 - accuracy: 0.8711 - val_loss: 0.3482 - val_accuracy: 0.8631\n",
            "Epoch 75/200\n",
            "200/200 [==============================] - 1s 5ms/step - loss: 0.3102 - accuracy: 0.8708 - val_loss: 0.3500 - val_accuracy: 0.8581\n",
            "Epoch 76/200\n",
            "200/200 [==============================] - 1s 7ms/step - loss: 0.3103 - accuracy: 0.8706 - val_loss: 0.3536 - val_accuracy: 0.8625\n",
            "Epoch 77/200\n",
            "200/200 [==============================] - 1s 6ms/step - loss: 0.3111 - accuracy: 0.8714 - val_loss: 0.3505 - val_accuracy: 0.8612\n",
            "Epoch 78/200\n",
            "200/200 [==============================] - 1s 5ms/step - loss: 0.3096 - accuracy: 0.8745 - val_loss: 0.3524 - val_accuracy: 0.8600\n",
            "Epoch 79/200\n",
            "200/200 [==============================] - 1s 5ms/step - loss: 0.3105 - accuracy: 0.8737 - val_loss: 0.3554 - val_accuracy: 0.8562\n",
            "Epoch 80/200\n",
            "200/200 [==============================] - 1s 5ms/step - loss: 0.3083 - accuracy: 0.8744 - val_loss: 0.3563 - val_accuracy: 0.8594\n",
            "Epoch 81/200\n",
            "200/200 [==============================] - 2s 8ms/step - loss: 0.3082 - accuracy: 0.8730 - val_loss: 0.3500 - val_accuracy: 0.8581\n",
            "Epoch 82/200\n",
            "200/200 [==============================] - 2s 10ms/step - loss: 0.3098 - accuracy: 0.8739 - val_loss: 0.3504 - val_accuracy: 0.8650\n",
            "Epoch 83/200\n",
            "200/200 [==============================] - 1s 5ms/step - loss: 0.3072 - accuracy: 0.8758 - val_loss: 0.3656 - val_accuracy: 0.8650\n",
            "Epoch 84/200\n",
            "200/200 [==============================] - 1s 5ms/step - loss: 0.3081 - accuracy: 0.8745 - val_loss: 0.3621 - val_accuracy: 0.8644\n",
            "Epoch 85/200\n",
            "200/200 [==============================] - 1s 5ms/step - loss: 0.3055 - accuracy: 0.8755 - val_loss: 0.3755 - val_accuracy: 0.8569\n",
            "Epoch 86/200\n",
            "200/200 [==============================] - 1s 5ms/step - loss: 0.3078 - accuracy: 0.8730 - val_loss: 0.3507 - val_accuracy: 0.8606\n",
            "Epoch 87/200\n",
            "200/200 [==============================] - 1s 5ms/step - loss: 0.3057 - accuracy: 0.8737 - val_loss: 0.3574 - val_accuracy: 0.8581\n",
            "Epoch 88/200\n",
            "200/200 [==============================] - 1s 5ms/step - loss: 0.3027 - accuracy: 0.8755 - val_loss: 0.3565 - val_accuracy: 0.8619\n",
            "Epoch 89/200\n",
            "200/200 [==============================] - 1s 5ms/step - loss: 0.3055 - accuracy: 0.8753 - val_loss: 0.3558 - val_accuracy: 0.8575\n",
            "Epoch 90/200\n",
            "200/200 [==============================] - 1s 5ms/step - loss: 0.3046 - accuracy: 0.8745 - val_loss: 0.3546 - val_accuracy: 0.8631\n",
            "Epoch 91/200\n",
            "200/200 [==============================] - 1s 5ms/step - loss: 0.3030 - accuracy: 0.8755 - val_loss: 0.3686 - val_accuracy: 0.8612\n",
            "Epoch 92/200\n",
            "200/200 [==============================] - 1s 5ms/step - loss: 0.3043 - accuracy: 0.8742 - val_loss: 0.3514 - val_accuracy: 0.8606\n",
            "Epoch 93/200\n",
            "200/200 [==============================] - 1s 6ms/step - loss: 0.3018 - accuracy: 0.8772 - val_loss: 0.3693 - val_accuracy: 0.8550\n",
            "Epoch 94/200\n",
            "200/200 [==============================] - 1s 6ms/step - loss: 0.3024 - accuracy: 0.8766 - val_loss: 0.3883 - val_accuracy: 0.8550\n",
            "Epoch 95/200\n",
            "200/200 [==============================] - 1s 5ms/step - loss: 0.3019 - accuracy: 0.8770 - val_loss: 0.3641 - val_accuracy: 0.8556\n",
            "Epoch 96/200\n",
            "200/200 [==============================] - 1s 5ms/step - loss: 0.3004 - accuracy: 0.8766 - val_loss: 0.3639 - val_accuracy: 0.8612\n",
            "Epoch 97/200\n",
            "200/200 [==============================] - 1s 5ms/step - loss: 0.3007 - accuracy: 0.8770 - val_loss: 0.3565 - val_accuracy: 0.8656\n",
            "Epoch 98/200\n",
            "200/200 [==============================] - 1s 5ms/step - loss: 0.2971 - accuracy: 0.8753 - val_loss: 0.3696 - val_accuracy: 0.8575\n",
            "Epoch 99/200\n",
            "200/200 [==============================] - 1s 5ms/step - loss: 0.2999 - accuracy: 0.8802 - val_loss: 0.3775 - val_accuracy: 0.8600\n",
            "Epoch 100/200\n",
            "200/200 [==============================] - 1s 5ms/step - loss: 0.2969 - accuracy: 0.8753 - val_loss: 0.3729 - val_accuracy: 0.8612\n",
            "Epoch 101/200\n",
            "200/200 [==============================] - 1s 5ms/step - loss: 0.2989 - accuracy: 0.8781 - val_loss: 0.3629 - val_accuracy: 0.8625\n",
            "Epoch 102/200\n",
            "200/200 [==============================] - 1s 5ms/step - loss: 0.2978 - accuracy: 0.8770 - val_loss: 0.3654 - val_accuracy: 0.8625\n",
            "Epoch 103/200\n",
            "200/200 [==============================] - 1s 5ms/step - loss: 0.2953 - accuracy: 0.8808 - val_loss: 0.3669 - val_accuracy: 0.8612\n",
            "Epoch 104/200\n",
            "200/200 [==============================] - 1s 5ms/step - loss: 0.2962 - accuracy: 0.8784 - val_loss: 0.3643 - val_accuracy: 0.8587\n",
            "Epoch 105/200\n",
            "200/200 [==============================] - 1s 6ms/step - loss: 0.2968 - accuracy: 0.8800 - val_loss: 0.3914 - val_accuracy: 0.8506\n",
            "Epoch 106/200\n",
            "200/200 [==============================] - 1s 6ms/step - loss: 0.2962 - accuracy: 0.8789 - val_loss: 0.3795 - val_accuracy: 0.8475\n",
            "Epoch 107/200\n",
            "200/200 [==============================] - 1s 5ms/step - loss: 0.2956 - accuracy: 0.8781 - val_loss: 0.3680 - val_accuracy: 0.8537\n",
            "Epoch 108/200\n",
            "200/200 [==============================] - 1s 5ms/step - loss: 0.2928 - accuracy: 0.8803 - val_loss: 0.3723 - val_accuracy: 0.8631\n",
            "Epoch 109/200\n",
            "200/200 [==============================] - 1s 5ms/step - loss: 0.2956 - accuracy: 0.8795 - val_loss: 0.3680 - val_accuracy: 0.8656\n",
            "Epoch 110/200\n",
            "200/200 [==============================] - 1s 5ms/step - loss: 0.2901 - accuracy: 0.8806 - val_loss: 0.3799 - val_accuracy: 0.8587\n",
            "Epoch 111/200\n",
            "200/200 [==============================] - 1s 5ms/step - loss: 0.2927 - accuracy: 0.8813 - val_loss: 0.3679 - val_accuracy: 0.8600\n",
            "Epoch 112/200\n",
            "200/200 [==============================] - 1s 5ms/step - loss: 0.2923 - accuracy: 0.8809 - val_loss: 0.3924 - val_accuracy: 0.8469\n",
            "Epoch 113/200\n",
            "200/200 [==============================] - 1s 5ms/step - loss: 0.2899 - accuracy: 0.8831 - val_loss: 0.3676 - val_accuracy: 0.8625\n",
            "Epoch 114/200\n",
            "200/200 [==============================] - 1s 5ms/step - loss: 0.2932 - accuracy: 0.8811 - val_loss: 0.3938 - val_accuracy: 0.8438\n",
            "Epoch 115/200\n",
            "200/200 [==============================] - 1s 5ms/step - loss: 0.2918 - accuracy: 0.8819 - val_loss: 0.3698 - val_accuracy: 0.8581\n",
            "Epoch 116/200\n",
            "200/200 [==============================] - 1s 5ms/step - loss: 0.2924 - accuracy: 0.8811 - val_loss: 0.3691 - val_accuracy: 0.8600\n",
            "Epoch 117/200\n",
            "200/200 [==============================] - 1s 6ms/step - loss: 0.2901 - accuracy: 0.8825 - val_loss: 0.3718 - val_accuracy: 0.8556\n",
            "Epoch 118/200\n",
            "200/200 [==============================] - 1s 6ms/step - loss: 0.2894 - accuracy: 0.8845 - val_loss: 0.3782 - val_accuracy: 0.8519\n",
            "Epoch 119/200\n",
            "200/200 [==============================] - 1s 5ms/step - loss: 0.2880 - accuracy: 0.8845 - val_loss: 0.3750 - val_accuracy: 0.8537\n",
            "Epoch 120/200\n",
            "200/200 [==============================] - 1s 5ms/step - loss: 0.2859 - accuracy: 0.8836 - val_loss: 0.3818 - val_accuracy: 0.8612\n",
            "Epoch 121/200\n",
            "200/200 [==============================] - 1s 5ms/step - loss: 0.2890 - accuracy: 0.8828 - val_loss: 0.4118 - val_accuracy: 0.8600\n",
            "Epoch 122/200\n",
            "200/200 [==============================] - 1s 5ms/step - loss: 0.2858 - accuracy: 0.8850 - val_loss: 0.3700 - val_accuracy: 0.8544\n",
            "Epoch 123/200\n",
            "200/200 [==============================] - 1s 5ms/step - loss: 0.2846 - accuracy: 0.8855 - val_loss: 0.3983 - val_accuracy: 0.8487\n",
            "Epoch 124/200\n",
            "200/200 [==============================] - 1s 5ms/step - loss: 0.2857 - accuracy: 0.8842 - val_loss: 0.3798 - val_accuracy: 0.8575\n",
            "Epoch 125/200\n",
            "200/200 [==============================] - 1s 5ms/step - loss: 0.2842 - accuracy: 0.8864 - val_loss: 0.3873 - val_accuracy: 0.8450\n",
            "Epoch 126/200\n",
            "200/200 [==============================] - 1s 5ms/step - loss: 0.2851 - accuracy: 0.8842 - val_loss: 0.3941 - val_accuracy: 0.8581\n",
            "Epoch 127/200\n",
            "200/200 [==============================] - 1s 5ms/step - loss: 0.2827 - accuracy: 0.8897 - val_loss: 0.3718 - val_accuracy: 0.8637\n",
            "Epoch 128/200\n",
            "200/200 [==============================] - 1s 5ms/step - loss: 0.2827 - accuracy: 0.8848 - val_loss: 0.4224 - val_accuracy: 0.8388\n",
            "Epoch 129/200\n",
            "200/200 [==============================] - 1s 6ms/step - loss: 0.2835 - accuracy: 0.8869 - val_loss: 0.3883 - val_accuracy: 0.8500\n",
            "Epoch 130/200\n",
            "200/200 [==============================] - 1s 6ms/step - loss: 0.2842 - accuracy: 0.8864 - val_loss: 0.3825 - val_accuracy: 0.8556\n",
            "Epoch 131/200\n",
            "200/200 [==============================] - 1s 5ms/step - loss: 0.2814 - accuracy: 0.8884 - val_loss: 0.3732 - val_accuracy: 0.8481\n",
            "Epoch 132/200\n",
            "200/200 [==============================] - 1s 5ms/step - loss: 0.2812 - accuracy: 0.8886 - val_loss: 0.3846 - val_accuracy: 0.8544\n",
            "Epoch 133/200\n",
            "200/200 [==============================] - 1s 5ms/step - loss: 0.2825 - accuracy: 0.8856 - val_loss: 0.3888 - val_accuracy: 0.8531\n",
            "Epoch 134/200\n",
            "200/200 [==============================] - 1s 5ms/step - loss: 0.2777 - accuracy: 0.8847 - val_loss: 0.3842 - val_accuracy: 0.8612\n",
            "Epoch 135/200\n",
            "200/200 [==============================] - 1s 5ms/step - loss: 0.2825 - accuracy: 0.8866 - val_loss: 0.3881 - val_accuracy: 0.8556\n",
            "Epoch 136/200\n",
            "200/200 [==============================] - 1s 5ms/step - loss: 0.2796 - accuracy: 0.8884 - val_loss: 0.3875 - val_accuracy: 0.8562\n",
            "Epoch 137/200\n",
            "200/200 [==============================] - 1s 5ms/step - loss: 0.2803 - accuracy: 0.8881 - val_loss: 0.3721 - val_accuracy: 0.8594\n",
            "Epoch 138/200\n",
            "200/200 [==============================] - 1s 5ms/step - loss: 0.2785 - accuracy: 0.8869 - val_loss: 0.3833 - val_accuracy: 0.8525\n",
            "Epoch 139/200\n",
            "200/200 [==============================] - 1s 5ms/step - loss: 0.2781 - accuracy: 0.8911 - val_loss: 0.3837 - val_accuracy: 0.8575\n",
            "Epoch 140/200\n",
            "200/200 [==============================] - 1s 5ms/step - loss: 0.2754 - accuracy: 0.8906 - val_loss: 0.3915 - val_accuracy: 0.8494\n",
            "Epoch 141/200\n",
            "200/200 [==============================] - 1s 6ms/step - loss: 0.2766 - accuracy: 0.8850 - val_loss: 0.3979 - val_accuracy: 0.8537\n",
            "Epoch 142/200\n",
            "200/200 [==============================] - 1s 6ms/step - loss: 0.2736 - accuracy: 0.8906 - val_loss: 0.4071 - val_accuracy: 0.8512\n",
            "Epoch 143/200\n",
            "200/200 [==============================] - 1s 5ms/step - loss: 0.2745 - accuracy: 0.8894 - val_loss: 0.4056 - val_accuracy: 0.8425\n",
            "Epoch 144/200\n",
            "200/200 [==============================] - 1s 5ms/step - loss: 0.2717 - accuracy: 0.8913 - val_loss: 0.3992 - val_accuracy: 0.8506\n",
            "Epoch 145/200\n",
            "200/200 [==============================] - 1s 5ms/step - loss: 0.2746 - accuracy: 0.8917 - val_loss: 0.4090 - val_accuracy: 0.8444\n",
            "Epoch 146/200\n",
            "200/200 [==============================] - 1s 5ms/step - loss: 0.2691 - accuracy: 0.8913 - val_loss: 0.4561 - val_accuracy: 0.8356\n",
            "Epoch 147/200\n",
            "200/200 [==============================] - 1s 5ms/step - loss: 0.2730 - accuracy: 0.8911 - val_loss: 0.4136 - val_accuracy: 0.8375\n",
            "Epoch 148/200\n",
            "200/200 [==============================] - 1s 5ms/step - loss: 0.2711 - accuracy: 0.8903 - val_loss: 0.4053 - val_accuracy: 0.8500\n",
            "Epoch 149/200\n",
            "200/200 [==============================] - 1s 5ms/step - loss: 0.2722 - accuracy: 0.8906 - val_loss: 0.4111 - val_accuracy: 0.8569\n",
            "Epoch 150/200\n",
            "200/200 [==============================] - 1s 5ms/step - loss: 0.2705 - accuracy: 0.8894 - val_loss: 0.4001 - val_accuracy: 0.8575\n",
            "Epoch 151/200\n",
            "200/200 [==============================] - 1s 5ms/step - loss: 0.2717 - accuracy: 0.8897 - val_loss: 0.4482 - val_accuracy: 0.8494\n",
            "Epoch 152/200\n",
            "200/200 [==============================] - 1s 5ms/step - loss: 0.2682 - accuracy: 0.8927 - val_loss: 0.4052 - val_accuracy: 0.8438\n",
            "Epoch 153/200\n",
            "200/200 [==============================] - 1s 6ms/step - loss: 0.2690 - accuracy: 0.8930 - val_loss: 0.4217 - val_accuracy: 0.8569\n",
            "Epoch 154/200\n",
            "200/200 [==============================] - 1s 6ms/step - loss: 0.2687 - accuracy: 0.8906 - val_loss: 0.4264 - val_accuracy: 0.8406\n",
            "Epoch 155/200\n",
            "200/200 [==============================] - 1s 6ms/step - loss: 0.2636 - accuracy: 0.8942 - val_loss: 0.4433 - val_accuracy: 0.8600\n",
            "Epoch 156/200\n",
            "200/200 [==============================] - 1s 5ms/step - loss: 0.2683 - accuracy: 0.8913 - val_loss: 0.4037 - val_accuracy: 0.8469\n",
            "Epoch 157/200\n",
            "200/200 [==============================] - 1s 5ms/step - loss: 0.2643 - accuracy: 0.8908 - val_loss: 0.4248 - val_accuracy: 0.8450\n",
            "Epoch 158/200\n",
            "200/200 [==============================] - 1s 5ms/step - loss: 0.2635 - accuracy: 0.8938 - val_loss: 0.3955 - val_accuracy: 0.8544\n",
            "Epoch 159/200\n",
            "200/200 [==============================] - 1s 5ms/step - loss: 0.2652 - accuracy: 0.8944 - val_loss: 0.4560 - val_accuracy: 0.8525\n",
            "Epoch 160/200\n",
            "200/200 [==============================] - 1s 5ms/step - loss: 0.2632 - accuracy: 0.8956 - val_loss: 0.4447 - val_accuracy: 0.8487\n",
            "Epoch 161/200\n",
            "200/200 [==============================] - 1s 5ms/step - loss: 0.2626 - accuracy: 0.8930 - val_loss: 0.4530 - val_accuracy: 0.8450\n",
            "Epoch 162/200\n",
            "200/200 [==============================] - 1s 5ms/step - loss: 0.2616 - accuracy: 0.8925 - val_loss: 0.4551 - val_accuracy: 0.8525\n",
            "Epoch 163/200\n",
            "200/200 [==============================] - 1s 5ms/step - loss: 0.2591 - accuracy: 0.8961 - val_loss: 0.4695 - val_accuracy: 0.8569\n",
            "Epoch 164/200\n",
            "200/200 [==============================] - 1s 5ms/step - loss: 0.2617 - accuracy: 0.8947 - val_loss: 0.4400 - val_accuracy: 0.8469\n",
            "Epoch 165/200\n",
            "200/200 [==============================] - 1s 6ms/step - loss: 0.2579 - accuracy: 0.8952 - val_loss: 0.4297 - val_accuracy: 0.8375\n",
            "Epoch 166/200\n",
            "200/200 [==============================] - 1s 6ms/step - loss: 0.2556 - accuracy: 0.8975 - val_loss: 0.4337 - val_accuracy: 0.8294\n",
            "Epoch 167/200\n",
            "200/200 [==============================] - 1s 6ms/step - loss: 0.2584 - accuracy: 0.8955 - val_loss: 0.4439 - val_accuracy: 0.8319\n",
            "Epoch 168/200\n",
            "200/200 [==============================] - 1s 5ms/step - loss: 0.2550 - accuracy: 0.8984 - val_loss: 0.4439 - val_accuracy: 0.8494\n",
            "Epoch 169/200\n",
            "200/200 [==============================] - 1s 5ms/step - loss: 0.2562 - accuracy: 0.8963 - val_loss: 0.4413 - val_accuracy: 0.8512\n",
            "Epoch 170/200\n",
            "200/200 [==============================] - 1s 5ms/step - loss: 0.2544 - accuracy: 0.8981 - val_loss: 0.4497 - val_accuracy: 0.8444\n",
            "Epoch 171/200\n",
            "200/200 [==============================] - 1s 5ms/step - loss: 0.2541 - accuracy: 0.8992 - val_loss: 0.4627 - val_accuracy: 0.8419\n",
            "Epoch 172/200\n",
            "200/200 [==============================] - 1s 5ms/step - loss: 0.2524 - accuracy: 0.8991 - val_loss: 0.5447 - val_accuracy: 0.8531\n",
            "Epoch 173/200\n",
            "200/200 [==============================] - 1s 5ms/step - loss: 0.2525 - accuracy: 0.8989 - val_loss: 0.4198 - val_accuracy: 0.8388\n",
            "Epoch 174/200\n",
            "200/200 [==============================] - 1s 5ms/step - loss: 0.2507 - accuracy: 0.9006 - val_loss: 0.4247 - val_accuracy: 0.8462\n",
            "Epoch 175/200\n",
            "200/200 [==============================] - 1s 5ms/step - loss: 0.2467 - accuracy: 0.9005 - val_loss: 0.5014 - val_accuracy: 0.8469\n",
            "Epoch 176/200\n",
            "200/200 [==============================] - 1s 5ms/step - loss: 0.2541 - accuracy: 0.8983 - val_loss: 0.4258 - val_accuracy: 0.8425\n",
            "Epoch 177/200\n",
            "200/200 [==============================] - 1s 6ms/step - loss: 0.2496 - accuracy: 0.8983 - val_loss: 0.4447 - val_accuracy: 0.8525\n",
            "Epoch 178/200\n",
            "200/200 [==============================] - 1s 7ms/step - loss: 0.2520 - accuracy: 0.8995 - val_loss: 0.4388 - val_accuracy: 0.8444\n",
            "Epoch 179/200\n",
            "200/200 [==============================] - 1s 5ms/step - loss: 0.2496 - accuracy: 0.8992 - val_loss: 0.4590 - val_accuracy: 0.8450\n",
            "Epoch 180/200\n",
            "200/200 [==============================] - 1s 5ms/step - loss: 0.2463 - accuracy: 0.9038 - val_loss: 0.4429 - val_accuracy: 0.8306\n",
            "Epoch 181/200\n",
            "200/200 [==============================] - 1s 5ms/step - loss: 0.2458 - accuracy: 0.9025 - val_loss: 0.4683 - val_accuracy: 0.8462\n",
            "Epoch 182/200\n",
            "200/200 [==============================] - 1s 5ms/step - loss: 0.2463 - accuracy: 0.8973 - val_loss: 0.4895 - val_accuracy: 0.8456\n",
            "Epoch 183/200\n",
            "200/200 [==============================] - 1s 5ms/step - loss: 0.2456 - accuracy: 0.9036 - val_loss: 0.4559 - val_accuracy: 0.8419\n",
            "Epoch 184/200\n",
            "200/200 [==============================] - 1s 5ms/step - loss: 0.2436 - accuracy: 0.9020 - val_loss: 0.4497 - val_accuracy: 0.8525\n",
            "Epoch 185/200\n",
            "200/200 [==============================] - 1s 5ms/step - loss: 0.2426 - accuracy: 0.9047 - val_loss: 0.5182 - val_accuracy: 0.8363\n",
            "Epoch 186/200\n",
            "200/200 [==============================] - 1s 5ms/step - loss: 0.2449 - accuracy: 0.9038 - val_loss: 0.4663 - val_accuracy: 0.8369\n",
            "Epoch 187/200\n",
            "200/200 [==============================] - 1s 5ms/step - loss: 0.2401 - accuracy: 0.9066 - val_loss: 0.4266 - val_accuracy: 0.8487\n",
            "Epoch 188/200\n",
            "200/200 [==============================] - 1s 5ms/step - loss: 0.2440 - accuracy: 0.9067 - val_loss: 0.4631 - val_accuracy: 0.8275\n",
            "Epoch 189/200\n",
            "200/200 [==============================] - 1s 7ms/step - loss: 0.2410 - accuracy: 0.9061 - val_loss: 0.4284 - val_accuracy: 0.8481\n",
            "Epoch 190/200\n",
            "200/200 [==============================] - 1s 6ms/step - loss: 0.2388 - accuracy: 0.9059 - val_loss: 0.4791 - val_accuracy: 0.8500\n",
            "Epoch 191/200\n",
            "200/200 [==============================] - 1s 5ms/step - loss: 0.2362 - accuracy: 0.9069 - val_loss: 0.4908 - val_accuracy: 0.8363\n",
            "Epoch 192/200\n",
            "200/200 [==============================] - 1s 5ms/step - loss: 0.2378 - accuracy: 0.9059 - val_loss: 0.4658 - val_accuracy: 0.8419\n",
            "Epoch 193/200\n",
            "200/200 [==============================] - 1s 5ms/step - loss: 0.2374 - accuracy: 0.9067 - val_loss: 0.4699 - val_accuracy: 0.8425\n",
            "Epoch 194/200\n",
            "200/200 [==============================] - 1s 5ms/step - loss: 0.2396 - accuracy: 0.9086 - val_loss: 0.4788 - val_accuracy: 0.8481\n",
            "Epoch 195/200\n",
            "200/200 [==============================] - 1s 5ms/step - loss: 0.2378 - accuracy: 0.9078 - val_loss: 0.4714 - val_accuracy: 0.8400\n",
            "Epoch 196/200\n",
            "200/200 [==============================] - 1s 5ms/step - loss: 0.2356 - accuracy: 0.9069 - val_loss: 0.4752 - val_accuracy: 0.8213\n",
            "Epoch 197/200\n",
            "200/200 [==============================] - 1s 5ms/step - loss: 0.2332 - accuracy: 0.9069 - val_loss: 0.5256 - val_accuracy: 0.8150\n",
            "Epoch 198/200\n",
            "200/200 [==============================] - 1s 5ms/step - loss: 0.2337 - accuracy: 0.9081 - val_loss: 0.4885 - val_accuracy: 0.8256\n",
            "Epoch 199/200\n",
            "200/200 [==============================] - 1s 5ms/step - loss: 0.2337 - accuracy: 0.9064 - val_loss: 0.4756 - val_accuracy: 0.8150\n",
            "Epoch 200/200\n",
            "200/200 [==============================] - 1s 5ms/step - loss: 0.2318 - accuracy: 0.9092 - val_loss: 0.4807 - val_accuracy: 0.8425\n"
          ]
        },
        {
          "output_type": "execute_result",
          "data": {
            "text/plain": [
              "<keras.callbacks.History at 0x7dd73f905cc0>"
            ]
          },
          "metadata": {},
          "execution_count": 205
        }
      ]
    }
  ]
}