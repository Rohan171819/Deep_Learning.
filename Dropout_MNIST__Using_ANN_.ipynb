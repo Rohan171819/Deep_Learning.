{
  "nbformat": 4,
  "nbformat_minor": 0,
  "metadata": {
    "colab": {
      "provenance": [],
      "gpuType": "T4",
      "authorship_tag": "ABX9TyPFmhuNpQgTBfM9oszDW63b",
      "include_colab_link": true
    },
    "kernelspec": {
      "name": "python3",
      "display_name": "Python 3"
    },
    "language_info": {
      "name": "python"
    },
    "accelerator": "GPU"
  },
  "cells": [
    {
      "cell_type": "markdown",
      "metadata": {
        "id": "view-in-github",
        "colab_type": "text"
      },
      "source": [
        "<a href=\"https://colab.research.google.com/github/Rohan171819/Deep_Learning./blob/main/Dropout_MNIST__Using_ANN_.ipynb\" target=\"_parent\"><img src=\"https://colab.research.google.com/assets/colab-badge.svg\" alt=\"Open In Colab\"/></a>"
      ]
    },
    {
      "cell_type": "code",
      "execution_count": 2,
      "metadata": {
        "id": "U5IgtrjmGCJ4"
      },
      "outputs": [],
      "source": [
        "import tensorflow\n",
        "from tensorflow import keras\n",
        "from tensorflow.keras import Sequential\n",
        "from tensorflow.keras.layers import Dense,Flatten,Dropout"
      ]
    },
    {
      "cell_type": "code",
      "source": [
        "(X_train,y_train),(X_test,y_test)=keras.datasets.mnist.load_data()"
      ],
      "metadata": {
        "id": "BJAsQCm6G3Su",
        "colab": {
          "base_uri": "https://localhost:8080/"
        },
        "outputId": "a728d25d-052b-46ef-911c-acc06ba2ba3d"
      },
      "execution_count": 3,
      "outputs": [
        {
          "output_type": "stream",
          "name": "stdout",
          "text": [
            "Downloading data from https://storage.googleapis.com/tensorflow/tf-keras-datasets/mnist.npz\n",
            "11490434/11490434 [==============================] - 0s 0us/step\n"
          ]
        }
      ]
    },
    {
      "cell_type": "code",
      "source": [
        "X_train.ndim"
      ],
      "metadata": {
        "colab": {
          "base_uri": "https://localhost:8080/"
        },
        "id": "XNzR44-1HYR2",
        "outputId": "cc0ce257-7538-4c0f-f72b-182cd0fd8c6e"
      },
      "execution_count": 4,
      "outputs": [
        {
          "output_type": "execute_result",
          "data": {
            "text/plain": [
              "3"
            ]
          },
          "metadata": {},
          "execution_count": 4
        }
      ]
    },
    {
      "cell_type": "code",
      "source": [
        "X_train.shape"
      ],
      "metadata": {
        "colab": {
          "base_uri": "https://localhost:8080/"
        },
        "id": "omDPqbxAHpC3",
        "outputId": "b3202980-4240-41f9-c511-ef95d01f04fe"
      },
      "execution_count": 5,
      "outputs": [
        {
          "output_type": "execute_result",
          "data": {
            "text/plain": [
              "(60000, 28, 28)"
            ]
          },
          "metadata": {},
          "execution_count": 5
        }
      ]
    },
    {
      "cell_type": "code",
      "source": [
        "import matplotlib.pyplot as plt\n",
        "plt.imshow(X_train[5])"
      ],
      "metadata": {
        "colab": {
          "base_uri": "https://localhost:8080/",
          "height": 447
        },
        "id": "HknTIuZlIMlY",
        "outputId": "87586fdb-fd86-49af-8d74-e72696592fb6"
      },
      "execution_count": 7,
      "outputs": [
        {
          "output_type": "execute_result",
          "data": {
            "text/plain": [
              "<matplotlib.image.AxesImage at 0x7fb3b002c8b0>"
            ]
          },
          "metadata": {},
          "execution_count": 7
        },
        {
          "output_type": "display_data",
          "data": {
            "text/plain": [
              "<Figure size 640x480 with 1 Axes>"
            ],
            "image/png": "[encoded data removed]"
          },
          "metadata": {}
        }
      ]
    },
    {
      "cell_type": "code",
      "source": [
        "# Scaling the values.\n",
        "X_train=X_train/255\n",
        "X_test=X_test/255"
      ],
      "metadata": {
        "id": "MQaYT89IIX6E"
      },
      "execution_count": 8,
      "outputs": []
    },
    {
      "cell_type": "code",
      "source": [
        "X_train[0]"
      ],
      "metadata": {
        "colab": {
          "base_uri": "https://localhost:8080/"
        },
        "id": "WiWsExgRI6Mp",
        "outputId": "bb94ee47-ec9b-4433-c6a2-80212e5189e6"
      },
      "execution_count": 9,
      "outputs": [
        {
          "output_type": "execute_result",
          "data": {
            "text/plain": [
              "array([[0.        , 0.        , 0.        , 0.        , 0.        ,\n",
              "        0.        , 0.        , 0.        , 0.        , 0.        ,\n",
              "        0.        , 0.        , 0.        , 0.        , 0.        ,\n",
              "        0.        , 0.        , 0.        , 0.        , 0.        ,\n",
              "        0.        , 0.        , 0.        , 0.        , 0.        ,\n",
              "        0.        , 0.        , 0.        ],\n",
              "       [0.        , 0.        , 0.        , 0.        , 0.        ,\n",
              "        0.        , 0.        , 0.        , 0.        , 0.        ,\n",
              "        0.        , 0.        , 0.        , 0.        , 0.        ,\n",
              "        0.        , 0.        , 0.        , 0.        , 0.        ,\n",
              "        0.        , 0.        , 0.        , 0.        , 0.        ,\n",
              "        0.        , 0.        , 0.        ],\n",
              "       [0.        , 0.        , 0.        , 0.        , 0.        ,\n",
              "        0.        , 0.        , 0.        , 0.        , 0.        ,\n",
              "        0.        , 0.        , 0.        , 0.        , 0.        ,\n",
              "        0.        , 0.        , 0.        , 0.        , 0.        ,\n",
              "        0.        , 0.        , 0.        , 0.        , 0.        ,\n",
              "        0.        , 0.        , 0.        ],\n",
              "       [0.        , 0.        , 0.        , 0.        , 0.        ,\n",
              "        0.        , 0.        , 0.        , 0.        , 0.        ,\n",
              "        0.        , 0.        , 0.        , 0.        , 0.        ,\n",
              "        0.        , 0.        , 0.        , 0.        , 0.        ,\n",
              "        0.        , 0.        , 0.        , 0.        , 0.        ,\n",
              "        0.        , 0.        , 0.        ],\n",
              "       [0.        , 0.        , 0.        , 0.        , 0.        ,\n",
              "        0.        , 0.        , 0.        , 0.        , 0.        ,\n",
              "        0.        , 0.        , 0.        , 0.        , 0.        ,\n",
              "        0.        , 0.        , 0.        , 0.        , 0.        ,\n",
              "        0.        , 0.        , 0.        , 0.        , 0.        ,\n",
              "        0.        , 0.        , 0.        ],\n",
              "       [0.        , 0.        , 0.        , 0.        , 0.        ,\n",
              "        0.        , 0.        , 0.        , 0.        , 0.        ,\n",
              "        0.        , 0.        , 0.01176471, 0.07058824, 0.07058824,\n",
              "        0.07058824, 0.49411765, 0.53333333, 0.68627451, 0.10196078,\n",
              "        0.65098039, 1.        , 0.96862745, 0.49803922, 0.        ,\n",
              "        0.        , 0.        , 0.        ],\n",
              "       [0.        , 0.        , 0.        , 0.        , 0.        ,\n",
              "        0.        , 0.        , 0.        , 0.11764706, 0.14117647,\n",
              "        0.36862745, 0.60392157, 0.66666667, 0.99215686, 0.99215686,\n",
              "        0.99215686, 0.99215686, 0.99215686, 0.88235294, 0.6745098 ,\n",
              "        0.99215686, 0.94901961, 0.76470588, 0.25098039, 0.        ,\n",
              "        0.        , 0.        , 0.        ],\n",
              "       [0.        , 0.        , 0.        , 0.        , 0.        ,\n",
              "        0.        , 0.        , 0.19215686, 0.93333333, 0.99215686,\n",
              "        0.99215686, 0.99215686, 0.99215686, 0.99215686, 0.99215686,\n",
              "        0.99215686, 0.99215686, 0.98431373, 0.36470588, 0.32156863,\n",
              "        0.32156863, 0.21960784, 0.15294118, 0.        , 0.        ,\n",
              "        0.        , 0.        , 0.        ],\n",
              "       [0.        , 0.        , 0.        , 0.        , 0.        ,\n",
              "        0.        , 0.        , 0.07058824, 0.85882353, 0.99215686,\n",
              "        0.99215686, 0.99215686, 0.99215686, 0.99215686, 0.77647059,\n",
              "        0.71372549, 0.96862745, 0.94509804, 0.        , 0.        ,\n",
              "        0.        , 0.        , 0.        , 0.        , 0.        ,\n",
              "        0.        , 0.        , 0.        ],\n",
              "       [0.        , 0.        , 0.        , 0.        , 0.        ,\n",
              "        0.        , 0.        , 0.        , 0.31372549, 0.61176471,\n",
              "        0.41960784, 0.99215686, 0.99215686, 0.80392157, 0.04313725,\n",
              "        0.        , 0.16862745, 0.60392157, 0.        , 0.        ,\n",
              "        0.        , 0.        , 0.        , 0.        , 0.        ,\n",
              "        0.        , 0.        , 0.        ],\n",
              "       [0.        , 0.        , 0.        , 0.        , 0.        ,\n",
              "        0.        , 0.        , 0.        , 0.        , 0.05490196,\n",
              "        0.00392157, 0.60392157, 0.99215686, 0.35294118, 0.        ,\n",
              "        0.        , 0.        , 0.        , 0.        , 0.        ,\n",
              "        0.        , 0.        , 0.        , 0.        , 0.        ,\n",
              "        0.        , 0.        , 0.        ],\n",
              "       [0.        , 0.        , 0.        , 0.        , 0.        ,\n",
              "        0.        , 0.        , 0.        , 0.        , 0.        ,\n",
              "        0.        , 0.54509804, 0.99215686, 0.74509804, 0.00784314,\n",
              "        0.        , 0.        , 0.        , 0.        , 0.        ,\n",
              "        0.        , 0.        , 0.        , 0.        , 0.        ,\n",
              "        0.        , 0.        , 0.        ],\n",
              "       [0.        , 0.        , 0.        , 0.        , 0.        ,\n",
              "        0.        , 0.        , 0.        , 0.        , 0.        ,\n",
              "        0.        , 0.04313725, 0.74509804, 0.99215686, 0.2745098 ,\n",
              "        0.        , 0.        , 0.        , 0.        , 0.        ,\n",
              "        0.        , 0.        , 0.        , 0.        , 0.        ,\n",
              "        0.        , 0.        , 0.        ],\n",
              "       [0.        , 0.        , 0.        , 0.        , 0.        ,\n",
              "        0.        , 0.        , 0.        , 0.        , 0.        ,\n",
              "        0.        , 0.        , 0.1372549 , 0.94509804, 0.88235294,\n",
              "        0.62745098, 0.42352941, 0.00392157, 0.        , 0.        ,\n",
              "        0.        , 0.        , 0.        , 0.        , 0.        ,\n",
              "        0.        , 0.        , 0.        ],\n",
              "       [0.        , 0.        , 0.        , 0.        , 0.        ,\n",
              "        0.        , 0.        , 0.        , 0.        , 0.        ,\n",
              "        0.        , 0.        , 0.        , 0.31764706, 0.94117647,\n",
              "        0.99215686, 0.99215686, 0.46666667, 0.09803922, 0.        ,\n",
              "        0.        , 0.        , 0.        , 0.        , 0.        ,\n",
              "        0.        , 0.        , 0.        ],\n",
              "       [0.        , 0.        , 0.        , 0.        , 0.        ,\n",
              "        0.        , 0.        , 0.        , 0.        , 0.        ,\n",
              "        0.        , 0.        , 0.        , 0.        , 0.17647059,\n",
              "        0.72941176, 0.99215686, 0.99215686, 0.58823529, 0.10588235,\n",
              "        0.        , 0.        , 0.        , 0.        , 0.        ,\n",
              "        0.        , 0.        , 0.        ],\n",
              "       [0.        , 0.        , 0.        , 0.        , 0.        ,\n",
              "        0.        , 0.        , 0.        , 0.        , 0.        ,\n",
              "        0.        , 0.        , 0.        , 0.        , 0.        ,\n",
              "        0.0627451 , 0.36470588, 0.98823529, 0.99215686, 0.73333333,\n",
              "        0.        , 0.        , 0.        , 0.        , 0.        ,\n",
              "        0.        , 0.        , 0.        ],\n",
              "       [0.        , 0.        , 0.        , 0.        , 0.        ,\n",
              "        0.        , 0.        , 0.        , 0.        , 0.        ,\n",
              "        0.        , 0.        , 0.        , 0.        , 0.        ,\n",
              "        0.        , 0.        , 0.97647059, 0.99215686, 0.97647059,\n",
              "        0.25098039, 0.        , 0.        , 0.        , 0.        ,\n",
              "        0.        , 0.        , 0.        ],\n",
              "       [0.        , 0.        , 0.        , 0.        , 0.        ,\n",
              "        0.        , 0.        , 0.        , 0.        , 0.        ,\n",
              "        0.        , 0.        , 0.        , 0.        , 0.18039216,\n",
              "        0.50980392, 0.71764706, 0.99215686, 0.99215686, 0.81176471,\n",
              "        0.00784314, 0.        , 0.        , 0.        , 0.        ,\n",
              "        0.        , 0.        , 0.        ],\n",
              "       [0.        , 0.        , 0.        , 0.        , 0.        ,\n",
              "        0.        , 0.        , 0.        , 0.        , 0.        ,\n",
              "        0.        , 0.        , 0.15294118, 0.58039216, 0.89803922,\n",
              "        0.99215686, 0.99215686, 0.99215686, 0.98039216, 0.71372549,\n",
              "        0.        , 0.        , 0.        , 0.        , 0.        ,\n",
              "        0.        , 0.        , 0.        ],\n",
              "       [0.        , 0.        , 0.        , 0.        , 0.        ,\n",
              "        0.        , 0.        , 0.        , 0.        , 0.        ,\n",
              "        0.09411765, 0.44705882, 0.86666667, 0.99215686, 0.99215686,\n",
              "        0.99215686, 0.99215686, 0.78823529, 0.30588235, 0.        ,\n",
              "        0.        , 0.        , 0.        , 0.        , 0.        ,\n",
              "        0.        , 0.        , 0.        ],\n",
              "       [0.        , 0.        , 0.        , 0.        , 0.        ,\n",
              "        0.        , 0.        , 0.        , 0.09019608, 0.25882353,\n",
              "        0.83529412, 0.99215686, 0.99215686, 0.99215686, 0.99215686,\n",
              "        0.77647059, 0.31764706, 0.00784314, 0.        , 0.        ,\n",
              "        0.        , 0.        , 0.        , 0.        , 0.        ,\n",
              "        0.        , 0.        , 0.        ],\n",
              "       [0.        , 0.        , 0.        , 0.        , 0.        ,\n",
              "        0.        , 0.07058824, 0.67058824, 0.85882353, 0.99215686,\n",
              "        0.99215686, 0.99215686, 0.99215686, 0.76470588, 0.31372549,\n",
              "        0.03529412, 0.        , 0.        , 0.        , 0.        ,\n",
              "        0.        , 0.        , 0.        , 0.        , 0.        ,\n",
              "        0.        , 0.        , 0.        ],\n",
              "       [0.        , 0.        , 0.        , 0.        , 0.21568627,\n",
              "        0.6745098 , 0.88627451, 0.99215686, 0.99215686, 0.99215686,\n",
              "        0.99215686, 0.95686275, 0.52156863, 0.04313725, 0.        ,\n",
              "        0.        , 0.        , 0.        , 0.        , 0.        ,\n",
              "        0.        , 0.        , 0.        , 0.        , 0.        ,\n",
              "        0.        , 0.        , 0.        ],\n",
              "       [0.        , 0.        , 0.        , 0.        , 0.53333333,\n",
              "        0.99215686, 0.99215686, 0.99215686, 0.83137255, 0.52941176,\n",
              "        0.51764706, 0.0627451 , 0.        , 0.        , 0.        ,\n",
              "        0.        , 0.        , 0.        , 0.        , 0.        ,\n",
              "        0.        , 0.        , 0.        , 0.        , 0.        ,\n",
              "        0.        , 0.        , 0.        ],\n",
              "       [0.        , 0.        , 0.        , 0.        , 0.        ,\n",
              "        0.        , 0.        , 0.        , 0.        , 0.        ,\n",
              "        0.        , 0.        , 0.        , 0.        , 0.        ,\n",
              "        0.        , 0.        , 0.        , 0.        , 0.        ,\n",
              "        0.        , 0.        , 0.        , 0.        , 0.        ,\n",
              "        0.        , 0.        , 0.        ],\n",
              "       [0.        , 0.        , 0.        , 0.        , 0.        ,\n",
              "        0.        , 0.        , 0.        , 0.        , 0.        ,\n",
              "        0.        , 0.        , 0.        , 0.        , 0.        ,\n",
              "        0.        , 0.        , 0.        , 0.        , 0.        ,\n",
              "        0.        , 0.        , 0.        , 0.        , 0.        ,\n",
              "        0.        , 0.        , 0.        ],\n",
              "       [0.        , 0.        , 0.        , 0.        , 0.        ,\n",
              "        0.        , 0.        , 0.        , 0.        , 0.        ,\n",
              "        0.        , 0.        , 0.        , 0.        , 0.        ,\n",
              "        0.        , 0.        , 0.        , 0.        , 0.        ,\n",
              "        0.        , 0.        , 0.        , 0.        , 0.        ,\n",
              "        0.        , 0.        , 0.        ]])"
            ]
          },
          "metadata": {},
          "execution_count": 9
        }
      ]
    },
    {
      "cell_type": "code",
      "source": [
        "model=Sequential()"
      ],
      "metadata": {
        "id": "JFmy6MNxJEoa"
      },
      "execution_count": 10,
      "outputs": []
    },
    {
      "cell_type": "markdown",
      "source": [
        "# Without Dropout Layers"
      ],
      "metadata": {
        "id": "XbZjCCAY6k8F"
      }
    },
    {
      "cell_type": "code",
      "source": [
        "# Flattning the Pixels values.\n",
        "model.add(Flatten(input_shape=(28,28)))\n",
        "model.add(Dense(128,activation=\"relu\"))\n",
        "model.add(Dense(128,activation=\"relu\"))\n",
        "model.add(Dense(10,activation=\"softmax\"))"
      ],
      "metadata": {
        "id": "PKUnFwI5JKaG"
      },
      "execution_count": 11,
      "outputs": []
    },
    {
      "cell_type": "code",
      "source": [
        "model.summary()"
      ],
      "metadata": {
        "colab": {
          "base_uri": "https://localhost:8080/"
        },
        "id": "Vw03dP3xK-uo",
        "outputId": "8b15c6bf-b2f6-493b-82fc-d54a341012af"
      },
      "execution_count": 12,
      "outputs": [
        {
          "output_type": "stream",
          "name": "stdout",
          "text": [
            "Model: \"sequential\"\n",
            "_________________________________________________________________\n",
            " Layer (type)                Output Shape              Param #   \n",
            "=================================================================\n",
            " flatten (Flatten)           (None, 784)               0         \n",
            "                                                                 \n",
            " dense (Dense)               (None, 128)               100480    \n",
            "                                                                 \n",
            " dense_1 (Dense)             (None, 128)               16512     \n",
            "                                                                 \n",
            " dense_2 (Dense)             (None, 10)                1290      \n",
            "                                                                 \n",
            "=================================================================\n",
            "Total params: 118,282\n",
            "Trainable params: 118,282\n",
            "Non-trainable params: 0\n",
            "_________________________________________________________________\n"
          ]
        }
      ]
    },
    {
      "cell_type": "code",
      "source": [
        "#Compiling my Model.\n",
        "model.compile(loss=\"sparse_categorical_crossentropy\",optimizer=\"Adam\",metrics=[\"accuracy\"])"
      ],
      "metadata": {
        "id": "i7Df4sVDLgXz"
      },
      "execution_count": 13,
      "outputs": []
    },
    {
      "cell_type": "code",
      "source": [
        "#Training thr Model.\n",
        "history=model.fit(X_train,y_train,epochs=100,validation_split=0.2)"
      ],
      "metadata": {
        "colab": {
          "base_uri": "https://localhost:8080/"
        },
        "id": "Ryo6Qr_V_TqM",
        "outputId": "f397a77f-bc71-49be-8a0e-da1f24f10442"
      },
      "execution_count": 17,
      "outputs": [
        {
          "output_type": "stream",
          "name": "stdout",
          "text": [
            "Epoch 1/100\n",
            "1500/1500 [==============================] - 5s 3ms/step - loss: 0.0045 - accuracy: 0.9993 - val_loss: 0.6797 - val_accuracy: 0.9789\n",
            "Epoch 2/100\n",
            "1500/1500 [==============================] - 4s 3ms/step - loss: 0.0030 - accuracy: 0.9996 - val_loss: 0.7444 - val_accuracy: 0.9786\n",
            "Epoch 3/100\n",
            "1500/1500 [==============================] - 5s 3ms/step - loss: 0.0084 - accuracy: 0.9991 - val_loss: 0.7451 - val_accuracy: 0.9783\n",
            "Epoch 4/100\n",
            "1500/1500 [==============================] - 5s 3ms/step - loss: 9.5133e-04 - accuracy: 0.9998 - val_loss: 0.7431 - val_accuracy: 0.9780\n",
            "Epoch 5/100\n",
            "1500/1500 [==============================] - 5s 3ms/step - loss: 0.0040 - accuracy: 0.9996 - val_loss: 0.6879 - val_accuracy: 0.9784\n",
            "Epoch 6/100\n",
            "1500/1500 [==============================] - 5s 3ms/step - loss: 0.0051 - accuracy: 0.9995 - val_loss: 0.6854 - val_accuracy: 0.9803\n",
            "Epoch 7/100\n",
            "1500/1500 [==============================] - 4s 3ms/step - loss: 0.0039 - accuracy: 0.9996 - val_loss: 0.7690 - val_accuracy: 0.9787\n",
            "Epoch 8/100\n",
            "1500/1500 [==============================] - 5s 3ms/step - loss: 0.0047 - accuracy: 0.9994 - val_loss: 0.6845 - val_accuracy: 0.9798\n",
            "Epoch 9/100\n",
            "1500/1500 [==============================] - 5s 3ms/step - loss: 8.8914e-04 - accuracy: 0.9999 - val_loss: 0.7531 - val_accuracy: 0.9783\n",
            "Epoch 10/100\n",
            "1500/1500 [==============================] - 4s 3ms/step - loss: 0.0044 - accuracy: 0.9994 - val_loss: 0.7658 - val_accuracy: 0.9788\n",
            "Epoch 11/100\n",
            "1500/1500 [==============================] - 5s 3ms/step - loss: 0.0037 - accuracy: 0.9994 - val_loss: 0.7030 - val_accuracy: 0.9783\n",
            "Epoch 12/100\n",
            "1500/1500 [==============================] - 4s 3ms/step - loss: 0.0030 - accuracy: 0.9996 - val_loss: 0.7229 - val_accuracy: 0.9779\n",
            "Epoch 13/100\n",
            "1500/1500 [==============================] - 4s 3ms/step - loss: 0.0054 - accuracy: 0.9994 - val_loss: 0.7114 - val_accuracy: 0.9778\n",
            "Epoch 14/100\n",
            "1500/1500 [==============================] - 5s 4ms/step - loss: 0.0063 - accuracy: 0.9995 - val_loss: 0.7454 - val_accuracy: 0.9783\n",
            "Epoch 15/100\n",
            "1500/1500 [==============================] - 4s 3ms/step - loss: 0.0026 - accuracy: 0.9996 - val_loss: 0.8290 - val_accuracy: 0.9781\n",
            "Epoch 16/100\n",
            "1500/1500 [==============================] - 5s 4ms/step - loss: 0.0032 - accuracy: 0.9995 - val_loss: 0.7182 - val_accuracy: 0.9794\n",
            "Epoch 17/100\n",
            "1500/1500 [==============================] - 5s 3ms/step - loss: 0.0051 - accuracy: 0.9995 - val_loss: 0.7420 - val_accuracy: 0.9784\n",
            "Epoch 18/100\n",
            "1500/1500 [==============================] - 4s 3ms/step - loss: 0.0050 - accuracy: 0.9993 - val_loss: 0.6546 - val_accuracy: 0.9812\n",
            "Epoch 19/100\n",
            "1500/1500 [==============================] - 5s 3ms/step - loss: 0.0046 - accuracy: 0.9994 - val_loss: 0.7357 - val_accuracy: 0.9795\n",
            "Epoch 20/100\n",
            "1500/1500 [==============================] - 4s 3ms/step - loss: 0.0026 - accuracy: 0.9998 - val_loss: 0.7393 - val_accuracy: 0.9784\n",
            "Epoch 21/100\n",
            "1500/1500 [==============================] - 6s 4ms/step - loss: 0.0046 - accuracy: 0.9995 - val_loss: 0.7374 - val_accuracy: 0.9795\n",
            "Epoch 22/100\n",
            "1500/1500 [==============================] - 5s 3ms/step - loss: 0.0028 - accuracy: 0.9996 - val_loss: 0.6853 - val_accuracy: 0.9797\n",
            "Epoch 23/100\n",
            "1500/1500 [==============================] - 4s 3ms/step - loss: 0.0049 - accuracy: 0.9995 - val_loss: 0.7032 - val_accuracy: 0.9803\n",
            "Epoch 24/100\n",
            "1500/1500 [==============================] - 5s 3ms/step - loss: 0.0020 - accuracy: 0.9998 - val_loss: 0.7362 - val_accuracy: 0.9797\n",
            "Epoch 25/100\n",
            "1500/1500 [==============================] - 5s 3ms/step - loss: 0.0066 - accuracy: 0.9992 - val_loss: 0.8392 - val_accuracy: 0.9779\n",
            "Epoch 26/100\n",
            "1500/1500 [==============================] - 5s 3ms/step - loss: 0.0035 - accuracy: 0.9994 - val_loss: 0.7826 - val_accuracy: 0.9783\n",
            "Epoch 27/100\n",
            "1500/1500 [==============================] - 5s 3ms/step - loss: 0.0023 - accuracy: 0.9998 - val_loss: 0.7787 - val_accuracy: 0.9778\n",
            "Epoch 28/100\n",
            "1500/1500 [==============================] - 4s 3ms/step - loss: 0.0063 - accuracy: 0.9995 - val_loss: 0.7675 - val_accuracy: 0.9795\n",
            "Epoch 29/100\n",
            "1500/1500 [==============================] - 5s 3ms/step - loss: 0.0024 - accuracy: 0.9997 - val_loss: 0.7725 - val_accuracy: 0.9787\n",
            "Epoch 30/100\n",
            "1500/1500 [==============================] - 5s 3ms/step - loss: 0.0099 - accuracy: 0.9992 - val_loss: 0.8201 - val_accuracy: 0.9765\n",
            "Epoch 31/100\n",
            "1500/1500 [==============================] - 5s 3ms/step - loss: 0.0063 - accuracy: 0.9995 - val_loss: 0.7150 - val_accuracy: 0.9794\n",
            "Epoch 32/100\n",
            "1500/1500 [==============================] - 5s 3ms/step - loss: 7.5789e-04 - accuracy: 0.9999 - val_loss: 0.7581 - val_accuracy: 0.9792\n",
            "Epoch 33/100\n",
            "1500/1500 [==============================] - 4s 3ms/step - loss: 0.0062 - accuracy: 0.9995 - val_loss: 0.7602 - val_accuracy: 0.9787\n",
            "Epoch 34/100\n",
            "1500/1500 [==============================] - 5s 4ms/step - loss: 0.0026 - accuracy: 0.9996 - val_loss: 0.8192 - val_accuracy: 0.9778\n",
            "Epoch 35/100\n",
            "1500/1500 [==============================] - 5s 3ms/step - loss: 0.0063 - accuracy: 0.9995 - val_loss: 0.7870 - val_accuracy: 0.9786\n",
            "Epoch 36/100\n",
            "1500/1500 [==============================] - 5s 3ms/step - loss: 0.0024 - accuracy: 0.9998 - val_loss: 0.8110 - val_accuracy: 0.9786\n",
            "Epoch 37/100\n",
            "1500/1500 [==============================] - 5s 3ms/step - loss: 0.0038 - accuracy: 0.9995 - val_loss: 0.9387 - val_accuracy: 0.9760\n",
            "Epoch 38/100\n",
            "1500/1500 [==============================] - 5s 3ms/step - loss: 0.0046 - accuracy: 0.9994 - val_loss: 0.7794 - val_accuracy: 0.9769\n",
            "Epoch 39/100\n",
            "1500/1500 [==============================] - 6s 4ms/step - loss: 0.0027 - accuracy: 0.9996 - val_loss: 0.7425 - val_accuracy: 0.9795\n",
            "Epoch 40/100\n",
            "1500/1500 [==============================] - 5s 3ms/step - loss: 9.6889e-04 - accuracy: 0.9998 - val_loss: 0.8386 - val_accuracy: 0.9775\n",
            "Epoch 41/100\n",
            "1500/1500 [==============================] - 4s 3ms/step - loss: 0.0044 - accuracy: 0.9995 - val_loss: 0.7599 - val_accuracy: 0.9800\n",
            "Epoch 42/100\n",
            "1500/1500 [==============================] - 5s 3ms/step - loss: 0.0032 - accuracy: 0.9997 - val_loss: 0.8283 - val_accuracy: 0.9790\n",
            "Epoch 43/100\n",
            "1500/1500 [==============================] - 4s 3ms/step - loss: 0.0012 - accuracy: 0.9999 - val_loss: 0.7949 - val_accuracy: 0.9794\n",
            "Epoch 44/100\n",
            "1500/1500 [==============================] - 5s 3ms/step - loss: 0.0038 - accuracy: 0.9995 - val_loss: 0.8538 - val_accuracy: 0.9788\n",
            "Epoch 45/100\n",
            "1500/1500 [==============================] - 5s 3ms/step - loss: 0.0079 - accuracy: 0.9993 - val_loss: 0.8454 - val_accuracy: 0.9803\n",
            "Epoch 46/100\n",
            "1500/1500 [==============================] - 4s 3ms/step - loss: 0.0031 - accuracy: 0.9998 - val_loss: 0.7958 - val_accuracy: 0.9804\n",
            "Epoch 47/100\n",
            "1500/1500 [==============================] - 5s 4ms/step - loss: 0.0036 - accuracy: 0.9998 - val_loss: 0.7996 - val_accuracy: 0.9783\n",
            "Epoch 48/100\n",
            "1500/1500 [==============================] - 4s 3ms/step - loss: 0.0073 - accuracy: 0.9994 - val_loss: 0.8281 - val_accuracy: 0.9782\n",
            "Epoch 49/100\n",
            "1500/1500 [==============================] - 5s 3ms/step - loss: 0.0029 - accuracy: 0.9998 - val_loss: 0.7692 - val_accuracy: 0.9803\n",
            "Epoch 50/100\n",
            "1500/1500 [==============================] - 5s 3ms/step - loss: 9.4223e-04 - accuracy: 0.9998 - val_loss: 0.9634 - val_accuracy: 0.9772\n",
            "Epoch 51/100\n",
            "1500/1500 [==============================] - 5s 3ms/step - loss: 0.0045 - accuracy: 0.9994 - val_loss: 0.7997 - val_accuracy: 0.9784\n",
            "Epoch 52/100\n",
            "1500/1500 [==============================] - 5s 4ms/step - loss: 0.0038 - accuracy: 0.9996 - val_loss: 0.8205 - val_accuracy: 0.9782\n",
            "Epoch 53/100\n",
            "1500/1500 [==============================] - 5s 3ms/step - loss: 0.0056 - accuracy: 0.9994 - val_loss: 0.8501 - val_accuracy: 0.9773\n",
            "Epoch 54/100\n",
            "1500/1500 [==============================] - 5s 3ms/step - loss: 0.0038 - accuracy: 0.9995 - val_loss: 0.8276 - val_accuracy: 0.9772\n",
            "Epoch 55/100\n",
            "1500/1500 [==============================] - 5s 3ms/step - loss: 0.0034 - accuracy: 0.9996 - val_loss: 0.8283 - val_accuracy: 0.9795\n",
            "Epoch 56/100\n",
            "1500/1500 [==============================] - 5s 3ms/step - loss: 0.0048 - accuracy: 0.9995 - val_loss: 0.8991 - val_accuracy: 0.9787\n",
            "Epoch 57/100\n",
            "1500/1500 [==============================] - 5s 4ms/step - loss: 0.0053 - accuracy: 0.9994 - val_loss: 0.8502 - val_accuracy: 0.9780\n",
            "Epoch 58/100\n",
            "1500/1500 [==============================] - 5s 3ms/step - loss: 0.0039 - accuracy: 0.9997 - val_loss: 0.8285 - val_accuracy: 0.9787\n",
            "Epoch 59/100\n",
            "1500/1500 [==============================] - 5s 4ms/step - loss: 0.0041 - accuracy: 0.9996 - val_loss: 0.8571 - val_accuracy: 0.9794\n",
            "Epoch 60/100\n",
            "1500/1500 [==============================] - 5s 3ms/step - loss: 0.0059 - accuracy: 0.9995 - val_loss: 0.8570 - val_accuracy: 0.9787\n",
            "Epoch 61/100\n",
            "1500/1500 [==============================] - 4s 3ms/step - loss: 0.0059 - accuracy: 0.9994 - val_loss: 0.8158 - val_accuracy: 0.9795\n",
            "Epoch 62/100\n",
            "1500/1500 [==============================] - 5s 4ms/step - loss: 0.0041 - accuracy: 0.9996 - val_loss: 0.8244 - val_accuracy: 0.9802\n",
            "Epoch 63/100\n",
            "1500/1500 [==============================] - 4s 3ms/step - loss: 0.0040 - accuracy: 0.9997 - val_loss: 0.9869 - val_accuracy: 0.9777\n",
            "Epoch 64/100\n",
            "1500/1500 [==============================] - 5s 3ms/step - loss: 0.0060 - accuracy: 0.9994 - val_loss: 0.9239 - val_accuracy: 0.9784\n",
            "Epoch 65/100\n",
            "1500/1500 [==============================] - 5s 3ms/step - loss: 0.0043 - accuracy: 0.9995 - val_loss: 0.9201 - val_accuracy: 0.9795\n",
            "Epoch 66/100\n",
            "1500/1500 [==============================] - 5s 3ms/step - loss: 0.0025 - accuracy: 0.9997 - val_loss: 0.9244 - val_accuracy: 0.9789\n",
            "Epoch 67/100\n",
            "1500/1500 [==============================] - 5s 3ms/step - loss: 0.0054 - accuracy: 0.9995 - val_loss: 0.8653 - val_accuracy: 0.9805\n",
            "Epoch 68/100\n",
            "1500/1500 [==============================] - 5s 3ms/step - loss: 0.0045 - accuracy: 0.9996 - val_loss: 0.8830 - val_accuracy: 0.9784\n",
            "Epoch 69/100\n",
            "1500/1500 [==============================] - 5s 3ms/step - loss: 0.0050 - accuracy: 0.9995 - val_loss: 0.9355 - val_accuracy: 0.9781\n",
            "Epoch 70/100\n",
            "1500/1500 [==============================] - 5s 3ms/step - loss: 0.0026 - accuracy: 0.9997 - val_loss: 0.9021 - val_accuracy: 0.9786\n",
            "Epoch 71/100\n",
            "1500/1500 [==============================] - 4s 3ms/step - loss: 0.0058 - accuracy: 0.9994 - val_loss: 0.8670 - val_accuracy: 0.9795\n",
            "Epoch 72/100\n",
            "1500/1500 [==============================] - 5s 3ms/step - loss: 0.0059 - accuracy: 0.9995 - val_loss: 0.8485 - val_accuracy: 0.9792\n",
            "Epoch 73/100\n",
            "1500/1500 [==============================] - 5s 3ms/step - loss: 0.0022 - accuracy: 0.9998 - val_loss: 0.8761 - val_accuracy: 0.9804\n",
            "Epoch 74/100\n",
            "1500/1500 [==============================] - 5s 4ms/step - loss: 0.0059 - accuracy: 0.9994 - val_loss: 0.8898 - val_accuracy: 0.9790\n",
            "Epoch 75/100\n",
            "1500/1500 [==============================] - 5s 3ms/step - loss: 0.0019 - accuracy: 0.9998 - val_loss: 0.9883 - val_accuracy: 0.9783\n",
            "Epoch 76/100\n",
            "1500/1500 [==============================] - 4s 3ms/step - loss: 0.0040 - accuracy: 0.9997 - val_loss: 0.9227 - val_accuracy: 0.9797\n",
            "Epoch 77/100\n",
            "1500/1500 [==============================] - 5s 3ms/step - loss: 0.0039 - accuracy: 0.9997 - val_loss: 0.9369 - val_accuracy: 0.9792\n",
            "Epoch 78/100\n",
            "1500/1500 [==============================] - 5s 3ms/step - loss: 0.0055 - accuracy: 0.9996 - val_loss: 0.8400 - val_accuracy: 0.9803\n",
            "Epoch 79/100\n",
            "1500/1500 [==============================] - 5s 3ms/step - loss: 0.0031 - accuracy: 0.9996 - val_loss: 0.9824 - val_accuracy: 0.9797\n",
            "Epoch 80/100\n",
            "1500/1500 [==============================] - 5s 3ms/step - loss: 0.0018 - accuracy: 0.9998 - val_loss: 0.9519 - val_accuracy: 0.9799\n",
            "Epoch 81/100\n",
            "1500/1500 [==============================] - 4s 3ms/step - loss: 0.0061 - accuracy: 0.9994 - val_loss: 1.0129 - val_accuracy: 0.9794\n",
            "Epoch 82/100\n",
            "1500/1500 [==============================] - 5s 3ms/step - loss: 0.0058 - accuracy: 0.9996 - val_loss: 1.0341 - val_accuracy: 0.9772\n",
            "Epoch 83/100\n",
            "1500/1500 [==============================] - 5s 3ms/step - loss: 0.0034 - accuracy: 0.9997 - val_loss: 0.8785 - val_accuracy: 0.9794\n",
            "Epoch 84/100\n",
            "1500/1500 [==============================] - 5s 3ms/step - loss: 0.0032 - accuracy: 0.9996 - val_loss: 0.9175 - val_accuracy: 0.9795\n",
            "Epoch 85/100\n",
            "1500/1500 [==============================] - 5s 3ms/step - loss: 0.0036 - accuracy: 0.9996 - val_loss: 0.8437 - val_accuracy: 0.9809\n",
            "Epoch 86/100\n",
            "1500/1500 [==============================] - 4s 3ms/step - loss: 0.0028 - accuracy: 0.9998 - val_loss: 0.8170 - val_accuracy: 0.9819\n",
            "Epoch 87/100\n",
            "1500/1500 [==============================] - 5s 3ms/step - loss: 0.0063 - accuracy: 0.9995 - val_loss: 0.8363 - val_accuracy: 0.9798\n",
            "Epoch 88/100\n",
            "1500/1500 [==============================] - 5s 3ms/step - loss: 0.0059 - accuracy: 0.9993 - val_loss: 0.9497 - val_accuracy: 0.9796\n",
            "Epoch 89/100\n",
            "1500/1500 [==============================] - 5s 3ms/step - loss: 0.0027 - accuracy: 0.9995 - val_loss: 0.9114 - val_accuracy: 0.9795\n",
            "Epoch 90/100\n",
            "1500/1500 [==============================] - 5s 3ms/step - loss: 0.0036 - accuracy: 0.9996 - val_loss: 0.9048 - val_accuracy: 0.9781\n",
            "Epoch 91/100\n",
            "1500/1500 [==============================] - 5s 3ms/step - loss: 0.0050 - accuracy: 0.9996 - val_loss: 0.9492 - val_accuracy: 0.9794\n",
            "Epoch 92/100\n",
            "1500/1500 [==============================] - 5s 3ms/step - loss: 0.0072 - accuracy: 0.9995 - val_loss: 0.9760 - val_accuracy: 0.9788\n",
            "Epoch 93/100\n",
            "1500/1500 [==============================] - 5s 3ms/step - loss: 0.0028 - accuracy: 0.9997 - val_loss: 1.0885 - val_accuracy: 0.9776\n",
            "Epoch 94/100\n",
            "1500/1500 [==============================] - 5s 3ms/step - loss: 0.0044 - accuracy: 0.9996 - val_loss: 0.9587 - val_accuracy: 0.9783\n",
            "Epoch 95/100\n",
            "1500/1500 [==============================] - 5s 3ms/step - loss: 0.0034 - accuracy: 0.9996 - val_loss: 0.9278 - val_accuracy: 0.9788\n",
            "Epoch 96/100\n",
            "1500/1500 [==============================] - 5s 3ms/step - loss: 0.0029 - accuracy: 0.9997 - val_loss: 0.9192 - val_accuracy: 0.9783\n",
            "Epoch 97/100\n",
            "1500/1500 [==============================] - 5s 4ms/step - loss: 0.0017 - accuracy: 0.9998 - val_loss: 0.8977 - val_accuracy: 0.9793\n",
            "Epoch 98/100\n",
            "1500/1500 [==============================] - 5s 3ms/step - loss: 0.0064 - accuracy: 0.9994 - val_loss: 0.9726 - val_accuracy: 0.9790\n",
            "Epoch 99/100\n",
            "1500/1500 [==============================] - 5s 3ms/step - loss: 0.0033 - accuracy: 0.9996 - val_loss: 0.9924 - val_accuracy: 0.9782\n",
            "Epoch 100/100\n",
            "1500/1500 [==============================] - 5s 3ms/step - loss: 0.0041 - accuracy: 0.9995 - val_loss: 0.8737 - val_accuracy: 0.9810\n"
          ]
        }
      ]
    },
    {
      "cell_type": "code",
      "source": [
        "Y_Probability=model.predict(X_test)"
      ],
      "metadata": {
        "colab": {
          "base_uri": "https://localhost:8080/"
        },
        "id": "nkgnxALfNXKn",
        "outputId": "57b46c62-cc58-4979-ed5a-951676487921"
      },
      "execution_count": 18,
      "outputs": [
        {
          "output_type": "stream",
          "name": "stdout",
          "text": [
            "313/313 [==============================] - 1s 2ms/step\n"
          ]
        }
      ]
    },
    {
      "cell_type": "code",
      "source": [
        "Y_Predicted=Y_Probability.argmax(axis=1)"
      ],
      "metadata": {
        "id": "N4-I7FHlNjYA"
      },
      "execution_count": 19,
      "outputs": []
    },
    {
      "cell_type": "code",
      "source": [
        "from sklearn.metrics import accuracy_score\n",
        "accuracy_score(y_test,Y_Predicted)"
      ],
      "metadata": {
        "colab": {
          "base_uri": "https://localhost:8080/"
        },
        "id": "8iiJQmYWOb35",
        "outputId": "b0c600d5-b366-49ac-a6c5-56ffca0dba83"
      },
      "execution_count": 20,
      "outputs": [
        {
          "output_type": "execute_result",
          "data": {
            "text/plain": [
              "0.9796"
            ]
          },
          "metadata": {},
          "execution_count": 20
        }
      ]
    },
    {
      "cell_type": "code",
      "source": [
        "import matplotlib.pyplot as plt\n",
        "plt.plot(history.history[\"loss\"])\n",
        "plt.plot(history.history[\"val_loss\"])"
      ],
      "metadata": {
        "colab": {
          "base_uri": "https://localhost:8080/",
          "height": 447
        },
        "id": "0xrHyqLgSMZa",
        "outputId": "e3ab9270-0e4e-4fea-825b-d8f532e0f9c7"
      },
      "execution_count": 21,
      "outputs": [
        {
          "output_type": "execute_result",
          "data": {
            "text/plain": [
              "[<matplotlib.lines.Line2D at 0x7fb2d377b130>]"
            ]
          },
          "metadata": {},
          "execution_count": 21
        },
        {
          "output_type": "display_data",
          "data": {
            "text/plain": [
              "<Figure size 640x480 with 1 Axes>"
            ],
            "image/png": "[encoded data removed]"
          },
          "metadata": {}
        }
      ]
    },
    {
      "cell_type": "code",
      "source": [
        "plt.plot(history.history[\"accuracy\"])\n",
        "plt.plot(history.history[\"val_accuracy\"])"
      ],
      "metadata": {
        "colab": {
          "base_uri": "https://localhost:8080/",
          "height": 447
        },
        "id": "xSRVoe5_TNck",
        "outputId": "2f6e2284-cad6-4782-8a19-e42a1a0155eb"
      },
      "execution_count": 22,
      "outputs": [
        {
          "output_type": "execute_result",
          "data": {
            "text/plain": [
              "[<matplotlib.lines.Line2D at 0x7fb2d36282e0>]"
            ]
          },
          "metadata": {},
          "execution_count": 22
        },
        {
          "output_type": "display_data",
          "data": {
            "text/plain": [
              "<Figure size 640x480 with 1 Axes>"
            ],
            "image/png": "[encoded data removed]"
          },
          "metadata": {}
        }
      ]
    },
    {
      "cell_type": "markdown",
      "source": [
        "# With Dropout Layers"
      ],
      "metadata": {
        "id": "X7-fA_PQ64g_"
      }
    },
    {
      "cell_type": "code",
      "source": [
        "# Flattning the Pixels values.\n",
        "model.add(Flatten(input_shape=(28,28)))\n",
        "model.add(Dense(128,activation=\"relu\"))\n",
        "model.add(Dropout(0.5))\n",
        "model.add(Dense(128,activation=\"relu\"))\n",
        "model.add(Dropout(0.5))\n",
        "model.add(Dense(10,activation=\"softmax\"))"
      ],
      "metadata": {
        "id": "dVQXKtuh63BU"
      },
      "execution_count": 23,
      "outputs": []
    },
    {
      "cell_type": "code",
      "source": [
        "model.summary()"
      ],
      "metadata": {
        "colab": {
          "base_uri": "https://localhost:8080/"
        },
        "id": "LK9FYVoe63D7",
        "outputId": "0614035f-3352-41db-c4fd-9296a9ddf0f2"
      },
      "execution_count": 24,
      "outputs": [
        {
          "output_type": "stream",
          "name": "stdout",
          "text": [
            "Model: \"sequential\"\n",
            "_________________________________________________________________\n",
            " Layer (type)                Output Shape              Param #   \n",
            "=================================================================\n",
            " flatten (Flatten)           (None, 784)               0         \n",
            "                                                                 \n",
            " dense (Dense)               (None, 128)               100480    \n",
            "                                                                 \n",
            " dense_1 (Dense)             (None, 128)               16512     \n",
            "                                                                 \n",
            " dense_2 (Dense)             (None, 10)                1290      \n",
            "                                                                 \n",
            " flatten_1 (Flatten)         (None, 10)                0         \n",
            "                                                                 \n",
            " dense_3 (Dense)             (None, 128)               1408      \n",
            "                                                                 \n",
            " dropout (Dropout)           (None, 128)               0         \n",
            "                                                                 \n",
            " dense_4 (Dense)             (None, 128)               16512     \n",
            "                                                                 \n",
            " dropout_1 (Dropout)         (None, 128)               0         \n",
            "                                                                 \n",
            " dense_5 (Dense)             (None, 10)                1290      \n",
            "                                                                 \n",
            "=================================================================\n",
            "Total params: 137,492\n",
            "Trainable params: 137,492\n",
            "Non-trainable params: 0\n",
            "_________________________________________________________________\n"
          ]
        }
      ]
    },
    {
      "cell_type": "code",
      "source": [
        "#Compiling my Model.\n",
        "model.compile(loss=\"sparse_categorical_crossentropy\",optimizer=\"Adam\",metrics=[\"accuracy\"])"
      ],
      "metadata": {
        "id": "GHR3If6X63Gb"
      },
      "execution_count": 25,
      "outputs": []
    },
    {
      "cell_type": "code",
      "source": [
        "#Training the Model.\n",
        "history=model.fit(X_train,y_train,epochs=30,validation_split=0.2)"
      ],
      "metadata": {
        "colab": {
          "base_uri": "https://localhost:8080/"
        },
        "id": "GMrWdgXX63It",
        "outputId": "91382a49-f6bc-4581-a409-657566b6f99f"
      },
      "execution_count": 32,
      "outputs": [
        {
          "output_type": "stream",
          "name": "stdout",
          "text": [
            "Epoch 1/30\n",
            "1500/1500 [==============================] - 6s 4ms/step - loss: 0.0146 - accuracy: 0.9988 - val_loss: 0.2920 - val_accuracy: 0.9791\n",
            "Epoch 2/30\n",
            "1500/1500 [==============================] - 6s 4ms/step - loss: 0.0336 - accuracy: 0.9967 - val_loss: 0.2565 - val_accuracy: 0.9753\n",
            "Epoch 3/30\n",
            "1500/1500 [==============================] - 6s 4ms/step - loss: 0.0282 - accuracy: 0.9970 - val_loss: 0.2843 - val_accuracy: 0.9726\n",
            "Epoch 4/30\n",
            "1500/1500 [==============================] - 7s 5ms/step - loss: 0.0252 - accuracy: 0.9975 - val_loss: 0.2825 - val_accuracy: 0.9773\n",
            "Epoch 5/30\n",
            "1500/1500 [==============================] - 7s 4ms/step - loss: 0.0192 - accuracy: 0.9981 - val_loss: 0.2839 - val_accuracy: 0.9777\n",
            "Epoch 6/30\n",
            "1500/1500 [==============================] - 6s 4ms/step - loss: 0.0229 - accuracy: 0.9979 - val_loss: 0.2921 - val_accuracy: 0.9757\n",
            "Epoch 7/30\n",
            "1500/1500 [==============================] - 7s 5ms/step - loss: 0.0280 - accuracy: 0.9975 - val_loss: 0.2680 - val_accuracy: 0.9756\n",
            "Epoch 8/30\n",
            "1500/1500 [==============================] - 6s 4ms/step - loss: 0.0240 - accuracy: 0.9978 - val_loss: 0.2917 - val_accuracy: 0.9757\n",
            "Epoch 9/30\n",
            "1500/1500 [==============================] - 7s 4ms/step - loss: 0.0239 - accuracy: 0.9975 - val_loss: 0.2929 - val_accuracy: 0.9777\n",
            "Epoch 10/30\n",
            "1500/1500 [==============================] - 6s 4ms/step - loss: 0.0364 - accuracy: 0.9958 - val_loss: 0.2560 - val_accuracy: 0.9749\n",
            "Epoch 11/30\n",
            "1500/1500 [==============================] - 6s 4ms/step - loss: 0.0357 - accuracy: 0.9962 - val_loss: 0.2518 - val_accuracy: 0.9787\n",
            "Epoch 12/30\n",
            "1500/1500 [==============================] - 6s 4ms/step - loss: 0.0276 - accuracy: 0.9972 - val_loss: 0.2616 - val_accuracy: 0.9769\n",
            "Epoch 13/30\n",
            "1500/1500 [==============================] - 6s 4ms/step - loss: 0.0258 - accuracy: 0.9971 - val_loss: 0.2751 - val_accuracy: 0.9756\n",
            "Epoch 14/30\n",
            "1500/1500 [==============================] - 6s 4ms/step - loss: 0.0298 - accuracy: 0.9969 - val_loss: 0.2695 - val_accuracy: 0.9783\n",
            "Epoch 15/30\n",
            "1500/1500 [==============================] - 6s 4ms/step - loss: 0.0266 - accuracy: 0.9972 - val_loss: 0.2643 - val_accuracy: 0.9744\n",
            "Epoch 16/30\n",
            "1500/1500 [==============================] - 6s 4ms/step - loss: 0.0344 - accuracy: 0.9966 - val_loss: 0.2745 - val_accuracy: 0.9763\n",
            "Epoch 17/30\n",
            "1500/1500 [==============================] - 7s 5ms/step - loss: 0.0242 - accuracy: 0.9973 - val_loss: 0.3047 - val_accuracy: 0.9772\n",
            "Epoch 18/30\n",
            "1500/1500 [==============================] - 6s 4ms/step - loss: 0.0238 - accuracy: 0.9972 - val_loss: 0.2719 - val_accuracy: 0.9735\n",
            "Epoch 19/30\n",
            "1500/1500 [==============================] - 6s 4ms/step - loss: 0.0220 - accuracy: 0.9972 - val_loss: 0.3012 - val_accuracy: 0.9776\n",
            "Epoch 20/30\n",
            "1500/1500 [==============================] - 6s 4ms/step - loss: 0.0314 - accuracy: 0.9964 - val_loss: 0.2553 - val_accuracy: 0.9779\n",
            "Epoch 21/30\n",
            "1500/1500 [==============================] - 6s 4ms/step - loss: 0.0285 - accuracy: 0.9969 - val_loss: 0.2970 - val_accuracy: 0.9764\n",
            "Epoch 22/30\n",
            "1500/1500 [==============================] - 6s 4ms/step - loss: 0.0285 - accuracy: 0.9969 - val_loss: 0.2856 - val_accuracy: 0.9758\n",
            "Epoch 23/30\n",
            "1500/1500 [==============================] - 6s 4ms/step - loss: 0.0369 - accuracy: 0.9957 - val_loss: 0.2469 - val_accuracy: 0.9773\n",
            "Epoch 24/30\n",
            "1500/1500 [==============================] - 6s 4ms/step - loss: 0.0454 - accuracy: 0.9944 - val_loss: 0.2418 - val_accuracy: 0.9743\n",
            "Epoch 25/30\n",
            "1500/1500 [==============================] - 6s 4ms/step - loss: 0.0407 - accuracy: 0.9950 - val_loss: 0.2605 - val_accuracy: 0.9743\n",
            "Epoch 26/30\n",
            "1500/1500 [==============================] - 6s 4ms/step - loss: 0.0571 - accuracy: 0.9927 - val_loss: 0.2936 - val_accuracy: 0.9719\n",
            "Epoch 27/30\n",
            "1500/1500 [==============================] - 6s 4ms/step - loss: 0.0418 - accuracy: 0.9951 - val_loss: 0.2737 - val_accuracy: 0.9772\n",
            "Epoch 28/30\n",
            "1500/1500 [==============================] - 7s 5ms/step - loss: 0.0253 - accuracy: 0.9970 - val_loss: 0.2858 - val_accuracy: 0.9781\n",
            "Epoch 29/30\n",
            "1500/1500 [==============================] - 6s 4ms/step - loss: 0.0368 - accuracy: 0.9958 - val_loss: 0.2660 - val_accuracy: 0.9754\n",
            "Epoch 30/30\n",
            "1500/1500 [==============================] - 7s 5ms/step - loss: 0.0304 - accuracy: 0.9966 - val_loss: 0.2743 - val_accuracy: 0.9781\n"
          ]
        }
      ]
    },
    {
      "cell_type": "code",
      "source": [
        "Y_Probability=model.predict(X_test)"
      ],
      "metadata": {
        "colab": {
          "base_uri": "https://localhost:8080/"
        },
        "id": "A4jbLvGk63LW",
        "outputId": "956e494b-6464-4cc2-8505-64e096766844"
      },
      "execution_count": 33,
      "outputs": [
        {
          "output_type": "stream",
          "name": "stdout",
          "text": [
            "313/313 [==============================] - 1s 2ms/step\n"
          ]
        }
      ]
    },
    {
      "cell_type": "code",
      "source": [
        "Y_Predicted=Y_Probability.argmax(axis=1)"
      ],
      "metadata": {
        "id": "BrUj9IBL63N4"
      },
      "execution_count": 34,
      "outputs": []
    },
    {
      "cell_type": "code",
      "source": [
        "from sklearn.metrics import accuracy_score\n",
        "accuracy_score(y_test,Y_Predicted)"
      ],
      "metadata": {
        "colab": {
          "base_uri": "https://localhost:8080/"
        },
        "id": "ZNju9nHe63QO",
        "outputId": "1adc8158-4546-46cf-b367-0a1b26b12c9b"
      },
      "execution_count": 35,
      "outputs": [
        {
          "output_type": "execute_result",
          "data": {
            "text/plain": [
              "0.9783"
            ]
          },
          "metadata": {},
          "execution_count": 35
        }
      ]
    },
    {
      "cell_type": "code",
      "source": [
        "import matplotlib.pyplot as plt\n",
        "plt.plot(history.history[\"loss\"])\n",
        "plt.plot(history.history[\"val_loss\"])"
      ],
      "metadata": {
        "colab": {
          "base_uri": "https://localhost:8080/",
          "height": 447
        },
        "id": "vED3FsFV63Sh",
        "outputId": "6d81e7fd-5db3-441e-c983-51d56db52c18"
      },
      "execution_count": 36,
      "outputs": [
        {
          "output_type": "execute_result",
          "data": {
            "text/plain": [
              "[<matplotlib.lines.Line2D at 0x7fb2d37cc1f0>]"
            ]
          },
          "metadata": {},
          "execution_count": 36
        },
        {
          "output_type": "display_data",
          "data": {
            "text/plain": [
              "<Figure size 640x480 with 1 Axes>"
            ],
            "image/png": "[encoded data removed]"
          },
          "metadata": {}
        }
      ]
    },
    {
      "cell_type": "code",
      "source": [
        "plt.plot(history.history[\"accuracy\"])\n",
        "plt.plot(history.history[\"val_accuracy\"])"
      ],
      "metadata": {
        "colab": {
          "base_uri": "https://localhost:8080/",
          "height": 450
        },
        "id": "ffrfMPt4Fl-G",
        "outputId": "a4a167cb-c841-4298-85ee-42e9ce5fab11"
      },
      "execution_count": 37,
      "outputs": [
        {
          "output_type": "execute_result",
          "data": {
            "text/plain": [
              "[<matplotlib.lines.Line2D at 0x7fb2d3497880>]"
            ]
          },
          "metadata": {},
          "execution_count": 37
        },
        {
          "output_type": "display_data",
          "data": {
            "text/plain": [
              "<Figure size 640x480 with 1 Axes>"
            ],
            "image/png": "[encoded data removed]"
          },
          "metadata": {}
        }
      ]
    }
  ]
}